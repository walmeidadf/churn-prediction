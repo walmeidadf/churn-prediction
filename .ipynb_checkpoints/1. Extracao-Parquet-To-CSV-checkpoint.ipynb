{
 "cells": [
  {
   "cell_type": "code",
   "execution_count": 2,
   "metadata": {},
   "outputs": [],
   "source": [
    "import numpy as np\n",
    "import pandas as pd\n",
    "import os\n",
    "from datetime import date, datetime\n",
    "from pathlib import Path"
   ]
  },
  {
   "cell_type": "code",
   "execution_count": 40,
   "metadata": {},
   "outputs": [],
   "source": [
    "# Definindo o local do arquivo Parquet\n",
    "path_parquet = Path('/Users/wesleyalmeida/GitHub/ribon-parquet')\n",
    "file_parquet = 'flurry_user_event_date.parquet'\n",
    "\n",
    "# Tipo String - com '/' no final - local onde serão gravados os arquivos csv's\n",
    "path_csv = '/Users/wesleyalmeida/GitHub/ribon-parquet/'"
   ]
  },
  {
   "cell_type": "code",
   "execution_count": 4,
   "metadata": {},
   "outputs": [
    {
     "name": "stdout",
     "output_type": "stream",
     "text": [
      "CPU times: user 27.5 s, sys: 6.82 s, total: 34.3 s\n",
      "Wall time: 38.8 s\n"
     ]
    }
   ],
   "source": [
    "# Carregando o arquivo parquet para um dataframe: df\n",
    "%%time\n",
    "df = pd.read_parquet(path_parquet/file_parquet)"
   ]
  },
  {
   "cell_type": "code",
   "execution_count": 6,
   "metadata": {},
   "outputs": [
    {
     "name": "stdout",
     "output_type": "stream",
     "text": [
      "<class 'pandas.core.frame.DataFrame'>\n",
      "RangeIndex: 34964844 entries, 0 to 34964843\n",
      "Data columns (total 7 columns):\n",
      "sessionTimestamp    datetime64[ns]\n",
      "deviceModel         object\n",
      "countryISO          object\n",
      "eventName           object\n",
      "eventOffset         object\n",
      "eventParameters     object\n",
      "userId              object\n",
      "dtypes: datetime64[ns](1), object(6)\n",
      "memory usage: 1.8+ GB\n",
      "(34964844, 7) None\n"
     ]
    }
   ],
   "source": [
    "# transformando a coluna sessionTimestamp em formato de data\n",
    "df['sessionTimestamp'] = pd.to_datetime(df.sessionTimestamp, unit='ms')\n",
    "\n",
    "# vendo características importantes do dataframe\n",
    "print(df.shape, df.info())"
   ]
  },
  {
   "cell_type": "code",
   "execution_count": 7,
   "metadata": {},
   "outputs": [
    {
     "data": {
      "text/html": [
       "<div>\n",
       "<style scoped>\n",
       "    .dataframe tbody tr th:only-of-type {\n",
       "        vertical-align: middle;\n",
       "    }\n",
       "\n",
       "    .dataframe tbody tr th {\n",
       "        vertical-align: top;\n",
       "    }\n",
       "\n",
       "    .dataframe thead th {\n",
       "        text-align: right;\n",
       "    }\n",
       "</style>\n",
       "<table border=\"1\" class=\"dataframe\">\n",
       "  <thead>\n",
       "    <tr style=\"text-align: right;\">\n",
       "      <th></th>\n",
       "      <th>sessionTimestamp</th>\n",
       "      <th>deviceModel</th>\n",
       "      <th>countryISO</th>\n",
       "      <th>eventName</th>\n",
       "      <th>eventOffset</th>\n",
       "      <th>eventParameters</th>\n",
       "      <th>userId</th>\n",
       "    </tr>\n",
       "  </thead>\n",
       "  <tbody>\n",
       "    <tr>\n",
       "      <td>0</td>\n",
       "      <td>2017-08-30 21:22:02.235</td>\n",
       "      <td>Moto G4 Plus</td>\n",
       "      <td>BR</td>\n",
       "      <td>Opened</td>\n",
       "      <td>48</td>\n",
       "      <td>{}</td>\n",
       "      <td>aff3df3b88b1e955</td>\n",
       "    </tr>\n",
       "    <tr>\n",
       "      <td>1</td>\n",
       "      <td>2017-08-30 21:14:19.712</td>\n",
       "      <td>Moto G4 Plus</td>\n",
       "      <td>BR</td>\n",
       "      <td>None</td>\n",
       "      <td>None</td>\n",
       "      <td>{}</td>\n",
       "      <td>None</td>\n",
       "    </tr>\n",
       "    <tr>\n",
       "      <td>2</td>\n",
       "      <td>2017-08-28 20:02:01.905</td>\n",
       "      <td>Moto G4 Plus</td>\n",
       "      <td>BR</td>\n",
       "      <td>ativacao</td>\n",
       "      <td>63</td>\n",
       "      <td>{}</td>\n",
       "      <td>1111</td>\n",
       "    </tr>\n",
       "    <tr>\n",
       "      <td>3</td>\n",
       "      <td>2017-08-30 19:10:48.562</td>\n",
       "      <td>Moto G4 Plus</td>\n",
       "      <td>BR</td>\n",
       "      <td>Opened</td>\n",
       "      <td>50</td>\n",
       "      <td>{}</td>\n",
       "      <td>aff3df3b88b1e955</td>\n",
       "    </tr>\n",
       "    <tr>\n",
       "      <td>4</td>\n",
       "      <td>2017-08-29 13:49:46.685</td>\n",
       "      <td>Moto G4 Plus</td>\n",
       "      <td>BR</td>\n",
       "      <td>None</td>\n",
       "      <td>None</td>\n",
       "      <td>{}</td>\n",
       "      <td>None</td>\n",
       "    </tr>\n",
       "  </tbody>\n",
       "</table>\n",
       "</div>"
      ],
      "text/plain": [
       "         sessionTimestamp   deviceModel countryISO eventName eventOffset  \\\n",
       "0 2017-08-30 21:22:02.235  Moto G4 Plus         BR    Opened          48   \n",
       "1 2017-08-30 21:14:19.712  Moto G4 Plus         BR      None        None   \n",
       "2 2017-08-28 20:02:01.905  Moto G4 Plus         BR  ativacao          63   \n",
       "3 2017-08-30 19:10:48.562  Moto G4 Plus         BR    Opened          50   \n",
       "4 2017-08-29 13:49:46.685  Moto G4 Plus         BR      None        None   \n",
       "\n",
       "  eventParameters            userId  \n",
       "0              {}  aff3df3b88b1e955  \n",
       "1              {}              None  \n",
       "2              {}              1111  \n",
       "3              {}  aff3df3b88b1e955  \n",
       "4              {}              None  "
      ]
     },
     "execution_count": 7,
     "metadata": {},
     "output_type": "execute_result"
    }
   ],
   "source": [
    "# Analise das primeiras linhas do dataframe\n",
    "df.head()"
   ]
  },
  {
   "cell_type": "markdown",
   "metadata": {},
   "source": [
    "### Limpeza de Dados"
   ]
  },
  {
   "cell_type": "code",
   "execution_count": 8,
   "metadata": {
    "scrolled": false
   },
   "outputs": [
    {
     "name": "stdout",
     "output_type": "stream",
     "text": [
      "Numero de eventos Nulos:  536170\n",
      "Numero de userId Nulos:  354663\n",
      "Numero de registros com eventos ou Ids nulos:  597316\n"
     ]
    }
   ],
   "source": [
    "# analisando q quantidade de registros com eventos nulos ou userId nulo\n",
    "print('Numero de eventos Nulos: ', df.eventName.isnull().sum())\n",
    "print('Numero de userId Nulos: ', df.userId.isnull().sum())\n",
    "print('Numero de registros com eventos ou Ids nulos: ',\\\n",
    "      df[df.eventName.isnull() | df.userId.isnull()].shape[0])"
   ]
  },
  {
   "cell_type": "code",
   "execution_count": 10,
   "metadata": {},
   "outputs": [
    {
     "data": {
      "text/plain": [
       "(34367528, 7)"
      ]
     },
     "execution_count": 10,
     "metadata": {},
     "output_type": "execute_result"
    }
   ],
   "source": [
    "# removendo os registros com informações nulas no evento e userId\n",
    "df = df[df.eventName.notnull() & df.userId.notnull()]\n",
    "df.shape"
   ]
  },
  {
   "cell_type": "code",
   "execution_count": 11,
   "metadata": {},
   "outputs": [
    {
     "name": "stdout",
     "output_type": "stream",
     "text": [
      "Nro registros com userID = 0 :  928492\n"
     ]
    }
   ],
   "source": [
    "# Analisando o número de usuários com userId igual a 0\n",
    "print('Nro registros com userID = 0 : ', df.loc[df['userId'] == '0'].shape[0])"
   ]
  },
  {
   "cell_type": "code",
   "execution_count": 12,
   "metadata": {},
   "outputs": [
    {
     "data": {
      "text/plain": [
       "(33439036, 7)"
      ]
     },
     "execution_count": 12,
     "metadata": {},
     "output_type": "execute_result"
    }
   ],
   "source": [
    "# Removendo os registros cujo userId é igual a zero.\n",
    "# A premissa é que isso deve ser um erro\n",
    "df = df.loc[df['userId'] != '0']\n",
    "df.shape"
   ]
  },
  {
   "cell_type": "code",
   "execution_count": 13,
   "metadata": {
    "scrolled": true
   },
   "outputs": [
    {
     "data": {
      "text/plain": [
       "62135"
      ]
     },
     "execution_count": 13,
     "metadata": {},
     "output_type": "execute_result"
    }
   ],
   "source": [
    "# Verificando o número de registros cujo o userId não é exclusivamente numérico\n",
    "df.userId.str.contains('\\D+').sum()"
   ]
  },
  {
   "cell_type": "code",
   "execution_count": 14,
   "metadata": {},
   "outputs": [
    {
     "data": {
      "text/plain": [
       "(33376901, 7)"
      ]
     },
     "execution_count": 14,
     "metadata": {},
     "output_type": "execute_result"
    }
   ],
   "source": [
    "df = df[df.userId.str.contains('^\\d+$')]\n",
    "df.shape"
   ]
  },
  {
   "cell_type": "code",
   "execution_count": 18,
   "metadata": {},
   "outputs": [
    {
     "name": "stdout",
     "output_type": "stream",
     "text": [
      "CPU times: user 2.49 s, sys: 10.2 s, total: 12.7 s\n",
      "Wall time: 15.9 s\n"
     ]
    },
    {
     "data": {
      "text/html": [
       "<div>\n",
       "<style scoped>\n",
       "    .dataframe tbody tr th:only-of-type {\n",
       "        vertical-align: middle;\n",
       "    }\n",
       "\n",
       "    .dataframe tbody tr th {\n",
       "        vertical-align: top;\n",
       "    }\n",
       "\n",
       "    .dataframe thead th {\n",
       "        text-align: right;\n",
       "    }\n",
       "</style>\n",
       "<table border=\"1\" class=\"dataframe\">\n",
       "  <thead>\n",
       "    <tr style=\"text-align: right;\">\n",
       "      <th></th>\n",
       "      <th>sessionTimestamp</th>\n",
       "      <th>deviceModel</th>\n",
       "      <th>countryISO</th>\n",
       "      <th>eventName</th>\n",
       "      <th>eventOffset</th>\n",
       "      <th>eventParameters</th>\n",
       "      <th>userId</th>\n",
       "    </tr>\n",
       "  </thead>\n",
       "  <tbody>\n",
       "    <tr>\n",
       "      <td>2</td>\n",
       "      <td>2017-08-28 20:02:01.905</td>\n",
       "      <td>Moto G4 Plus</td>\n",
       "      <td>BR</td>\n",
       "      <td>ativacao</td>\n",
       "      <td>63</td>\n",
       "      <td>{}</td>\n",
       "      <td>1111</td>\n",
       "    </tr>\n",
       "    <tr>\n",
       "      <td>10</td>\n",
       "      <td>2017-08-28 21:00:18.964</td>\n",
       "      <td>Moto G4 Plus</td>\n",
       "      <td>BR</td>\n",
       "      <td>ativacao</td>\n",
       "      <td>107</td>\n",
       "      <td>{}</td>\n",
       "      <td>1111</td>\n",
       "    </tr>\n",
       "    <tr>\n",
       "      <td>11</td>\n",
       "      <td>2017-08-28 21:00:18.964</td>\n",
       "      <td>Moto G4 Plus</td>\n",
       "      <td>BR</td>\n",
       "      <td>uncaught</td>\n",
       "      <td>66356</td>\n",
       "      <td>{}</td>\n",
       "      <td>1111</td>\n",
       "    </tr>\n",
       "    <tr>\n",
       "      <td>12</td>\n",
       "      <td>2017-08-28 21:00:18.964</td>\n",
       "      <td>Moto G4 Plus</td>\n",
       "      <td>BR</td>\n",
       "      <td>ativacao</td>\n",
       "      <td>8106</td>\n",
       "      <td>{}</td>\n",
       "      <td>1111</td>\n",
       "    </tr>\n",
       "    <tr>\n",
       "      <td>13</td>\n",
       "      <td>2017-08-28 21:00:18.964</td>\n",
       "      <td>Moto G4 Plus</td>\n",
       "      <td>BR</td>\n",
       "      <td>ativacao</td>\n",
       "      <td>14168</td>\n",
       "      <td>{}</td>\n",
       "      <td>1111</td>\n",
       "    </tr>\n",
       "    <tr>\n",
       "      <td>...</td>\n",
       "      <td>...</td>\n",
       "      <td>...</td>\n",
       "      <td>...</td>\n",
       "      <td>...</td>\n",
       "      <td>...</td>\n",
       "      <td>...</td>\n",
       "      <td>...</td>\n",
       "    </tr>\n",
       "    <tr>\n",
       "      <td>34964838</td>\n",
       "      <td>2019-08-31 00:07:37.132</td>\n",
       "      <td>iPhone 7</td>\n",
       "      <td>BR</td>\n",
       "      <td>SawAdBeforeDonate</td>\n",
       "      <td>57547</td>\n",
       "      <td>{\"brand\":\"Bancorbrás\",\"userId\":\"167390\"}</td>\n",
       "      <td>167390</td>\n",
       "    </tr>\n",
       "    <tr>\n",
       "      <td>34964839</td>\n",
       "      <td>2019-08-31 00:07:37.132</td>\n",
       "      <td>iPhone 7</td>\n",
       "      <td>BR</td>\n",
       "      <td>SawAdBeforeDonate</td>\n",
       "      <td>57548</td>\n",
       "      <td>{\"brand\":\"Bancorbrás\",\"userId\":\"167390\"}</td>\n",
       "      <td>167390</td>\n",
       "    </tr>\n",
       "    <tr>\n",
       "      <td>34964840</td>\n",
       "      <td>2019-08-31 00:07:37.132</td>\n",
       "      <td>iPhone 7</td>\n",
       "      <td>BR</td>\n",
       "      <td>Doou</td>\n",
       "      <td>60401</td>\n",
       "      <td>{\"packageId\":\"49\",\"brandName\":\"Bancorbrás\",\"qu...</td>\n",
       "      <td>167390</td>\n",
       "    </tr>\n",
       "    <tr>\n",
       "      <td>34964841</td>\n",
       "      <td>2019-08-31 00:07:37.132</td>\n",
       "      <td>iPhone 7</td>\n",
       "      <td>BR</td>\n",
       "      <td>SawAdAfterDonate</td>\n",
       "      <td>60442</td>\n",
       "      <td>{\"brand\":\"Bancorbrás\",\"userId\":\"167390\"}</td>\n",
       "      <td>167390</td>\n",
       "    </tr>\n",
       "    <tr>\n",
       "      <td>34964843</td>\n",
       "      <td>2019-08-31 23:22:03.770</td>\n",
       "      <td>iPhone 8 Plus</td>\n",
       "      <td>BR</td>\n",
       "      <td>FirstOpened</td>\n",
       "      <td>26</td>\n",
       "      <td>{\"userId\":\"99766\"}</td>\n",
       "      <td>99766</td>\n",
       "    </tr>\n",
       "  </tbody>\n",
       "</table>\n",
       "<p>33376901 rows × 7 columns</p>\n",
       "</div>"
      ],
      "text/plain": [
       "                sessionTimestamp    deviceModel countryISO          eventName  \\\n",
       "2        2017-08-28 20:02:01.905   Moto G4 Plus         BR           ativacao   \n",
       "10       2017-08-28 21:00:18.964   Moto G4 Plus         BR           ativacao   \n",
       "11       2017-08-28 21:00:18.964   Moto G4 Plus         BR           uncaught   \n",
       "12       2017-08-28 21:00:18.964   Moto G4 Plus         BR           ativacao   \n",
       "13       2017-08-28 21:00:18.964   Moto G4 Plus         BR           ativacao   \n",
       "...                          ...            ...        ...                ...   \n",
       "34964838 2019-08-31 00:07:37.132       iPhone 7         BR  SawAdBeforeDonate   \n",
       "34964839 2019-08-31 00:07:37.132       iPhone 7         BR  SawAdBeforeDonate   \n",
       "34964840 2019-08-31 00:07:37.132       iPhone 7         BR               Doou   \n",
       "34964841 2019-08-31 00:07:37.132       iPhone 7         BR   SawAdAfterDonate   \n",
       "34964843 2019-08-31 23:22:03.770  iPhone 8 Plus         BR        FirstOpened   \n",
       "\n",
       "         eventOffset                                    eventParameters  \\\n",
       "2                 63                                                 {}   \n",
       "10               107                                                 {}   \n",
       "11             66356                                                 {}   \n",
       "12              8106                                                 {}   \n",
       "13             14168                                                 {}   \n",
       "...              ...                                                ...   \n",
       "34964838       57547           {\"brand\":\"Bancorbrás\",\"userId\":\"167390\"}   \n",
       "34964839       57548           {\"brand\":\"Bancorbrás\",\"userId\":\"167390\"}   \n",
       "34964840       60401  {\"packageId\":\"49\",\"brandName\":\"Bancorbrás\",\"qu...   \n",
       "34964841       60442           {\"brand\":\"Bancorbrás\",\"userId\":\"167390\"}   \n",
       "34964843          26                                 {\"userId\":\"99766\"}   \n",
       "\n",
       "          userId  \n",
       "2           1111  \n",
       "10          1111  \n",
       "11          1111  \n",
       "12          1111  \n",
       "13          1111  \n",
       "...          ...  \n",
       "34964838  167390  \n",
       "34964839  167390  \n",
       "34964840  167390  \n",
       "34964841  167390  \n",
       "34964843   99766  \n",
       "\n",
       "[33376901 rows x 7 columns]"
      ]
     },
     "execution_count": 18,
     "metadata": {},
     "output_type": "execute_result"
    }
   ],
   "source": [
    "%%time\n",
    "# Reindexando o dataframe após a limpeza de dados\n",
    "df.reindex()"
   ]
  },
  {
   "cell_type": "code",
   "execution_count": 20,
   "metadata": {},
   "outputs": [
    {
     "data": {
      "text/plain": [
       "(33376901, 7)"
      ]
     },
     "execution_count": 20,
     "metadata": {},
     "output_type": "execute_result"
    }
   ],
   "source": [
    "# Tamanho final do arquivo com o total de eventos\n",
    "df.shape"
   ]
  },
  {
   "cell_type": "code",
   "execution_count": 21,
   "metadata": {},
   "outputs": [
    {
     "data": {
      "text/plain": [
       "142849"
      ]
     },
     "execution_count": 21,
     "metadata": {},
     "output_type": "execute_result"
    }
   ],
   "source": [
    "# Número total de usuários distintos na plataforma durante todo o período\n",
    "df.userId.nunique()"
   ]
  },
  {
   "cell_type": "code",
   "execution_count": 22,
   "metadata": {},
   "outputs": [
    {
     "name": "stdout",
     "output_type": "stream",
     "text": [
      "<class 'pandas.core.frame.DataFrame'>\n",
      "Int64Index: 33376901 entries, 2 to 34964843\n",
      "Data columns (total 7 columns):\n",
      "sessionTimestamp    datetime64[ns]\n",
      "deviceModel         object\n",
      "countryISO          object\n",
      "eventName           object\n",
      "eventOffset         object\n",
      "eventParameters     object\n",
      "userId              object\n",
      "dtypes: datetime64[ns](1), object(6)\n",
      "memory usage: 2.0+ GB\n"
     ]
    }
   ],
   "source": [
    "# Analisando o dataframe após a limpeza\n",
    "df.info()"
   ]
  },
  {
   "cell_type": "markdown",
   "metadata": {},
   "source": [
    "### Criação do dataframe de eventos por usuário por data"
   ]
  },
  {
   "cell_type": "code",
   "execution_count": 23,
   "metadata": {},
   "outputs": [
    {
     "name": "stdout",
     "output_type": "stream",
     "text": [
      "CPU times: user 4min 7s, sys: 5.92 s, total: 4min 13s\n",
      "Wall time: 4min 16s\n"
     ]
    }
   ],
   "source": [
    "%%time\n",
    "# criando a feature eventDate usando apenas o dia e descartando a hora do sessionTimestamp\n",
    "df['eventDate'] = df.sessionTimestamp.dt.strftime(\"%Y-%m-%d\")"
   ]
  },
  {
   "cell_type": "code",
   "execution_count": 24,
   "metadata": {},
   "outputs": [
    {
     "data": {
      "text/html": [
       "<div>\n",
       "<style scoped>\n",
       "    .dataframe tbody tr th:only-of-type {\n",
       "        vertical-align: middle;\n",
       "    }\n",
       "\n",
       "    .dataframe tbody tr th {\n",
       "        vertical-align: top;\n",
       "    }\n",
       "\n",
       "    .dataframe thead th {\n",
       "        text-align: right;\n",
       "    }\n",
       "</style>\n",
       "<table border=\"1\" class=\"dataframe\">\n",
       "  <thead>\n",
       "    <tr style=\"text-align: right;\">\n",
       "      <th></th>\n",
       "      <th>sessionTimestamp</th>\n",
       "      <th>deviceModel</th>\n",
       "      <th>countryISO</th>\n",
       "      <th>eventName</th>\n",
       "      <th>eventOffset</th>\n",
       "      <th>eventParameters</th>\n",
       "      <th>userId</th>\n",
       "      <th>eventDate</th>\n",
       "    </tr>\n",
       "  </thead>\n",
       "  <tbody>\n",
       "    <tr>\n",
       "      <td>2</td>\n",
       "      <td>2017-08-28 20:02:01.905</td>\n",
       "      <td>Moto G4 Plus</td>\n",
       "      <td>BR</td>\n",
       "      <td>ativacao</td>\n",
       "      <td>63</td>\n",
       "      <td>{}</td>\n",
       "      <td>1111</td>\n",
       "      <td>2017-08-28</td>\n",
       "    </tr>\n",
       "    <tr>\n",
       "      <td>10</td>\n",
       "      <td>2017-08-28 21:00:18.964</td>\n",
       "      <td>Moto G4 Plus</td>\n",
       "      <td>BR</td>\n",
       "      <td>ativacao</td>\n",
       "      <td>107</td>\n",
       "      <td>{}</td>\n",
       "      <td>1111</td>\n",
       "      <td>2017-08-28</td>\n",
       "    </tr>\n",
       "    <tr>\n",
       "      <td>11</td>\n",
       "      <td>2017-08-28 21:00:18.964</td>\n",
       "      <td>Moto G4 Plus</td>\n",
       "      <td>BR</td>\n",
       "      <td>uncaught</td>\n",
       "      <td>66356</td>\n",
       "      <td>{}</td>\n",
       "      <td>1111</td>\n",
       "      <td>2017-08-28</td>\n",
       "    </tr>\n",
       "    <tr>\n",
       "      <td>12</td>\n",
       "      <td>2017-08-28 21:00:18.964</td>\n",
       "      <td>Moto G4 Plus</td>\n",
       "      <td>BR</td>\n",
       "      <td>ativacao</td>\n",
       "      <td>8106</td>\n",
       "      <td>{}</td>\n",
       "      <td>1111</td>\n",
       "      <td>2017-08-28</td>\n",
       "    </tr>\n",
       "    <tr>\n",
       "      <td>13</td>\n",
       "      <td>2017-08-28 21:00:18.964</td>\n",
       "      <td>Moto G4 Plus</td>\n",
       "      <td>BR</td>\n",
       "      <td>ativacao</td>\n",
       "      <td>14168</td>\n",
       "      <td>{}</td>\n",
       "      <td>1111</td>\n",
       "      <td>2017-08-28</td>\n",
       "    </tr>\n",
       "  </tbody>\n",
       "</table>\n",
       "</div>"
      ],
      "text/plain": [
       "          sessionTimestamp   deviceModel countryISO eventName eventOffset  \\\n",
       "2  2017-08-28 20:02:01.905  Moto G4 Plus         BR  ativacao          63   \n",
       "10 2017-08-28 21:00:18.964  Moto G4 Plus         BR  ativacao         107   \n",
       "11 2017-08-28 21:00:18.964  Moto G4 Plus         BR  uncaught       66356   \n",
       "12 2017-08-28 21:00:18.964  Moto G4 Plus         BR  ativacao        8106   \n",
       "13 2017-08-28 21:00:18.964  Moto G4 Plus         BR  ativacao       14168   \n",
       "\n",
       "   eventParameters userId   eventDate  \n",
       "2               {}   1111  2017-08-28  \n",
       "10              {}   1111  2017-08-28  \n",
       "11              {}   1111  2017-08-28  \n",
       "12              {}   1111  2017-08-28  \n",
       "13              {}   1111  2017-08-28  "
      ]
     },
     "execution_count": 24,
     "metadata": {},
     "output_type": "execute_result"
    }
   ],
   "source": [
    "df.head()"
   ]
  },
  {
   "cell_type": "code",
   "execution_count": 27,
   "metadata": {},
   "outputs": [
    {
     "name": "stdout",
     "output_type": "stream",
     "text": [
      "CPU times: user 10.9 s, sys: 46.7 s, total: 57.7 s\n",
      "Wall time: 1min 20s\n"
     ]
    }
   ],
   "source": [
    "%%time\n",
    "# Preparando a criação do dataframe events_per_user\n",
    "# As observações (linhas) serão usuários por dia\n",
    "# as features (colunas) irão contabilizar a quantidade de vezes que o usuário acionou os diferentes eventos\n",
    "\n",
    "# Primeiro agrupamos os eventos pela data do evento\n",
    "\n",
    "e = df[['eventDate','userId','eventName', 'eventOffset']]\\\n",
    "                  .groupby(['eventDate'], as_index=True)"
   ]
  },
  {
   "cell_type": "code",
   "execution_count": 28,
   "metadata": {},
   "outputs": [
    {
     "name": "stdout",
     "output_type": "stream",
     "text": [
      "CPU times: user 6min 58s, sys: 6min 56s, total: 13min 55s\n",
      "Wall time: 15min 58s\n"
     ]
    }
   ],
   "source": [
    "%%time\n",
    "\n",
    "events_per_user = pd.DataFrame()\n",
    "\n",
    "# Agora para cada dia é agrupado por usuário e por evento,\n",
    "# e depois totalizado a quantidade de vezes que o usuário fez cada evento\n",
    "for date, group in e:\n",
    "    df1 = group.groupby(['userId', 'eventName'], as_index=False).agg({'eventOffset': 'count'})\n",
    "    df1.columns = ['userId', 'eventName', 'eventOccurrences']\n",
    "    df1 = df1.pivot(index='userId', columns='eventName', values='eventOccurrences')\n",
    "    df1.reset_index(inplace=True)\n",
    "    df1['eventDate'] = date\n",
    "    events_per_user = pd.concat([events_per_user, df1], sort=False, ignore_index=True)"
   ]
  },
  {
   "cell_type": "code",
   "execution_count": 29,
   "metadata": {},
   "outputs": [
    {
     "data": {
      "text/plain": [
       "(2090069, 129)"
      ]
     },
     "execution_count": 29,
     "metadata": {},
     "output_type": "execute_result"
    }
   ],
   "source": [
    "# Analisando a estrutura do novo dataframe\n",
    "events_per_user.shape"
   ]
  },
  {
   "cell_type": "code",
   "execution_count": 30,
   "metadata": {
    "scrolled": true
   },
   "outputs": [
    {
     "data": {
      "text/plain": [
       "Index(['userId', 'ativacao', 'uncaught', 'eventDate', 'Opened', 'donate',\n",
       "       'onBoardingStage', 'openCurtain', 'changeTabPrincipal',\n",
       "       'associateWithFacebook',\n",
       "       ...\n",
       "       'ReceiveBadgeButton', 'ReceiveBadgeClose', 'ClickedBadgesUnupdated',\n",
       "       'OpenedAdOnFeedView', 'QuizOpened', 'SkipQuiz', 'ClickedShareFeed',\n",
       "       'ClickedShareFeedView', 'ClickedLogin', 'OpenedProfileInfo'],\n",
       "      dtype='object', length=129)"
      ]
     },
     "execution_count": 30,
     "metadata": {},
     "output_type": "execute_result"
    }
   ],
   "source": [
    "# Analisando os eventos como colunas do novo dataframe\n",
    "events_per_user.columns"
   ]
  },
  {
   "cell_type": "code",
   "execution_count": 31,
   "metadata": {},
   "outputs": [
    {
     "data": {
      "text/html": [
       "<div>\n",
       "<style scoped>\n",
       "    .dataframe tbody tr th:only-of-type {\n",
       "        vertical-align: middle;\n",
       "    }\n",
       "\n",
       "    .dataframe tbody tr th {\n",
       "        vertical-align: top;\n",
       "    }\n",
       "\n",
       "    .dataframe thead th {\n",
       "        text-align: right;\n",
       "    }\n",
       "</style>\n",
       "<table border=\"1\" class=\"dataframe\">\n",
       "  <thead>\n",
       "    <tr style=\"text-align: right;\">\n",
       "      <th></th>\n",
       "      <th>userId</th>\n",
       "      <th>ativacao</th>\n",
       "      <th>uncaught</th>\n",
       "      <th>eventDate</th>\n",
       "      <th>Opened</th>\n",
       "      <th>donate</th>\n",
       "      <th>onBoardingStage</th>\n",
       "      <th>openCurtain</th>\n",
       "      <th>changeTabPrincipal</th>\n",
       "      <th>associateWithFacebook</th>\n",
       "      <th>...</th>\n",
       "      <th>ReceiveBadgeButton</th>\n",
       "      <th>ReceiveBadgeClose</th>\n",
       "      <th>ClickedBadgesUnupdated</th>\n",
       "      <th>OpenedAdOnFeedView</th>\n",
       "      <th>QuizOpened</th>\n",
       "      <th>SkipQuiz</th>\n",
       "      <th>ClickedShareFeed</th>\n",
       "      <th>ClickedShareFeedView</th>\n",
       "      <th>ClickedLogin</th>\n",
       "      <th>OpenedProfileInfo</th>\n",
       "    </tr>\n",
       "  </thead>\n",
       "  <tbody>\n",
       "    <tr>\n",
       "      <td>0</td>\n",
       "      <td>1111</td>\n",
       "      <td>6.0</td>\n",
       "      <td>2.0</td>\n",
       "      <td>2017-08-28</td>\n",
       "      <td>NaN</td>\n",
       "      <td>NaN</td>\n",
       "      <td>NaN</td>\n",
       "      <td>NaN</td>\n",
       "      <td>NaN</td>\n",
       "      <td>NaN</td>\n",
       "      <td>...</td>\n",
       "      <td>NaN</td>\n",
       "      <td>NaN</td>\n",
       "      <td>NaN</td>\n",
       "      <td>NaN</td>\n",
       "      <td>NaN</td>\n",
       "      <td>NaN</td>\n",
       "      <td>NaN</td>\n",
       "      <td>NaN</td>\n",
       "      <td>NaN</td>\n",
       "      <td>NaN</td>\n",
       "    </tr>\n",
       "    <tr>\n",
       "      <td>1</td>\n",
       "      <td>123</td>\n",
       "      <td>NaN</td>\n",
       "      <td>2.0</td>\n",
       "      <td>2017-10-02</td>\n",
       "      <td>10.0</td>\n",
       "      <td>2.0</td>\n",
       "      <td>3.0</td>\n",
       "      <td>1.0</td>\n",
       "      <td>NaN</td>\n",
       "      <td>NaN</td>\n",
       "      <td>...</td>\n",
       "      <td>NaN</td>\n",
       "      <td>NaN</td>\n",
       "      <td>NaN</td>\n",
       "      <td>NaN</td>\n",
       "      <td>NaN</td>\n",
       "      <td>NaN</td>\n",
       "      <td>NaN</td>\n",
       "      <td>NaN</td>\n",
       "      <td>NaN</td>\n",
       "      <td>NaN</td>\n",
       "    </tr>\n",
       "    <tr>\n",
       "      <td>2</td>\n",
       "      <td>6</td>\n",
       "      <td>NaN</td>\n",
       "      <td>1.0</td>\n",
       "      <td>2017-10-02</td>\n",
       "      <td>3.0</td>\n",
       "      <td>NaN</td>\n",
       "      <td>NaN</td>\n",
       "      <td>1.0</td>\n",
       "      <td>NaN</td>\n",
       "      <td>NaN</td>\n",
       "      <td>...</td>\n",
       "      <td>NaN</td>\n",
       "      <td>NaN</td>\n",
       "      <td>NaN</td>\n",
       "      <td>NaN</td>\n",
       "      <td>NaN</td>\n",
       "      <td>NaN</td>\n",
       "      <td>NaN</td>\n",
       "      <td>NaN</td>\n",
       "      <td>NaN</td>\n",
       "      <td>NaN</td>\n",
       "    </tr>\n",
       "    <tr>\n",
       "      <td>3</td>\n",
       "      <td>7</td>\n",
       "      <td>NaN</td>\n",
       "      <td>3.0</td>\n",
       "      <td>2017-10-02</td>\n",
       "      <td>4.0</td>\n",
       "      <td>NaN</td>\n",
       "      <td>8.0</td>\n",
       "      <td>2.0</td>\n",
       "      <td>NaN</td>\n",
       "      <td>NaN</td>\n",
       "      <td>...</td>\n",
       "      <td>NaN</td>\n",
       "      <td>NaN</td>\n",
       "      <td>NaN</td>\n",
       "      <td>NaN</td>\n",
       "      <td>NaN</td>\n",
       "      <td>NaN</td>\n",
       "      <td>NaN</td>\n",
       "      <td>NaN</td>\n",
       "      <td>NaN</td>\n",
       "      <td>NaN</td>\n",
       "    </tr>\n",
       "    <tr>\n",
       "      <td>4</td>\n",
       "      <td>6</td>\n",
       "      <td>NaN</td>\n",
       "      <td>NaN</td>\n",
       "      <td>2017-10-03</td>\n",
       "      <td>4.0</td>\n",
       "      <td>NaN</td>\n",
       "      <td>10.0</td>\n",
       "      <td>3.0</td>\n",
       "      <td>NaN</td>\n",
       "      <td>NaN</td>\n",
       "      <td>...</td>\n",
       "      <td>NaN</td>\n",
       "      <td>NaN</td>\n",
       "      <td>NaN</td>\n",
       "      <td>NaN</td>\n",
       "      <td>NaN</td>\n",
       "      <td>NaN</td>\n",
       "      <td>NaN</td>\n",
       "      <td>NaN</td>\n",
       "      <td>NaN</td>\n",
       "      <td>NaN</td>\n",
       "    </tr>\n",
       "  </tbody>\n",
       "</table>\n",
       "<p>5 rows × 129 columns</p>\n",
       "</div>"
      ],
      "text/plain": [
       "  userId  ativacao  uncaught   eventDate  Opened  donate  onBoardingStage  \\\n",
       "0   1111       6.0       2.0  2017-08-28     NaN     NaN              NaN   \n",
       "1    123       NaN       2.0  2017-10-02    10.0     2.0              3.0   \n",
       "2      6       NaN       1.0  2017-10-02     3.0     NaN              NaN   \n",
       "3      7       NaN       3.0  2017-10-02     4.0     NaN              8.0   \n",
       "4      6       NaN       NaN  2017-10-03     4.0     NaN             10.0   \n",
       "\n",
       "   openCurtain  changeTabPrincipal  associateWithFacebook  ...  \\\n",
       "0          NaN                 NaN                    NaN  ...   \n",
       "1          1.0                 NaN                    NaN  ...   \n",
       "2          1.0                 NaN                    NaN  ...   \n",
       "3          2.0                 NaN                    NaN  ...   \n",
       "4          3.0                 NaN                    NaN  ...   \n",
       "\n",
       "   ReceiveBadgeButton  ReceiveBadgeClose  ClickedBadgesUnupdated  \\\n",
       "0                 NaN                NaN                     NaN   \n",
       "1                 NaN                NaN                     NaN   \n",
       "2                 NaN                NaN                     NaN   \n",
       "3                 NaN                NaN                     NaN   \n",
       "4                 NaN                NaN                     NaN   \n",
       "\n",
       "   OpenedAdOnFeedView  QuizOpened  SkipQuiz  ClickedShareFeed  \\\n",
       "0                 NaN         NaN       NaN               NaN   \n",
       "1                 NaN         NaN       NaN               NaN   \n",
       "2                 NaN         NaN       NaN               NaN   \n",
       "3                 NaN         NaN       NaN               NaN   \n",
       "4                 NaN         NaN       NaN               NaN   \n",
       "\n",
       "   ClickedShareFeedView  ClickedLogin  OpenedProfileInfo  \n",
       "0                   NaN           NaN                NaN  \n",
       "1                   NaN           NaN                NaN  \n",
       "2                   NaN           NaN                NaN  \n",
       "3                   NaN           NaN                NaN  \n",
       "4                   NaN           NaN                NaN  \n",
       "\n",
       "[5 rows x 129 columns]"
      ]
     },
     "execution_count": 31,
     "metadata": {},
     "output_type": "execute_result"
    }
   ],
   "source": [
    "# Analisando as primeiras linhas do dataframe\n",
    "events_per_user.head()"
   ]
  },
  {
   "cell_type": "code",
   "execution_count": 32,
   "metadata": {},
   "outputs": [
    {
     "data": {
      "text/html": [
       "<div>\n",
       "<style scoped>\n",
       "    .dataframe tbody tr th:only-of-type {\n",
       "        vertical-align: middle;\n",
       "    }\n",
       "\n",
       "    .dataframe tbody tr th {\n",
       "        vertical-align: top;\n",
       "    }\n",
       "\n",
       "    .dataframe thead th {\n",
       "        text-align: right;\n",
       "    }\n",
       "</style>\n",
       "<table border=\"1\" class=\"dataframe\">\n",
       "  <thead>\n",
       "    <tr style=\"text-align: right;\">\n",
       "      <th></th>\n",
       "      <th>userId</th>\n",
       "      <th>eventDate</th>\n",
       "      <th>donate</th>\n",
       "    </tr>\n",
       "  </thead>\n",
       "  <tbody>\n",
       "    <tr>\n",
       "      <td>0</td>\n",
       "      <td>1111</td>\n",
       "      <td>2017-08-28</td>\n",
       "      <td>NaN</td>\n",
       "    </tr>\n",
       "    <tr>\n",
       "      <td>1</td>\n",
       "      <td>123</td>\n",
       "      <td>2017-10-02</td>\n",
       "      <td>2.0</td>\n",
       "    </tr>\n",
       "    <tr>\n",
       "      <td>2</td>\n",
       "      <td>6</td>\n",
       "      <td>2017-10-02</td>\n",
       "      <td>NaN</td>\n",
       "    </tr>\n",
       "    <tr>\n",
       "      <td>3</td>\n",
       "      <td>7</td>\n",
       "      <td>2017-10-02</td>\n",
       "      <td>NaN</td>\n",
       "    </tr>\n",
       "    <tr>\n",
       "      <td>4</td>\n",
       "      <td>6</td>\n",
       "      <td>2017-10-03</td>\n",
       "      <td>NaN</td>\n",
       "    </tr>\n",
       "    <tr>\n",
       "      <td>5</td>\n",
       "      <td>7</td>\n",
       "      <td>2017-10-03</td>\n",
       "      <td>NaN</td>\n",
       "    </tr>\n",
       "    <tr>\n",
       "      <td>6</td>\n",
       "      <td>4</td>\n",
       "      <td>2017-10-04</td>\n",
       "      <td>1.0</td>\n",
       "    </tr>\n",
       "    <tr>\n",
       "      <td>7</td>\n",
       "      <td>6</td>\n",
       "      <td>2017-10-04</td>\n",
       "      <td>NaN</td>\n",
       "    </tr>\n",
       "    <tr>\n",
       "      <td>8</td>\n",
       "      <td>7</td>\n",
       "      <td>2017-10-04</td>\n",
       "      <td>NaN</td>\n",
       "    </tr>\n",
       "    <tr>\n",
       "      <td>9</td>\n",
       "      <td>9</td>\n",
       "      <td>2017-10-04</td>\n",
       "      <td>NaN</td>\n",
       "    </tr>\n",
       "  </tbody>\n",
       "</table>\n",
       "</div>"
      ],
      "text/plain": [
       "  userId   eventDate  donate\n",
       "0   1111  2017-08-28     NaN\n",
       "1    123  2017-10-02     2.0\n",
       "2      6  2017-10-02     NaN\n",
       "3      7  2017-10-02     NaN\n",
       "4      6  2017-10-03     NaN\n",
       "5      7  2017-10-03     NaN\n",
       "6      4  2017-10-04     1.0\n",
       "7      6  2017-10-04     NaN\n",
       "8      7  2017-10-04     NaN\n",
       "9      9  2017-10-04     NaN"
      ]
     },
     "execution_count": 32,
     "metadata": {},
     "output_type": "execute_result"
    }
   ],
   "source": [
    "# Analisando as primeiras linhas, mas de um evento específico\n",
    "events_per_user[['userId', 'eventDate', 'donate']].head(10)"
   ]
  },
  {
   "cell_type": "code",
   "execution_count": 33,
   "metadata": {},
   "outputs": [
    {
     "data": {
      "text/plain": [
       "142849"
      ]
     },
     "execution_count": 33,
     "metadata": {},
     "output_type": "execute_result"
    }
   ],
   "source": [
    "# verificando se o número de usuários se manteve identico, após a transformação\n",
    "events_per_user.userId.nunique()"
   ]
  },
  {
   "cell_type": "code",
   "execution_count": 37,
   "metadata": {},
   "outputs": [
    {
     "data": {
      "text/plain": [
       "'2019-08-31'"
      ]
     },
     "execution_count": 37,
     "metadata": {},
     "output_type": "execute_result"
    }
   ],
   "source": [
    "# verificando a data do último evento\n",
    "data_final = events_per_user.eventDate.sort_values().iloc[-1]\n",
    "data_final"
   ]
  },
  {
   "cell_type": "code",
   "execution_count": 41,
   "metadata": {},
   "outputs": [],
   "source": [
    "# salvando o arquivo de eventos por usuário\n",
    "events_per_user.to_csv(path_csv+'ribon_events_per_user_' + data_final + '.csv', index=False)"
   ]
  },
  {
   "cell_type": "markdown",
   "metadata": {},
   "source": [
    "### Criando o dataframe de usuários com outras features"
   ]
  },
  {
   "cell_type": "code",
   "execution_count": 42,
   "metadata": {
    "scrolled": true
   },
   "outputs": [
    {
     "name": "stdout",
     "output_type": "stream",
     "text": [
      "(142849, 2)\n",
      "CPU times: user 1min 26s, sys: 6.94 s, total: 1min 33s\n",
      "Wall time: 1min 37s\n"
     ]
    },
    {
     "data": {
      "text/html": [
       "<div>\n",
       "<style scoped>\n",
       "    .dataframe tbody tr th:only-of-type {\n",
       "        vertical-align: middle;\n",
       "    }\n",
       "\n",
       "    .dataframe tbody tr th {\n",
       "        vertical-align: top;\n",
       "    }\n",
       "\n",
       "    .dataframe thead th {\n",
       "        text-align: right;\n",
       "    }\n",
       "</style>\n",
       "<table border=\"1\" class=\"dataframe\">\n",
       "  <thead>\n",
       "    <tr style=\"text-align: right;\">\n",
       "      <th></th>\n",
       "      <th>deviceModel</th>\n",
       "      <th>countryISO</th>\n",
       "    </tr>\n",
       "    <tr>\n",
       "      <th>userId</th>\n",
       "      <th></th>\n",
       "      <th></th>\n",
       "    </tr>\n",
       "  </thead>\n",
       "  <tbody>\n",
       "    <tr>\n",
       "      <td>1</td>\n",
       "      <td>Moto G4 Plus</td>\n",
       "      <td>BR</td>\n",
       "    </tr>\n",
       "    <tr>\n",
       "      <td>10</td>\n",
       "      <td>iOS Emulator</td>\n",
       "      <td>BR</td>\n",
       "    </tr>\n",
       "    <tr>\n",
       "      <td>100</td>\n",
       "      <td>Moto Z (2) Play</td>\n",
       "      <td>BR</td>\n",
       "    </tr>\n",
       "    <tr>\n",
       "      <td>1000</td>\n",
       "      <td>Nexus 5</td>\n",
       "      <td>BR</td>\n",
       "    </tr>\n",
       "    <tr>\n",
       "      <td>10000</td>\n",
       "      <td>Q6</td>\n",
       "      <td>BR</td>\n",
       "    </tr>\n",
       "  </tbody>\n",
       "</table>\n",
       "</div>"
      ],
      "text/plain": [
       "            deviceModel countryISO\n",
       "userId                            \n",
       "1          Moto G4 Plus         BR\n",
       "10         iOS Emulator         BR\n",
       "100     Moto Z (2) Play         BR\n",
       "1000            Nexus 5         BR\n",
       "10000                Q6         BR"
      ]
     },
     "execution_count": 42,
     "metadata": {},
     "output_type": "execute_result"
    }
   ],
   "source": [
    "%%time\n",
    "# Serão usados as colunas deviceModel e countryISO.\n",
    "# Será capturada para cada usuário a moda de cada coluna, ou seja, o valor mais recorrente\n",
    "users = df[['userId','deviceModel', 'countryISO']].groupby(['userId']).agg(pd.Series.mode)\n",
    "print(users.shape)\n",
    "users.head()"
   ]
  },
  {
   "cell_type": "code",
   "execution_count": 43,
   "metadata": {},
   "outputs": [],
   "source": [
    "# Salavando em um arquivo de usuários\n",
    "users.to_csv(path_csv+'ribon_users_' + data_final + '.csv')"
   ]
  },
  {
   "cell_type": "code",
   "execution_count": null,
   "metadata": {},
   "outputs": [],
   "source": []
  }
 ],
 "metadata": {
  "kernelspec": {
   "display_name": "Python 3",
   "language": "python",
   "name": "python3"
  },
  "language_info": {
   "codemirror_mode": {
    "name": "ipython",
    "version": 3
   },
   "file_extension": ".py",
   "mimetype": "text/x-python",
   "name": "python",
   "nbconvert_exporter": "python",
   "pygments_lexer": "ipython3",
   "version": "3.7.6"
  }
 },
 "nbformat": 4,
 "nbformat_minor": 2
}
