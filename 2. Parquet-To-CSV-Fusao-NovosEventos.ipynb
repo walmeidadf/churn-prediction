{
 "cells": [
  {
   "cell_type": "markdown",
   "metadata": {},
   "source": [
    "# Fusão de novos eventos\n",
    "\n",
    "Esse notebook é usado para servir de base para um script de extração de eventos do Flurry em formatos de dataframe que serão usados para criar features para: usuários e eventos.\n",
    "\n",
    "A origem do evento é o Flurry, uma plataforma mobile app analytics, que registra os eventos realizados pelas pessoas que estão usando o aplicativo em produção. O primeiro evento registrado foi em Setembro de 2017. Diariamente são extraídos da plataforma em um formato *json*. Os arquivos tem o seguinte formato:\n",
    "\n",
    "<img src=\"../imagens/json-format-flurry.png\">\n",
    "\n",
    "\n",
    "Atualmente esses arquivos são exportados para um parquet (um formato de armazenamento colunar) bastante eficiente em espaço. No entanto para o propósito atual, o ideal é que esse notebook se torne um script (ou parte de um) que atualize os arquivos resultados (que serão apresentados a seguir) diariamente (ou em outra periodicidade que faça sentido).\n",
    "\n",
    "No atual parquet que é gerado atualmente são coletados apenas o nome do evento, o id do usuário, o modelo do dispositivo do usuário e o país onde foi registrado o evento.\n",
    "\n",
    "Os arquivos que são criados tem como finalidade apoiar os processos de analise de dados e feature engineering.\n",
    "\n",
    "**USERS**\n",
    "\n",
    "* nome do arquivo - *users_YYYY-MM-DD.csv* - \n",
    "Eventos com dados de todos os usuários que já registraram algum evento pelo Flurry. A observação é o *userId* e as variáveis são: *deviceModel* (o principal modelo de aparelho em que foi registrado o evento do app) e *countryISO* (o principal país onde o usuário usou o app).\n",
    "\n",
    "<img src=\"../imagens/dataframe-users.png\">\n",
    "\n",
    "**EVENTS**\n",
    "* nome do arquivo - *events_YYYY-MM-DD.csv* - \n",
    "Informações sobre todos os eventos registrados pelo flurry. A observação é o nome do evento: *eventName*. As seguintes features foram coletadas dos eventos: *firstOccurrence* (primeira data de ocorrência do evento), *lastOccurrence* (última data de ocorrência do evento), *intervalOccurrence* (diferença em números de dias entre as data anteriores), *aaaa-mm* dezenas de colunas anotando a quantidade de eventos registrados nos meses desde o lançamento do app.\n",
    "\n",
    "<img src=\"../imagens/dataframe-events.png\">\n",
    "\n",
    "**EVENTS_PER_USER**\n",
    "* nome do arquivo - *events_per_user_YYYY-MM-DD.csv* - \n",
    "Informações resumidas sobre todos os eventos registrados dos usuários. As linhas são a tupla (*userId* e *eventDate*), ou seja, o usuário a data em que ele tem algum evento registrado. As *colunas são todos os eventos*, onde para cada chave (userId, eventData) é totalizado a quantidade de eventos realizados no dia.\n",
    "\n",
    "<img src=\"../imagens/dataframe-events-per-user.png\">"
   ]
  },
  {
   "cell_type": "markdown",
   "metadata": {},
   "source": [
    "## Inicialização\n",
    "\n",
    "Definindo biblotecas e variáveis\n",
    "\n",
    "Um pre-requisito para esse notebook é a instalação do fastparquet ou outra biblioteca similar que possa ler o arquivo parquet. As demais bibliotecas são inicializadas a seguir.\n",
    "\n",
    "As varíaveis iniciais informam o nome dos arquivos anteriores e o nome do arquivo parquet do qual serão extraídos os novos eventos. "
   ]
  },
  {
   "cell_type": "code",
   "execution_count": 2,
   "metadata": {},
   "outputs": [],
   "source": [
    "import numpy as np\n",
    "import pandas as pd\n",
    "from datetime import date, datetime, timedelta\n",
    "from pathlib import Path"
   ]
  },
  {
   "cell_type": "code",
   "execution_count": 3,
   "metadata": {},
   "outputs": [],
   "source": [
    "# Define variáveis com o nome e localização dos arquivos da última extração\n",
    "\n",
    "data_path = Path('/home/wesley/Github/ribon-parquet')\n",
    "\n",
    "csv_eventFile = 'ribon_events_per_user_2020-04-12.csv'\n",
    "csv_usersFile = 'ribon_users_2020-04-12.csv'\n",
    "\n",
    "new_parquet_file = 'flurry_user_event_date_2020_04_17.parquet'"
   ]
  },
  {
   "cell_type": "markdown",
   "metadata": {},
   "source": [
    "## Carregando os dados para realizar fusão\n",
    "\n",
    "#### Carregando os últimos dados extraídos em formato de dataframe"
   ]
  },
  {
   "cell_type": "code",
   "execution_count": 4,
   "metadata": {
    "scrolled": true
   },
   "outputs": [
    {
     "name": "stdout",
     "output_type": "stream",
     "text": [
      "(207287, 3)\n",
      "<class 'pandas.core.frame.DataFrame'>\n",
      "RangeIndex: 207287 entries, 0 to 207286\n",
      "Data columns (total 3 columns):\n",
      " #   Column       Non-Null Count   Dtype \n",
      "---  ------       --------------   ----- \n",
      " 0   userId       207287 non-null  int64 \n",
      " 1   deviceModel  207287 non-null  object\n",
      " 2   countryISO   207287 non-null  object\n",
      "dtypes: int64(1), object(2)\n",
      "memory usage: 4.7+ MB\n"
     ]
    },
    {
     "data": {
      "text/html": [
       "<div>\n",
       "<style scoped>\n",
       "    .dataframe tbody tr th:only-of-type {\n",
       "        vertical-align: middle;\n",
       "    }\n",
       "\n",
       "    .dataframe tbody tr th {\n",
       "        vertical-align: top;\n",
       "    }\n",
       "\n",
       "    .dataframe thead th {\n",
       "        text-align: right;\n",
       "    }\n",
       "</style>\n",
       "<table border=\"1\" class=\"dataframe\">\n",
       "  <thead>\n",
       "    <tr style=\"text-align: right;\">\n",
       "      <th></th>\n",
       "      <th>userId</th>\n",
       "      <th>deviceModel</th>\n",
       "      <th>countryISO</th>\n",
       "    </tr>\n",
       "  </thead>\n",
       "  <tbody>\n",
       "    <tr>\n",
       "      <th>0</th>\n",
       "      <td>1</td>\n",
       "      <td>Moto G (5S) Plus</td>\n",
       "      <td>BR</td>\n",
       "    </tr>\n",
       "    <tr>\n",
       "      <th>1</th>\n",
       "      <td>2</td>\n",
       "      <td>Galaxy Note8</td>\n",
       "      <td>BR</td>\n",
       "    </tr>\n",
       "    <tr>\n",
       "      <th>2</th>\n",
       "      <td>8</td>\n",
       "      <td>Galaxy S10</td>\n",
       "      <td>BR</td>\n",
       "    </tr>\n",
       "    <tr>\n",
       "      <th>3</th>\n",
       "      <td>9</td>\n",
       "      <td>Galaxy S8</td>\n",
       "      <td>BR</td>\n",
       "    </tr>\n",
       "    <tr>\n",
       "      <th>4</th>\n",
       "      <td>15</td>\n",
       "      <td>Galaxy S8+</td>\n",
       "      <td>BR</td>\n",
       "    </tr>\n",
       "  </tbody>\n",
       "</table>\n",
       "</div>"
      ],
      "text/plain": [
       "   userId       deviceModel countryISO\n",
       "0       1  Moto G (5S) Plus         BR\n",
       "1       2      Galaxy Note8         BR\n",
       "2       8        Galaxy S10         BR\n",
       "3       9         Galaxy S8         BR\n",
       "4      15        Galaxy S8+         BR"
      ]
     },
     "execution_count": 4,
     "metadata": {},
     "output_type": "execute_result"
    }
   ],
   "source": [
    "# Carrega o último dataframe de usuários e exibe informações básicas\n",
    "users = pd.read_csv(data_path/csv_usersFile)\n",
    "print(users.shape)\n",
    "users.info(),\n",
    "users.head()"
   ]
  },
  {
   "cell_type": "code",
   "execution_count": 5,
   "metadata": {
    "scrolled": true
   },
   "outputs": [
    {
     "name": "stdout",
     "output_type": "stream",
     "text": [
      "(3744464, 199)\n",
      "<class 'pandas.core.frame.DataFrame'>\n",
      "Int64Index: 3744464 entries, 0 to 3744463\n",
      "Columns: 199 entries, userId to PromotionsSawPromoCard\n",
      "dtypes: datetime64[ns](1), float64(197), int64(1)\n",
      "memory usage: 5.6 GB\n"
     ]
    },
    {
     "data": {
      "text/html": [
       "<div>\n",
       "<style scoped>\n",
       "    .dataframe tbody tr th:only-of-type {\n",
       "        vertical-align: middle;\n",
       "    }\n",
       "\n",
       "    .dataframe tbody tr th {\n",
       "        vertical-align: top;\n",
       "    }\n",
       "\n",
       "    .dataframe thead th {\n",
       "        text-align: right;\n",
       "    }\n",
       "</style>\n",
       "<table border=\"1\" class=\"dataframe\">\n",
       "  <thead>\n",
       "    <tr style=\"text-align: right;\">\n",
       "      <th></th>\n",
       "      <th>userId</th>\n",
       "      <th>ativacao</th>\n",
       "      <th>uncaught</th>\n",
       "      <th>eventDate</th>\n",
       "      <th>Opened</th>\n",
       "      <th>donate</th>\n",
       "      <th>onBoardingStage</th>\n",
       "      <th>openCurtain</th>\n",
       "      <th>changeTabPrincipal</th>\n",
       "      <th>associateWithFacebook</th>\n",
       "      <th>...</th>\n",
       "      <th>SubscribeFromCollectedBonusModal</th>\n",
       "      <th>SubscritionClickedEmptyBundle</th>\n",
       "      <th>SubscritionClickedEmptyBundleRedirect</th>\n",
       "      <th>SubscriptionClickedRedirectFromReceivedAndroid</th>\n",
       "      <th>PromotionsClickedActiveIcon</th>\n",
       "      <th>PromotionsClickedCTA</th>\n",
       "      <th>PromotionsClickedInactiveIcon</th>\n",
       "      <th>PromotionsSawEmptyScreen</th>\n",
       "      <th>PromotionsClickedSocial</th>\n",
       "      <th>PromotionsSawPromoCard</th>\n",
       "    </tr>\n",
       "  </thead>\n",
       "  <tbody>\n",
       "    <tr>\n",
       "      <th>0</th>\n",
       "      <td>1111</td>\n",
       "      <td>6.0</td>\n",
       "      <td>2.0</td>\n",
       "      <td>2017-08-28</td>\n",
       "      <td>NaN</td>\n",
       "      <td>NaN</td>\n",
       "      <td>NaN</td>\n",
       "      <td>NaN</td>\n",
       "      <td>NaN</td>\n",
       "      <td>NaN</td>\n",
       "      <td>...</td>\n",
       "      <td>NaN</td>\n",
       "      <td>NaN</td>\n",
       "      <td>NaN</td>\n",
       "      <td>NaN</td>\n",
       "      <td>NaN</td>\n",
       "      <td>NaN</td>\n",
       "      <td>NaN</td>\n",
       "      <td>NaN</td>\n",
       "      <td>NaN</td>\n",
       "      <td>NaN</td>\n",
       "    </tr>\n",
       "    <tr>\n",
       "      <th>1</th>\n",
       "      <td>123</td>\n",
       "      <td>NaN</td>\n",
       "      <td>2.0</td>\n",
       "      <td>2017-10-02</td>\n",
       "      <td>10.0</td>\n",
       "      <td>2.0</td>\n",
       "      <td>3.0</td>\n",
       "      <td>1.0</td>\n",
       "      <td>NaN</td>\n",
       "      <td>NaN</td>\n",
       "      <td>...</td>\n",
       "      <td>NaN</td>\n",
       "      <td>NaN</td>\n",
       "      <td>NaN</td>\n",
       "      <td>NaN</td>\n",
       "      <td>NaN</td>\n",
       "      <td>NaN</td>\n",
       "      <td>NaN</td>\n",
       "      <td>NaN</td>\n",
       "      <td>NaN</td>\n",
       "      <td>NaN</td>\n",
       "    </tr>\n",
       "    <tr>\n",
       "      <th>2</th>\n",
       "      <td>6</td>\n",
       "      <td>NaN</td>\n",
       "      <td>1.0</td>\n",
       "      <td>2017-10-02</td>\n",
       "      <td>3.0</td>\n",
       "      <td>NaN</td>\n",
       "      <td>NaN</td>\n",
       "      <td>1.0</td>\n",
       "      <td>NaN</td>\n",
       "      <td>NaN</td>\n",
       "      <td>...</td>\n",
       "      <td>NaN</td>\n",
       "      <td>NaN</td>\n",
       "      <td>NaN</td>\n",
       "      <td>NaN</td>\n",
       "      <td>NaN</td>\n",
       "      <td>NaN</td>\n",
       "      <td>NaN</td>\n",
       "      <td>NaN</td>\n",
       "      <td>NaN</td>\n",
       "      <td>NaN</td>\n",
       "    </tr>\n",
       "    <tr>\n",
       "      <th>3</th>\n",
       "      <td>7</td>\n",
       "      <td>NaN</td>\n",
       "      <td>3.0</td>\n",
       "      <td>2017-10-02</td>\n",
       "      <td>4.0</td>\n",
       "      <td>NaN</td>\n",
       "      <td>8.0</td>\n",
       "      <td>2.0</td>\n",
       "      <td>NaN</td>\n",
       "      <td>NaN</td>\n",
       "      <td>...</td>\n",
       "      <td>NaN</td>\n",
       "      <td>NaN</td>\n",
       "      <td>NaN</td>\n",
       "      <td>NaN</td>\n",
       "      <td>NaN</td>\n",
       "      <td>NaN</td>\n",
       "      <td>NaN</td>\n",
       "      <td>NaN</td>\n",
       "      <td>NaN</td>\n",
       "      <td>NaN</td>\n",
       "    </tr>\n",
       "    <tr>\n",
       "      <th>4</th>\n",
       "      <td>6</td>\n",
       "      <td>NaN</td>\n",
       "      <td>NaN</td>\n",
       "      <td>2017-10-03</td>\n",
       "      <td>4.0</td>\n",
       "      <td>NaN</td>\n",
       "      <td>10.0</td>\n",
       "      <td>3.0</td>\n",
       "      <td>NaN</td>\n",
       "      <td>NaN</td>\n",
       "      <td>...</td>\n",
       "      <td>NaN</td>\n",
       "      <td>NaN</td>\n",
       "      <td>NaN</td>\n",
       "      <td>NaN</td>\n",
       "      <td>NaN</td>\n",
       "      <td>NaN</td>\n",
       "      <td>NaN</td>\n",
       "      <td>NaN</td>\n",
       "      <td>NaN</td>\n",
       "      <td>NaN</td>\n",
       "    </tr>\n",
       "  </tbody>\n",
       "</table>\n",
       "<p>5 rows × 199 columns</p>\n",
       "</div>"
      ],
      "text/plain": [
       "   userId  ativacao  uncaught  eventDate  Opened  donate  onBoardingStage  \\\n",
       "0    1111       6.0       2.0 2017-08-28     NaN     NaN              NaN   \n",
       "1     123       NaN       2.0 2017-10-02    10.0     2.0              3.0   \n",
       "2       6       NaN       1.0 2017-10-02     3.0     NaN              NaN   \n",
       "3       7       NaN       3.0 2017-10-02     4.0     NaN              8.0   \n",
       "4       6       NaN       NaN 2017-10-03     4.0     NaN             10.0   \n",
       "\n",
       "   openCurtain  changeTabPrincipal  associateWithFacebook  ...  \\\n",
       "0          NaN                 NaN                    NaN  ...   \n",
       "1          1.0                 NaN                    NaN  ...   \n",
       "2          1.0                 NaN                    NaN  ...   \n",
       "3          2.0                 NaN                    NaN  ...   \n",
       "4          3.0                 NaN                    NaN  ...   \n",
       "\n",
       "   SubscribeFromCollectedBonusModal  SubscritionClickedEmptyBundle  \\\n",
       "0                               NaN                            NaN   \n",
       "1                               NaN                            NaN   \n",
       "2                               NaN                            NaN   \n",
       "3                               NaN                            NaN   \n",
       "4                               NaN                            NaN   \n",
       "\n",
       "   SubscritionClickedEmptyBundleRedirect  \\\n",
       "0                                    NaN   \n",
       "1                                    NaN   \n",
       "2                                    NaN   \n",
       "3                                    NaN   \n",
       "4                                    NaN   \n",
       "\n",
       "   SubscriptionClickedRedirectFromReceivedAndroid  \\\n",
       "0                                             NaN   \n",
       "1                                             NaN   \n",
       "2                                             NaN   \n",
       "3                                             NaN   \n",
       "4                                             NaN   \n",
       "\n",
       "   PromotionsClickedActiveIcon  PromotionsClickedCTA  \\\n",
       "0                          NaN                   NaN   \n",
       "1                          NaN                   NaN   \n",
       "2                          NaN                   NaN   \n",
       "3                          NaN                   NaN   \n",
       "4                          NaN                   NaN   \n",
       "\n",
       "   PromotionsClickedInactiveIcon  PromotionsSawEmptyScreen  \\\n",
       "0                            NaN                       NaN   \n",
       "1                            NaN                       NaN   \n",
       "2                            NaN                       NaN   \n",
       "3                            NaN                       NaN   \n",
       "4                            NaN                       NaN   \n",
       "\n",
       "   PromotionsClickedSocial  PromotionsSawPromoCard  \n",
       "0                      NaN                     NaN  \n",
       "1                      NaN                     NaN  \n",
       "2                      NaN                     NaN  \n",
       "3                      NaN                     NaN  \n",
       "4                      NaN                     NaN  \n",
       "\n",
       "[5 rows x 199 columns]"
      ]
     },
     "execution_count": 5,
     "metadata": {},
     "output_type": "execute_result"
    }
   ],
   "source": [
    "# Carrega dataframe de eventos, transforma a coluna eventDate em data e exibe informações básicas do dataframe\n",
    "events_per_user = pd.read_csv(data_path/csv_eventFile, parse_dates=['eventDate'])\n",
    "events_per_user.sort_values('eventDate', inplace=True)\n",
    "print(events_per_user.shape)\n",
    "events_per_user.info(),\n",
    "events_per_user.head()"
   ]
  },
  {
   "cell_type": "markdown",
   "metadata": {},
   "source": [
    "#### Carregando os dados mais recentes do parquet"
   ]
  },
  {
   "cell_type": "code",
   "execution_count": 6,
   "metadata": {},
   "outputs": [
    {
     "name": "stdout",
     "output_type": "stream",
     "text": [
      "CPU times: user 41.8 s, sys: 7.54 s, total: 49.4 s\n",
      "Wall time: 43.7 s\n"
     ]
    }
   ],
   "source": [
    "%%time\n",
    "# carregando o novo arquivo, com os dados mais recentes\n",
    "df = pd.read_parquet(data_path/new_parquet_file)"
   ]
  },
  {
   "cell_type": "code",
   "execution_count": 7,
   "metadata": {},
   "outputs": [
    {
     "name": "stdout",
     "output_type": "stream",
     "text": [
      "(59877344, 7)\n",
      "<class 'pandas.core.frame.DataFrame'>\n",
      "RangeIndex: 59877344 entries, 0 to 59877343\n",
      "Data columns (total 7 columns):\n",
      " #   Column            Dtype         \n",
      "---  ------            -----         \n",
      " 0   sessionTimestamp  datetime64[ns]\n",
      " 1   deviceModel       object        \n",
      " 2   countryISO        object        \n",
      " 3   eventName         object        \n",
      " 4   eventOffset       object        \n",
      " 5   eventParameters   object        \n",
      " 6   userId            object        \n",
      "dtypes: datetime64[ns](1), object(6)\n",
      "memory usage: 3.1+ GB\n"
     ]
    }
   ],
   "source": [
    "# transformando a coluna sessionTimestamp para o formato de data\n",
    "df['sessionTimestamp'] = pd.to_datetime(df.sessionTimestamp, unit='ms')\n",
    "\n",
    "# exibindo informações básicas do novo dataframe\n",
    "print(df.shape)\n",
    "df.info()"
   ]
  },
  {
   "cell_type": "code",
   "execution_count": 8,
   "metadata": {},
   "outputs": [
    {
     "data": {
      "text/plain": [
       "datetime.date(2020, 4, 13)"
      ]
     },
     "execution_count": 8,
     "metadata": {},
     "output_type": "execute_result"
    }
   ],
   "source": [
    "# Definindo a data de início dos eventos do novo dataframe, os quais serão adicionados ao antigo dataframe \n",
    "\n",
    "# Identifica a última data do dataframe inicial\n",
    "lastEventDate = events_per_user.sort_values('eventDate').eventDate.iloc[-1]\n",
    "\n",
    "# Estabelece a data inicial para o novo dataframe\n",
    "data_inicio = (lastEventDate + timedelta(days=1)).date()\n",
    "data_inicio"
   ]
  },
  {
   "cell_type": "code",
   "execution_count": 9,
   "metadata": {
    "scrolled": true
   },
   "outputs": [],
   "source": [
    "# Ignora os eventos anteriores, pois já existem no dataframe original\n",
    "df = df[df.sessionTimestamp  >= (lastEventDate + timedelta(days=1))]"
   ]
  },
  {
   "cell_type": "code",
   "execution_count": 10,
   "metadata": {},
   "outputs": [
    {
     "name": "stdout",
     "output_type": "stream",
     "text": [
      "<class 'pandas.core.frame.DataFrame'>\n",
      "Int64Index: 419702 entries, 59378943 to 59877343\n",
      "Data columns (total 7 columns):\n",
      " #   Column            Non-Null Count   Dtype         \n",
      "---  ------            --------------   -----         \n",
      " 0   sessionTimestamp  419702 non-null  datetime64[ns]\n",
      " 1   deviceModel       419702 non-null  object        \n",
      " 2   countryISO        419702 non-null  object        \n",
      " 3   eventName         419702 non-null  object        \n",
      " 4   eventOffset       419702 non-null  object        \n",
      " 5   eventParameters   419702 non-null  object        \n",
      " 6   userId            419702 non-null  object        \n",
      "dtypes: datetime64[ns](1), object(6)\n",
      "memory usage: 25.6+ MB\n",
      "(419702, 7) None\n"
     ]
    }
   ],
   "source": [
    "print(df.shape, df.info())"
   ]
  },
  {
   "cell_type": "code",
   "execution_count": 11,
   "metadata": {},
   "outputs": [
    {
     "data": {
      "text/plain": [
       "datetime.date(2020, 4, 16)"
      ]
     },
     "execution_count": 11,
     "metadata": {},
     "output_type": "execute_result"
    }
   ],
   "source": [
    "# Identifica a última data dos eventos que serão adicionados ao anterior\n",
    "\n",
    "# pega a última data do novo dataframe\n",
    "lastEventDate = df.sort_values('sessionTimestamp').sessionTimestamp.iloc[-1]\n",
    "data_fim = (lastEventDate).date()\n",
    "data_fim"
   ]
  },
  {
   "cell_type": "markdown",
   "metadata": {},
   "source": [
    "## Limpeza dos dados do dataframe com os novos dados"
   ]
  },
  {
   "cell_type": "code",
   "execution_count": 12,
   "metadata": {
    "scrolled": true
   },
   "outputs": [
    {
     "data": {
      "text/html": [
       "<div>\n",
       "<style scoped>\n",
       "    .dataframe tbody tr th:only-of-type {\n",
       "        vertical-align: middle;\n",
       "    }\n",
       "\n",
       "    .dataframe tbody tr th {\n",
       "        vertical-align: top;\n",
       "    }\n",
       "\n",
       "    .dataframe thead th {\n",
       "        text-align: right;\n",
       "    }\n",
       "</style>\n",
       "<table border=\"1\" class=\"dataframe\">\n",
       "  <thead>\n",
       "    <tr style=\"text-align: right;\">\n",
       "      <th></th>\n",
       "      <th>sessionTimestamp</th>\n",
       "      <th>deviceModel</th>\n",
       "      <th>countryISO</th>\n",
       "      <th>eventName</th>\n",
       "      <th>eventOffset</th>\n",
       "      <th>eventParameters</th>\n",
       "      <th>userId</th>\n",
       "    </tr>\n",
       "  </thead>\n",
       "  <tbody>\n",
       "    <tr>\n",
       "      <th>59378943</th>\n",
       "      <td>2020-04-13 16:15:18.116</td>\n",
       "      <td>Galaxy J8</td>\n",
       "      <td>BR</td>\n",
       "      <td>SendOneSignalUserId</td>\n",
       "      <td>306</td>\n",
       "      <td>{\"userId\":\"\",\"oneSignalUserId\":\"af99030a-8a35-...</td>\n",
       "      <td>231760</td>\n",
       "    </tr>\n",
       "    <tr>\n",
       "      <th>59378944</th>\n",
       "      <td>2020-04-13 16:15:18.116</td>\n",
       "      <td>Galaxy J8</td>\n",
       "      <td>BR</td>\n",
       "      <td>ProfileClickedReceiveBonus</td>\n",
       "      <td>5002</td>\n",
       "      <td>{\"userId\":\"231760\",\"streak\":\"8\"}</td>\n",
       "      <td>231760</td>\n",
       "    </tr>\n",
       "    <tr>\n",
       "      <th>59378945</th>\n",
       "      <td>2020-04-13 16:15:18.116</td>\n",
       "      <td>Galaxy J8</td>\n",
       "      <td>BR</td>\n",
       "      <td>SendOneSignalUserId</td>\n",
       "      <td>27549</td>\n",
       "      <td>{\"userId\":\"\",\"oneSignalUserId\":\"af99030a-8a35-...</td>\n",
       "      <td>231760</td>\n",
       "    </tr>\n",
       "    <tr>\n",
       "      <th>59378946</th>\n",
       "      <td>2020-04-13 16:15:18.116</td>\n",
       "      <td>Galaxy J8</td>\n",
       "      <td>BR</td>\n",
       "      <td>ClickedCollectFeed</td>\n",
       "      <td>33279</td>\n",
       "      <td>{\"screen\":\"Feed\",\"feedId\":\"1323\",\"userId\":\"231...</td>\n",
       "      <td>231760</td>\n",
       "    </tr>\n",
       "    <tr>\n",
       "      <th>59378947</th>\n",
       "      <td>2020-04-13 16:15:18.116</td>\n",
       "      <td>Galaxy J8</td>\n",
       "      <td>BR</td>\n",
       "      <td>OpenedDonationModalFromCard</td>\n",
       "      <td>42813</td>\n",
       "      <td>{\"identifier\":\"Ação da Cidadania\",\"userId\":\"23...</td>\n",
       "      <td>231760</td>\n",
       "    </tr>\n",
       "  </tbody>\n",
       "</table>\n",
       "</div>"
      ],
      "text/plain": [
       "                sessionTimestamp deviceModel countryISO  \\\n",
       "59378943 2020-04-13 16:15:18.116   Galaxy J8         BR   \n",
       "59378944 2020-04-13 16:15:18.116   Galaxy J8         BR   \n",
       "59378945 2020-04-13 16:15:18.116   Galaxy J8         BR   \n",
       "59378946 2020-04-13 16:15:18.116   Galaxy J8         BR   \n",
       "59378947 2020-04-13 16:15:18.116   Galaxy J8         BR   \n",
       "\n",
       "                            eventName eventOffset  \\\n",
       "59378943          SendOneSignalUserId         306   \n",
       "59378944   ProfileClickedReceiveBonus        5002   \n",
       "59378945          SendOneSignalUserId       27549   \n",
       "59378946           ClickedCollectFeed       33279   \n",
       "59378947  OpenedDonationModalFromCard       42813   \n",
       "\n",
       "                                            eventParameters  userId  \n",
       "59378943  {\"userId\":\"\",\"oneSignalUserId\":\"af99030a-8a35-...  231760  \n",
       "59378944                   {\"userId\":\"231760\",\"streak\":\"8\"}  231760  \n",
       "59378945  {\"userId\":\"\",\"oneSignalUserId\":\"af99030a-8a35-...  231760  \n",
       "59378946  {\"screen\":\"Feed\",\"feedId\":\"1323\",\"userId\":\"231...  231760  \n",
       "59378947  {\"identifier\":\"Ação da Cidadania\",\"userId\":\"23...  231760  "
      ]
     },
     "execution_count": 12,
     "metadata": {},
     "output_type": "execute_result"
    }
   ],
   "source": [
    "# reindexa o novo dataframe\n",
    "df.head()"
   ]
  },
  {
   "cell_type": "code",
   "execution_count": 13,
   "metadata": {
    "scrolled": false
   },
   "outputs": [
    {
     "name": "stdout",
     "output_type": "stream",
     "text": [
      "Numero de eventos Nulos:  0\n",
      "Numero de userId Nulos:  0\n",
      "Numero de registros com eventos ou Ids nulos:  0\n"
     ]
    }
   ],
   "source": [
    "# Analisa os dados não válidos\n",
    "print('Numero de eventos Nulos: ', df.eventName.isnull().sum())\n",
    "print('Numero de userId Nulos: ', df.userId.isnull().sum())\n",
    "print('Numero de registros com eventos ou Ids nulos: ',\\\n",
    "      df[df.eventName.isnull() | df.userId.isnull()].shape[0])"
   ]
  },
  {
   "cell_type": "code",
   "execution_count": 14,
   "metadata": {
    "scrolled": true
   },
   "outputs": [
    {
     "data": {
      "text/plain": [
       "23"
      ]
     },
     "execution_count": 14,
     "metadata": {},
     "output_type": "execute_result"
    }
   ],
   "source": [
    "# Analisa eventos com userId não numéricos\n",
    "df.userId.str.contains('\\D+').sum()"
   ]
  },
  {
   "cell_type": "code",
   "execution_count": 15,
   "metadata": {},
   "outputs": [
    {
     "name": "stdout",
     "output_type": "stream",
     "text": [
      "CPU times: user 524 ms, sys: 0 ns, total: 524 ms\n",
      "Wall time: 523 ms\n"
     ]
    },
    {
     "data": {
      "text/plain": [
       "(0, (419679, 7))"
      ]
     },
     "execution_count": 15,
     "metadata": {},
     "output_type": "execute_result"
    }
   ],
   "source": [
    "%%time\n",
    "# Realiza a limpeza dos dados, removendo os eventos com userId não numérico\n",
    "df = df[df.userId.str.contains('^\\d+$')]\n",
    "df.userId.str.contains('\\D+').sum(), df.shape"
   ]
  },
  {
   "cell_type": "code",
   "execution_count": 16,
   "metadata": {
    "scrolled": true
   },
   "outputs": [],
   "source": [
    "# transforma o userID em dados numéricos para deixar no mesmo formato do dataframe anterior\n",
    "df['userId'] = pd.to_numeric(df['userId'], errors='coerce')"
   ]
  },
  {
   "cell_type": "code",
   "execution_count": 17,
   "metadata": {},
   "outputs": [
    {
     "name": "stdout",
     "output_type": "stream",
     "text": [
      "Nro registros com userID = 0 :  0\n"
     ]
    }
   ],
   "source": [
    "# Analisa a quantidade de eventos com userId igual a zero\n",
    "print('Nro registros com userID = 0 : ', df.loc[df['userId'] == 0].shape[0])"
   ]
  },
  {
   "cell_type": "code",
   "execution_count": 18,
   "metadata": {},
   "outputs": [
    {
     "data": {
      "text/plain": [
       "(0, (419679, 7))"
      ]
     },
     "execution_count": 18,
     "metadata": {},
     "output_type": "execute_result"
    }
   ],
   "source": [
    "# Remove os usuários com o userId igual a zero\n",
    "df = df.loc[df['userId'] != 0]\n",
    "df.loc[df['userId'] == 0].shape[0], df.shape"
   ]
  },
  {
   "cell_type": "code",
   "execution_count": 19,
   "metadata": {},
   "outputs": [
    {
     "data": {
      "text/plain": [
       "0"
      ]
     },
     "execution_count": 19,
     "metadata": {},
     "output_type": "execute_result"
    }
   ],
   "source": [
    "df.userId.isnull().sum()"
   ]
  },
  {
   "cell_type": "code",
   "execution_count": 20,
   "metadata": {},
   "outputs": [
    {
     "name": "stdout",
     "output_type": "stream",
     "text": [
      "CPU times: user 119 µs, sys: 0 ns, total: 119 µs\n",
      "Wall time: 235 µs\n"
     ]
    }
   ],
   "source": [
    "%%time\n",
    "# Reindexa o dataframe com os novos dados após a limpeza\n",
    "df.reset_index(drop=True, inplace=True)"
   ]
  },
  {
   "cell_type": "code",
   "execution_count": 21,
   "metadata": {
    "scrolled": true
   },
   "outputs": [
    {
     "data": {
      "text/html": [
       "<div>\n",
       "<style scoped>\n",
       "    .dataframe tbody tr th:only-of-type {\n",
       "        vertical-align: middle;\n",
       "    }\n",
       "\n",
       "    .dataframe tbody tr th {\n",
       "        vertical-align: top;\n",
       "    }\n",
       "\n",
       "    .dataframe thead th {\n",
       "        text-align: right;\n",
       "    }\n",
       "</style>\n",
       "<table border=\"1\" class=\"dataframe\">\n",
       "  <thead>\n",
       "    <tr style=\"text-align: right;\">\n",
       "      <th></th>\n",
       "      <th>sessionTimestamp</th>\n",
       "      <th>deviceModel</th>\n",
       "      <th>countryISO</th>\n",
       "      <th>eventName</th>\n",
       "      <th>eventOffset</th>\n",
       "      <th>eventParameters</th>\n",
       "      <th>userId</th>\n",
       "    </tr>\n",
       "  </thead>\n",
       "  <tbody>\n",
       "    <tr>\n",
       "      <th>0</th>\n",
       "      <td>2020-04-13 16:15:18.116</td>\n",
       "      <td>Galaxy J8</td>\n",
       "      <td>BR</td>\n",
       "      <td>SendOneSignalUserId</td>\n",
       "      <td>306</td>\n",
       "      <td>{\"userId\":\"\",\"oneSignalUserId\":\"af99030a-8a35-...</td>\n",
       "      <td>231760</td>\n",
       "    </tr>\n",
       "    <tr>\n",
       "      <th>1</th>\n",
       "      <td>2020-04-13 16:15:18.116</td>\n",
       "      <td>Galaxy J8</td>\n",
       "      <td>BR</td>\n",
       "      <td>ProfileClickedReceiveBonus</td>\n",
       "      <td>5002</td>\n",
       "      <td>{\"userId\":\"231760\",\"streak\":\"8\"}</td>\n",
       "      <td>231760</td>\n",
       "    </tr>\n",
       "    <tr>\n",
       "      <th>2</th>\n",
       "      <td>2020-04-13 16:15:18.116</td>\n",
       "      <td>Galaxy J8</td>\n",
       "      <td>BR</td>\n",
       "      <td>SendOneSignalUserId</td>\n",
       "      <td>27549</td>\n",
       "      <td>{\"userId\":\"\",\"oneSignalUserId\":\"af99030a-8a35-...</td>\n",
       "      <td>231760</td>\n",
       "    </tr>\n",
       "    <tr>\n",
       "      <th>3</th>\n",
       "      <td>2020-04-13 16:15:18.116</td>\n",
       "      <td>Galaxy J8</td>\n",
       "      <td>BR</td>\n",
       "      <td>ClickedCollectFeed</td>\n",
       "      <td>33279</td>\n",
       "      <td>{\"screen\":\"Feed\",\"feedId\":\"1323\",\"userId\":\"231...</td>\n",
       "      <td>231760</td>\n",
       "    </tr>\n",
       "    <tr>\n",
       "      <th>4</th>\n",
       "      <td>2020-04-13 16:15:18.116</td>\n",
       "      <td>Galaxy J8</td>\n",
       "      <td>BR</td>\n",
       "      <td>OpenedDonationModalFromCard</td>\n",
       "      <td>42813</td>\n",
       "      <td>{\"identifier\":\"Ação da Cidadania\",\"userId\":\"23...</td>\n",
       "      <td>231760</td>\n",
       "    </tr>\n",
       "  </tbody>\n",
       "</table>\n",
       "</div>"
      ],
      "text/plain": [
       "         sessionTimestamp deviceModel countryISO                    eventName  \\\n",
       "0 2020-04-13 16:15:18.116   Galaxy J8         BR          SendOneSignalUserId   \n",
       "1 2020-04-13 16:15:18.116   Galaxy J8         BR   ProfileClickedReceiveBonus   \n",
       "2 2020-04-13 16:15:18.116   Galaxy J8         BR          SendOneSignalUserId   \n",
       "3 2020-04-13 16:15:18.116   Galaxy J8         BR           ClickedCollectFeed   \n",
       "4 2020-04-13 16:15:18.116   Galaxy J8         BR  OpenedDonationModalFromCard   \n",
       "\n",
       "  eventOffset                                    eventParameters  userId  \n",
       "0         306  {\"userId\":\"\",\"oneSignalUserId\":\"af99030a-8a35-...  231760  \n",
       "1        5002                   {\"userId\":\"231760\",\"streak\":\"8\"}  231760  \n",
       "2       27549  {\"userId\":\"\",\"oneSignalUserId\":\"af99030a-8a35-...  231760  \n",
       "3       33279  {\"screen\":\"Feed\",\"feedId\":\"1323\",\"userId\":\"231...  231760  \n",
       "4       42813  {\"identifier\":\"Ação da Cidadania\",\"userId\":\"23...  231760  "
      ]
     },
     "execution_count": 21,
     "metadata": {},
     "output_type": "execute_result"
    }
   ],
   "source": [
    "df.head()"
   ]
  },
  {
   "cell_type": "code",
   "execution_count": 22,
   "metadata": {},
   "outputs": [
    {
     "name": "stdout",
     "output_type": "stream",
     "text": [
      "<class 'pandas.core.frame.DataFrame'>\n",
      "RangeIndex: 419679 entries, 0 to 419678\n",
      "Data columns (total 7 columns):\n",
      " #   Column            Non-Null Count   Dtype         \n",
      "---  ------            --------------   -----         \n",
      " 0   sessionTimestamp  419679 non-null  datetime64[ns]\n",
      " 1   deviceModel       419679 non-null  object        \n",
      " 2   countryISO        419679 non-null  object        \n",
      " 3   eventName         419679 non-null  object        \n",
      " 4   eventOffset       419679 non-null  object        \n",
      " 5   eventParameters   419679 non-null  object        \n",
      " 6   userId            419679 non-null  int64         \n",
      "dtypes: datetime64[ns](1), int64(1), object(5)\n",
      "memory usage: 22.4+ MB\n"
     ]
    }
   ],
   "source": [
    "df.info()"
   ]
  },
  {
   "cell_type": "markdown",
   "metadata": {},
   "source": [
    "### Preparando os novos dados para concatenar com o antigo"
   ]
  },
  {
   "cell_type": "code",
   "execution_count": 23,
   "metadata": {},
   "outputs": [
    {
     "name": "stdout",
     "output_type": "stream",
     "text": [
      "CPU times: user 1.73 s, sys: 0 ns, total: 1.73 s\n",
      "Wall time: 1.73 s\n"
     ]
    }
   ],
   "source": [
    "%%time\n",
    "# criando a coluna de eventDate para realizar o agrupamento\n",
    "df['eventDate'] = df.sessionTimestamp.dt.strftime(\"%Y-%m-%d\")"
   ]
  },
  {
   "cell_type": "code",
   "execution_count": 24,
   "metadata": {},
   "outputs": [
    {
     "data": {
      "text/html": [
       "<div>\n",
       "<style scoped>\n",
       "    .dataframe tbody tr th:only-of-type {\n",
       "        vertical-align: middle;\n",
       "    }\n",
       "\n",
       "    .dataframe tbody tr th {\n",
       "        vertical-align: top;\n",
       "    }\n",
       "\n",
       "    .dataframe thead th {\n",
       "        text-align: right;\n",
       "    }\n",
       "</style>\n",
       "<table border=\"1\" class=\"dataframe\">\n",
       "  <thead>\n",
       "    <tr style=\"text-align: right;\">\n",
       "      <th></th>\n",
       "      <th>sessionTimestamp</th>\n",
       "      <th>deviceModel</th>\n",
       "      <th>countryISO</th>\n",
       "      <th>eventName</th>\n",
       "      <th>eventOffset</th>\n",
       "      <th>eventParameters</th>\n",
       "      <th>userId</th>\n",
       "      <th>eventDate</th>\n",
       "    </tr>\n",
       "  </thead>\n",
       "  <tbody>\n",
       "    <tr>\n",
       "      <th>0</th>\n",
       "      <td>2020-04-13 16:15:18.116</td>\n",
       "      <td>Galaxy J8</td>\n",
       "      <td>BR</td>\n",
       "      <td>SendOneSignalUserId</td>\n",
       "      <td>306</td>\n",
       "      <td>{\"userId\":\"\",\"oneSignalUserId\":\"af99030a-8a35-...</td>\n",
       "      <td>231760</td>\n",
       "      <td>2020-04-13</td>\n",
       "    </tr>\n",
       "    <tr>\n",
       "      <th>1</th>\n",
       "      <td>2020-04-13 16:15:18.116</td>\n",
       "      <td>Galaxy J8</td>\n",
       "      <td>BR</td>\n",
       "      <td>ProfileClickedReceiveBonus</td>\n",
       "      <td>5002</td>\n",
       "      <td>{\"userId\":\"231760\",\"streak\":\"8\"}</td>\n",
       "      <td>231760</td>\n",
       "      <td>2020-04-13</td>\n",
       "    </tr>\n",
       "    <tr>\n",
       "      <th>2</th>\n",
       "      <td>2020-04-13 16:15:18.116</td>\n",
       "      <td>Galaxy J8</td>\n",
       "      <td>BR</td>\n",
       "      <td>SendOneSignalUserId</td>\n",
       "      <td>27549</td>\n",
       "      <td>{\"userId\":\"\",\"oneSignalUserId\":\"af99030a-8a35-...</td>\n",
       "      <td>231760</td>\n",
       "      <td>2020-04-13</td>\n",
       "    </tr>\n",
       "    <tr>\n",
       "      <th>3</th>\n",
       "      <td>2020-04-13 16:15:18.116</td>\n",
       "      <td>Galaxy J8</td>\n",
       "      <td>BR</td>\n",
       "      <td>ClickedCollectFeed</td>\n",
       "      <td>33279</td>\n",
       "      <td>{\"screen\":\"Feed\",\"feedId\":\"1323\",\"userId\":\"231...</td>\n",
       "      <td>231760</td>\n",
       "      <td>2020-04-13</td>\n",
       "    </tr>\n",
       "    <tr>\n",
       "      <th>4</th>\n",
       "      <td>2020-04-13 16:15:18.116</td>\n",
       "      <td>Galaxy J8</td>\n",
       "      <td>BR</td>\n",
       "      <td>OpenedDonationModalFromCard</td>\n",
       "      <td>42813</td>\n",
       "      <td>{\"identifier\":\"Ação da Cidadania\",\"userId\":\"23...</td>\n",
       "      <td>231760</td>\n",
       "      <td>2020-04-13</td>\n",
       "    </tr>\n",
       "  </tbody>\n",
       "</table>\n",
       "</div>"
      ],
      "text/plain": [
       "         sessionTimestamp deviceModel countryISO                    eventName  \\\n",
       "0 2020-04-13 16:15:18.116   Galaxy J8         BR          SendOneSignalUserId   \n",
       "1 2020-04-13 16:15:18.116   Galaxy J8         BR   ProfileClickedReceiveBonus   \n",
       "2 2020-04-13 16:15:18.116   Galaxy J8         BR          SendOneSignalUserId   \n",
       "3 2020-04-13 16:15:18.116   Galaxy J8         BR           ClickedCollectFeed   \n",
       "4 2020-04-13 16:15:18.116   Galaxy J8         BR  OpenedDonationModalFromCard   \n",
       "\n",
       "  eventOffset                                    eventParameters  userId  \\\n",
       "0         306  {\"userId\":\"\",\"oneSignalUserId\":\"af99030a-8a35-...  231760   \n",
       "1        5002                   {\"userId\":\"231760\",\"streak\":\"8\"}  231760   \n",
       "2       27549  {\"userId\":\"\",\"oneSignalUserId\":\"af99030a-8a35-...  231760   \n",
       "3       33279  {\"screen\":\"Feed\",\"feedId\":\"1323\",\"userId\":\"231...  231760   \n",
       "4       42813  {\"identifier\":\"Ação da Cidadania\",\"userId\":\"23...  231760   \n",
       "\n",
       "    eventDate  \n",
       "0  2020-04-13  \n",
       "1  2020-04-13  \n",
       "2  2020-04-13  \n",
       "3  2020-04-13  \n",
       "4  2020-04-13  "
      ]
     },
     "execution_count": 24,
     "metadata": {},
     "output_type": "execute_result"
    }
   ],
   "source": [
    "df.head()"
   ]
  },
  {
   "cell_type": "code",
   "execution_count": 25,
   "metadata": {},
   "outputs": [],
   "source": [
    "# Realizando o agrupamento pela data\n",
    "e = df[['eventDate','userId','eventName', 'eventOffset']]\\\n",
    "                  .groupby(['eventDate'], as_index=True)"
   ]
  },
  {
   "cell_type": "code",
   "execution_count": 26,
   "metadata": {},
   "outputs": [
    {
     "name": "stdout",
     "output_type": "stream",
     "text": [
      "CPU times: user 347 ms, sys: 107 ms, total: 453 ms\n",
      "Wall time: 737 ms\n"
     ]
    }
   ],
   "source": [
    "%%time\n",
    "\n",
    "# Criando o dataframe new_events_per_user com os novos dados\n",
    "# Ele será concatenado com os eventos anteriores\n",
    "\n",
    "new_events_per_user = pd.DataFrame()\n",
    "for date, group in e:\n",
    "    #print(name)\n",
    "    df1 = group.groupby(['userId', 'eventName'], as_index=False).agg({'eventOffset': 'count'})\n",
    "    df1.columns = ['userId', 'eventName', 'eventOccurrences']\n",
    "    df1 = df1.pivot(index='userId', columns='eventName', values='eventOccurrences')\n",
    "    df1.reset_index(inplace=True)\n",
    "    df1['eventDate'] = date\n",
    "    #print(group.columns)\n",
    "    new_events_per_user = pd.concat([new_events_per_user, df1], sort=False, ignore_index=True)"
   ]
  },
  {
   "cell_type": "code",
   "execution_count": 27,
   "metadata": {},
   "outputs": [
    {
     "data": {
      "text/plain": [
       "(27444, 106)"
      ]
     },
     "execution_count": 27,
     "metadata": {},
     "output_type": "execute_result"
    }
   ],
   "source": [
    "# estrutura do novo dataframe\n",
    "new_events_per_user.shape"
   ]
  },
  {
   "cell_type": "code",
   "execution_count": 28,
   "metadata": {
    "scrolled": true
   },
   "outputs": [
    {
     "data": {
      "text/plain": [
       "Index(['userId', 'ClickedAdAfterDonate', 'ClickedAdBeforeDonate',\n",
       "       'ClickedAdMoreInfo', 'ClickedButtonComic', 'ClickedCollectBonus',\n",
       "       'ClickedCollectFeed', 'ClickedCollectedBonus', 'ClickedCollectedFeed',\n",
       "       'ClickedEarnedBadge',\n",
       "       ...\n",
       "       'openNgoProfileFromCard', 'uncaught', 'eventDate',\n",
       "       'DonationClickedMoreInfo3', 'PromotionsClickedSocial', 'SkipQuiz',\n",
       "       'goChatFromFAQ', 'requestDeleteAccount', 'EditProfileChangePassword',\n",
       "       'OpenedAdOnFeedView'],\n",
       "      dtype='object', length=106)"
      ]
     },
     "execution_count": 28,
     "metadata": {},
     "output_type": "execute_result"
    }
   ],
   "source": [
    "# as colunas do novo dataframe\n",
    "new_events_per_user.columns"
   ]
  },
  {
   "cell_type": "code",
   "execution_count": 29,
   "metadata": {},
   "outputs": [
    {
     "data": {
      "text/html": [
       "<div>\n",
       "<style scoped>\n",
       "    .dataframe tbody tr th:only-of-type {\n",
       "        vertical-align: middle;\n",
       "    }\n",
       "\n",
       "    .dataframe tbody tr th {\n",
       "        vertical-align: top;\n",
       "    }\n",
       "\n",
       "    .dataframe thead th {\n",
       "        text-align: right;\n",
       "    }\n",
       "</style>\n",
       "<table border=\"1\" class=\"dataframe\">\n",
       "  <thead>\n",
       "    <tr style=\"text-align: right;\">\n",
       "      <th></th>\n",
       "      <th>userId</th>\n",
       "      <th>eventDate</th>\n",
       "      <th>Doou</th>\n",
       "    </tr>\n",
       "  </thead>\n",
       "  <tbody>\n",
       "    <tr>\n",
       "      <th>0</th>\n",
       "      <td>9</td>\n",
       "      <td>2020-04-13</td>\n",
       "      <td>3.0</td>\n",
       "    </tr>\n",
       "    <tr>\n",
       "      <th>1</th>\n",
       "      <td>23</td>\n",
       "      <td>2020-04-13</td>\n",
       "      <td>1.0</td>\n",
       "    </tr>\n",
       "    <tr>\n",
       "      <th>2</th>\n",
       "      <td>58</td>\n",
       "      <td>2020-04-13</td>\n",
       "      <td>5.0</td>\n",
       "    </tr>\n",
       "    <tr>\n",
       "      <th>3</th>\n",
       "      <td>59</td>\n",
       "      <td>2020-04-13</td>\n",
       "      <td>NaN</td>\n",
       "    </tr>\n",
       "    <tr>\n",
       "      <th>4</th>\n",
       "      <td>68</td>\n",
       "      <td>2020-04-13</td>\n",
       "      <td>1.0</td>\n",
       "    </tr>\n",
       "    <tr>\n",
       "      <th>5</th>\n",
       "      <td>149</td>\n",
       "      <td>2020-04-13</td>\n",
       "      <td>NaN</td>\n",
       "    </tr>\n",
       "    <tr>\n",
       "      <th>6</th>\n",
       "      <td>232</td>\n",
       "      <td>2020-04-13</td>\n",
       "      <td>NaN</td>\n",
       "    </tr>\n",
       "    <tr>\n",
       "      <th>7</th>\n",
       "      <td>416</td>\n",
       "      <td>2020-04-13</td>\n",
       "      <td>NaN</td>\n",
       "    </tr>\n",
       "    <tr>\n",
       "      <th>8</th>\n",
       "      <td>459</td>\n",
       "      <td>2020-04-13</td>\n",
       "      <td>NaN</td>\n",
       "    </tr>\n",
       "    <tr>\n",
       "      <th>9</th>\n",
       "      <td>489</td>\n",
       "      <td>2020-04-13</td>\n",
       "      <td>NaN</td>\n",
       "    </tr>\n",
       "  </tbody>\n",
       "</table>\n",
       "</div>"
      ],
      "text/plain": [
       "   userId   eventDate  Doou\n",
       "0       9  2020-04-13   3.0\n",
       "1      23  2020-04-13   1.0\n",
       "2      58  2020-04-13   5.0\n",
       "3      59  2020-04-13   NaN\n",
       "4      68  2020-04-13   1.0\n",
       "5     149  2020-04-13   NaN\n",
       "6     232  2020-04-13   NaN\n",
       "7     416  2020-04-13   NaN\n",
       "8     459  2020-04-13   NaN\n",
       "9     489  2020-04-13   NaN"
      ]
     },
     "execution_count": 29,
     "metadata": {},
     "output_type": "execute_result"
    }
   ],
   "source": [
    "# Exibinado algumas linhas do novo dataframe\n",
    "new_events_per_user[['userId', 'eventDate', 'Doou']].head(10)"
   ]
  },
  {
   "cell_type": "code",
   "execution_count": 30,
   "metadata": {},
   "outputs": [
    {
     "data": {
      "text/html": [
       "<div>\n",
       "<style scoped>\n",
       "    .dataframe tbody tr th:only-of-type {\n",
       "        vertical-align: middle;\n",
       "    }\n",
       "\n",
       "    .dataframe tbody tr th {\n",
       "        vertical-align: top;\n",
       "    }\n",
       "\n",
       "    .dataframe thead th {\n",
       "        text-align: right;\n",
       "    }\n",
       "</style>\n",
       "<table border=\"1\" class=\"dataframe\">\n",
       "  <thead>\n",
       "    <tr style=\"text-align: right;\">\n",
       "      <th></th>\n",
       "      <th>userId</th>\n",
       "      <th>ClickedAdAfterDonate</th>\n",
       "      <th>ClickedAdBeforeDonate</th>\n",
       "      <th>ClickedAdMoreInfo</th>\n",
       "      <th>ClickedButtonComic</th>\n",
       "      <th>ClickedCollectBonus</th>\n",
       "      <th>ClickedCollectFeed</th>\n",
       "      <th>ClickedCollectedBonus</th>\n",
       "      <th>ClickedCollectedFeed</th>\n",
       "      <th>ClickedEarnedBadge</th>\n",
       "      <th>...</th>\n",
       "      <th>openNgoProfileFromCard</th>\n",
       "      <th>uncaught</th>\n",
       "      <th>eventDate</th>\n",
       "      <th>DonationClickedMoreInfo3</th>\n",
       "      <th>PromotionsClickedSocial</th>\n",
       "      <th>SkipQuiz</th>\n",
       "      <th>goChatFromFAQ</th>\n",
       "      <th>requestDeleteAccount</th>\n",
       "      <th>EditProfileChangePassword</th>\n",
       "      <th>OpenedAdOnFeedView</th>\n",
       "    </tr>\n",
       "  </thead>\n",
       "  <tbody>\n",
       "    <tr>\n",
       "      <th>0</th>\n",
       "      <td>9</td>\n",
       "      <td>NaN</td>\n",
       "      <td>NaN</td>\n",
       "      <td>NaN</td>\n",
       "      <td>NaN</td>\n",
       "      <td>NaN</td>\n",
       "      <td>NaN</td>\n",
       "      <td>NaN</td>\n",
       "      <td>NaN</td>\n",
       "      <td>NaN</td>\n",
       "      <td>...</td>\n",
       "      <td>NaN</td>\n",
       "      <td>NaN</td>\n",
       "      <td>2020-04-13</td>\n",
       "      <td>NaN</td>\n",
       "      <td>NaN</td>\n",
       "      <td>NaN</td>\n",
       "      <td>NaN</td>\n",
       "      <td>NaN</td>\n",
       "      <td>NaN</td>\n",
       "      <td>NaN</td>\n",
       "    </tr>\n",
       "    <tr>\n",
       "      <th>1</th>\n",
       "      <td>23</td>\n",
       "      <td>NaN</td>\n",
       "      <td>NaN</td>\n",
       "      <td>NaN</td>\n",
       "      <td>1.0</td>\n",
       "      <td>1.0</td>\n",
       "      <td>1.0</td>\n",
       "      <td>NaN</td>\n",
       "      <td>NaN</td>\n",
       "      <td>NaN</td>\n",
       "      <td>...</td>\n",
       "      <td>NaN</td>\n",
       "      <td>NaN</td>\n",
       "      <td>2020-04-13</td>\n",
       "      <td>NaN</td>\n",
       "      <td>NaN</td>\n",
       "      <td>NaN</td>\n",
       "      <td>NaN</td>\n",
       "      <td>NaN</td>\n",
       "      <td>NaN</td>\n",
       "      <td>NaN</td>\n",
       "    </tr>\n",
       "    <tr>\n",
       "      <th>2</th>\n",
       "      <td>58</td>\n",
       "      <td>NaN</td>\n",
       "      <td>NaN</td>\n",
       "      <td>NaN</td>\n",
       "      <td>NaN</td>\n",
       "      <td>NaN</td>\n",
       "      <td>2.0</td>\n",
       "      <td>NaN</td>\n",
       "      <td>NaN</td>\n",
       "      <td>NaN</td>\n",
       "      <td>...</td>\n",
       "      <td>NaN</td>\n",
       "      <td>NaN</td>\n",
       "      <td>2020-04-13</td>\n",
       "      <td>NaN</td>\n",
       "      <td>NaN</td>\n",
       "      <td>NaN</td>\n",
       "      <td>NaN</td>\n",
       "      <td>NaN</td>\n",
       "      <td>NaN</td>\n",
       "      <td>NaN</td>\n",
       "    </tr>\n",
       "    <tr>\n",
       "      <th>3</th>\n",
       "      <td>59</td>\n",
       "      <td>NaN</td>\n",
       "      <td>NaN</td>\n",
       "      <td>NaN</td>\n",
       "      <td>NaN</td>\n",
       "      <td>NaN</td>\n",
       "      <td>6.0</td>\n",
       "      <td>NaN</td>\n",
       "      <td>1.0</td>\n",
       "      <td>NaN</td>\n",
       "      <td>...</td>\n",
       "      <td>NaN</td>\n",
       "      <td>NaN</td>\n",
       "      <td>2020-04-13</td>\n",
       "      <td>NaN</td>\n",
       "      <td>NaN</td>\n",
       "      <td>NaN</td>\n",
       "      <td>NaN</td>\n",
       "      <td>NaN</td>\n",
       "      <td>NaN</td>\n",
       "      <td>NaN</td>\n",
       "    </tr>\n",
       "    <tr>\n",
       "      <th>4</th>\n",
       "      <td>68</td>\n",
       "      <td>NaN</td>\n",
       "      <td>NaN</td>\n",
       "      <td>NaN</td>\n",
       "      <td>NaN</td>\n",
       "      <td>NaN</td>\n",
       "      <td>3.0</td>\n",
       "      <td>NaN</td>\n",
       "      <td>NaN</td>\n",
       "      <td>NaN</td>\n",
       "      <td>...</td>\n",
       "      <td>NaN</td>\n",
       "      <td>NaN</td>\n",
       "      <td>2020-04-13</td>\n",
       "      <td>NaN</td>\n",
       "      <td>NaN</td>\n",
       "      <td>NaN</td>\n",
       "      <td>NaN</td>\n",
       "      <td>NaN</td>\n",
       "      <td>NaN</td>\n",
       "      <td>NaN</td>\n",
       "    </tr>\n",
       "  </tbody>\n",
       "</table>\n",
       "<p>5 rows × 106 columns</p>\n",
       "</div>"
      ],
      "text/plain": [
       "   userId  ClickedAdAfterDonate  ClickedAdBeforeDonate  ClickedAdMoreInfo  \\\n",
       "0       9                   NaN                    NaN                NaN   \n",
       "1      23                   NaN                    NaN                NaN   \n",
       "2      58                   NaN                    NaN                NaN   \n",
       "3      59                   NaN                    NaN                NaN   \n",
       "4      68                   NaN                    NaN                NaN   \n",
       "\n",
       "   ClickedButtonComic  ClickedCollectBonus  ClickedCollectFeed  \\\n",
       "0                 NaN                  NaN                 NaN   \n",
       "1                 1.0                  1.0                 1.0   \n",
       "2                 NaN                  NaN                 2.0   \n",
       "3                 NaN                  NaN                 6.0   \n",
       "4                 NaN                  NaN                 3.0   \n",
       "\n",
       "   ClickedCollectedBonus  ClickedCollectedFeed  ClickedEarnedBadge  ...  \\\n",
       "0                    NaN                   NaN                 NaN  ...   \n",
       "1                    NaN                   NaN                 NaN  ...   \n",
       "2                    NaN                   NaN                 NaN  ...   \n",
       "3                    NaN                   1.0                 NaN  ...   \n",
       "4                    NaN                   NaN                 NaN  ...   \n",
       "\n",
       "   openNgoProfileFromCard  uncaught   eventDate  DonationClickedMoreInfo3  \\\n",
       "0                     NaN       NaN  2020-04-13                       NaN   \n",
       "1                     NaN       NaN  2020-04-13                       NaN   \n",
       "2                     NaN       NaN  2020-04-13                       NaN   \n",
       "3                     NaN       NaN  2020-04-13                       NaN   \n",
       "4                     NaN       NaN  2020-04-13                       NaN   \n",
       "\n",
       "   PromotionsClickedSocial  SkipQuiz  goChatFromFAQ  requestDeleteAccount  \\\n",
       "0                      NaN       NaN            NaN                   NaN   \n",
       "1                      NaN       NaN            NaN                   NaN   \n",
       "2                      NaN       NaN            NaN                   NaN   \n",
       "3                      NaN       NaN            NaN                   NaN   \n",
       "4                      NaN       NaN            NaN                   NaN   \n",
       "\n",
       "   EditProfileChangePassword  OpenedAdOnFeedView  \n",
       "0                        NaN                 NaN  \n",
       "1                        NaN                 NaN  \n",
       "2                        NaN                 NaN  \n",
       "3                        NaN                 NaN  \n",
       "4                        NaN                 NaN  \n",
       "\n",
       "[5 rows x 106 columns]"
      ]
     },
     "execution_count": 30,
     "metadata": {},
     "output_type": "execute_result"
    }
   ],
   "source": [
    "new_events_per_user.head()"
   ]
  },
  {
   "cell_type": "code",
   "execution_count": 31,
   "metadata": {},
   "outputs": [
    {
     "data": {
      "text/plain": [
       "13840"
      ]
     },
     "execution_count": 31,
     "metadata": {},
     "output_type": "execute_result"
    }
   ],
   "source": [
    "# Quantidade de usuários unicos no novo dataframe\n",
    "new_events_per_user.userId.nunique()"
   ]
  },
  {
   "cell_type": "markdown",
   "metadata": {},
   "source": [
    "### Concatenando os novos eventos com os eventos antigos"
   ]
  },
  {
   "cell_type": "code",
   "execution_count": 32,
   "metadata": {},
   "outputs": [
    {
     "name": "stdout",
     "output_type": "stream",
     "text": [
      "CPU times: user 7.82 s, sys: 5.18 s, total: 13 s\n",
      "Wall time: 23.9 s\n"
     ]
    }
   ],
   "source": [
    "%%time\n",
    "total = pd.concat([events_per_user, new_events_per_user], sort=False, ignore_index=True)"
   ]
  },
  {
   "cell_type": "code",
   "execution_count": 33,
   "metadata": {},
   "outputs": [
    {
     "name": "stdout",
     "output_type": "stream",
     "text": [
      "<class 'pandas.core.frame.DataFrame'>\n",
      "RangeIndex: 3771908 entries, 0 to 3771907\n",
      "Columns: 203 entries, userId to ProfileClickedProfile\n",
      "dtypes: float64(201), int64(1), object(1)\n",
      "memory usage: 5.7+ GB\n",
      "(3771908, 203) None\n"
     ]
    }
   ],
   "source": [
    "# Exibindo dados do dataframe concatenado\n",
    "print(total.shape,total.info())"
   ]
  },
  {
   "cell_type": "code",
   "execution_count": 34,
   "metadata": {},
   "outputs": [
    {
     "data": {
      "text/html": [
       "<div>\n",
       "<style scoped>\n",
       "    .dataframe tbody tr th:only-of-type {\n",
       "        vertical-align: middle;\n",
       "    }\n",
       "\n",
       "    .dataframe tbody tr th {\n",
       "        vertical-align: top;\n",
       "    }\n",
       "\n",
       "    .dataframe thead th {\n",
       "        text-align: right;\n",
       "    }\n",
       "</style>\n",
       "<table border=\"1\" class=\"dataframe\">\n",
       "  <thead>\n",
       "    <tr style=\"text-align: right;\">\n",
       "      <th></th>\n",
       "      <th>userId</th>\n",
       "      <th>ativacao</th>\n",
       "      <th>uncaught</th>\n",
       "      <th>eventDate</th>\n",
       "      <th>Opened</th>\n",
       "      <th>donate</th>\n",
       "      <th>onBoardingStage</th>\n",
       "      <th>openCurtain</th>\n",
       "      <th>changeTabPrincipal</th>\n",
       "      <th>associateWithFacebook</th>\n",
       "      <th>...</th>\n",
       "      <th>PromotionsClickedActiveIcon</th>\n",
       "      <th>PromotionsClickedCTA</th>\n",
       "      <th>PromotionsClickedInactiveIcon</th>\n",
       "      <th>PromotionsSawEmptyScreen</th>\n",
       "      <th>PromotionsClickedSocial</th>\n",
       "      <th>PromotionsSawPromoCard</th>\n",
       "      <th>DonationSawSubscriptionPackage</th>\n",
       "      <th>ImpactSawCommunityImpact</th>\n",
       "      <th>ImpactSawUserImpact</th>\n",
       "      <th>ProfileClickedProfile</th>\n",
       "    </tr>\n",
       "  </thead>\n",
       "  <tbody>\n",
       "    <tr>\n",
       "      <th>0</th>\n",
       "      <td>1111</td>\n",
       "      <td>6.0</td>\n",
       "      <td>2.0</td>\n",
       "      <td>2017-08-28 00:00:00</td>\n",
       "      <td>NaN</td>\n",
       "      <td>NaN</td>\n",
       "      <td>NaN</td>\n",
       "      <td>NaN</td>\n",
       "      <td>NaN</td>\n",
       "      <td>NaN</td>\n",
       "      <td>...</td>\n",
       "      <td>NaN</td>\n",
       "      <td>NaN</td>\n",
       "      <td>NaN</td>\n",
       "      <td>NaN</td>\n",
       "      <td>NaN</td>\n",
       "      <td>NaN</td>\n",
       "      <td>NaN</td>\n",
       "      <td>NaN</td>\n",
       "      <td>NaN</td>\n",
       "      <td>NaN</td>\n",
       "    </tr>\n",
       "    <tr>\n",
       "      <th>1</th>\n",
       "      <td>123</td>\n",
       "      <td>NaN</td>\n",
       "      <td>2.0</td>\n",
       "      <td>2017-10-02 00:00:00</td>\n",
       "      <td>10.0</td>\n",
       "      <td>2.0</td>\n",
       "      <td>3.0</td>\n",
       "      <td>1.0</td>\n",
       "      <td>NaN</td>\n",
       "      <td>NaN</td>\n",
       "      <td>...</td>\n",
       "      <td>NaN</td>\n",
       "      <td>NaN</td>\n",
       "      <td>NaN</td>\n",
       "      <td>NaN</td>\n",
       "      <td>NaN</td>\n",
       "      <td>NaN</td>\n",
       "      <td>NaN</td>\n",
       "      <td>NaN</td>\n",
       "      <td>NaN</td>\n",
       "      <td>NaN</td>\n",
       "    </tr>\n",
       "    <tr>\n",
       "      <th>2</th>\n",
       "      <td>6</td>\n",
       "      <td>NaN</td>\n",
       "      <td>1.0</td>\n",
       "      <td>2017-10-02 00:00:00</td>\n",
       "      <td>3.0</td>\n",
       "      <td>NaN</td>\n",
       "      <td>NaN</td>\n",
       "      <td>1.0</td>\n",
       "      <td>NaN</td>\n",
       "      <td>NaN</td>\n",
       "      <td>...</td>\n",
       "      <td>NaN</td>\n",
       "      <td>NaN</td>\n",
       "      <td>NaN</td>\n",
       "      <td>NaN</td>\n",
       "      <td>NaN</td>\n",
       "      <td>NaN</td>\n",
       "      <td>NaN</td>\n",
       "      <td>NaN</td>\n",
       "      <td>NaN</td>\n",
       "      <td>NaN</td>\n",
       "    </tr>\n",
       "    <tr>\n",
       "      <th>3</th>\n",
       "      <td>7</td>\n",
       "      <td>NaN</td>\n",
       "      <td>3.0</td>\n",
       "      <td>2017-10-02 00:00:00</td>\n",
       "      <td>4.0</td>\n",
       "      <td>NaN</td>\n",
       "      <td>8.0</td>\n",
       "      <td>2.0</td>\n",
       "      <td>NaN</td>\n",
       "      <td>NaN</td>\n",
       "      <td>...</td>\n",
       "      <td>NaN</td>\n",
       "      <td>NaN</td>\n",
       "      <td>NaN</td>\n",
       "      <td>NaN</td>\n",
       "      <td>NaN</td>\n",
       "      <td>NaN</td>\n",
       "      <td>NaN</td>\n",
       "      <td>NaN</td>\n",
       "      <td>NaN</td>\n",
       "      <td>NaN</td>\n",
       "    </tr>\n",
       "    <tr>\n",
       "      <th>4</th>\n",
       "      <td>6</td>\n",
       "      <td>NaN</td>\n",
       "      <td>NaN</td>\n",
       "      <td>2017-10-03 00:00:00</td>\n",
       "      <td>4.0</td>\n",
       "      <td>NaN</td>\n",
       "      <td>10.0</td>\n",
       "      <td>3.0</td>\n",
       "      <td>NaN</td>\n",
       "      <td>NaN</td>\n",
       "      <td>...</td>\n",
       "      <td>NaN</td>\n",
       "      <td>NaN</td>\n",
       "      <td>NaN</td>\n",
       "      <td>NaN</td>\n",
       "      <td>NaN</td>\n",
       "      <td>NaN</td>\n",
       "      <td>NaN</td>\n",
       "      <td>NaN</td>\n",
       "      <td>NaN</td>\n",
       "      <td>NaN</td>\n",
       "    </tr>\n",
       "  </tbody>\n",
       "</table>\n",
       "<p>5 rows × 203 columns</p>\n",
       "</div>"
      ],
      "text/plain": [
       "   userId  ativacao  uncaught            eventDate  Opened  donate  \\\n",
       "0    1111       6.0       2.0  2017-08-28 00:00:00     NaN     NaN   \n",
       "1     123       NaN       2.0  2017-10-02 00:00:00    10.0     2.0   \n",
       "2       6       NaN       1.0  2017-10-02 00:00:00     3.0     NaN   \n",
       "3       7       NaN       3.0  2017-10-02 00:00:00     4.0     NaN   \n",
       "4       6       NaN       NaN  2017-10-03 00:00:00     4.0     NaN   \n",
       "\n",
       "   onBoardingStage  openCurtain  changeTabPrincipal  associateWithFacebook  \\\n",
       "0              NaN          NaN                 NaN                    NaN   \n",
       "1              3.0          1.0                 NaN                    NaN   \n",
       "2              NaN          1.0                 NaN                    NaN   \n",
       "3              8.0          2.0                 NaN                    NaN   \n",
       "4             10.0          3.0                 NaN                    NaN   \n",
       "\n",
       "   ...  PromotionsClickedActiveIcon  PromotionsClickedCTA  \\\n",
       "0  ...                          NaN                   NaN   \n",
       "1  ...                          NaN                   NaN   \n",
       "2  ...                          NaN                   NaN   \n",
       "3  ...                          NaN                   NaN   \n",
       "4  ...                          NaN                   NaN   \n",
       "\n",
       "   PromotionsClickedInactiveIcon  PromotionsSawEmptyScreen  \\\n",
       "0                            NaN                       NaN   \n",
       "1                            NaN                       NaN   \n",
       "2                            NaN                       NaN   \n",
       "3                            NaN                       NaN   \n",
       "4                            NaN                       NaN   \n",
       "\n",
       "   PromotionsClickedSocial  PromotionsSawPromoCard  \\\n",
       "0                      NaN                     NaN   \n",
       "1                      NaN                     NaN   \n",
       "2                      NaN                     NaN   \n",
       "3                      NaN                     NaN   \n",
       "4                      NaN                     NaN   \n",
       "\n",
       "   DonationSawSubscriptionPackage  ImpactSawCommunityImpact  \\\n",
       "0                             NaN                       NaN   \n",
       "1                             NaN                       NaN   \n",
       "2                             NaN                       NaN   \n",
       "3                             NaN                       NaN   \n",
       "4                             NaN                       NaN   \n",
       "\n",
       "   ImpactSawUserImpact  ProfileClickedProfile  \n",
       "0                  NaN                    NaN  \n",
       "1                  NaN                    NaN  \n",
       "2                  NaN                    NaN  \n",
       "3                  NaN                    NaN  \n",
       "4                  NaN                    NaN  \n",
       "\n",
       "[5 rows x 203 columns]"
      ]
     },
     "execution_count": 34,
     "metadata": {},
     "output_type": "execute_result"
    }
   ],
   "source": [
    "total.head()"
   ]
  },
  {
   "cell_type": "code",
   "execution_count": 35,
   "metadata": {},
   "outputs": [
    {
     "data": {
      "text/plain": [
       "208716"
      ]
     },
     "execution_count": 35,
     "metadata": {},
     "output_type": "execute_result"
    }
   ],
   "source": [
    "# Exibindo a quantidade de usuários único no dataframe concatenado\n",
    "total.userId.nunique()"
   ]
  },
  {
   "cell_type": "code",
   "execution_count": 60,
   "metadata": {},
   "outputs": [],
   "source": [
    "# Existiam duas colunas de doação: donate e Doou\n",
    "# Se estiver consolidando dataframes mais antigos (Março de 2019), deve ser executadas as linhas abaixo\n",
    "\n",
    "# events_per_user['Doou'] = events_per_user[['donate','Doou']].sum(axis=1)\n",
    "# events_per_user.drop(['donate'], axis=1, inplace=True)"
   ]
  },
  {
   "cell_type": "code",
   "execution_count": 61,
   "metadata": {},
   "outputs": [],
   "source": [
    "# Salvando o novo arquivo com os dados concatenados\n",
    "arq_nome = 'ribon_events_per_user_' +  str(data_fim) + '.csv'\n",
    "total.to_csv(data_path/arq_nome, index=False)"
   ]
  },
  {
   "cell_type": "markdown",
   "metadata": {},
   "source": [
    "### Concatenando os novos usuários ao antigo dataframe de users"
   ]
  },
  {
   "cell_type": "code",
   "execution_count": 38,
   "metadata": {
    "scrolled": true
   },
   "outputs": [
    {
     "name": "stdout",
     "output_type": "stream",
     "text": [
      "(13840, 2)\n",
      "CPU times: user 3.58 s, sys: 35.7 ms, total: 3.61 s\n",
      "Wall time: 3.75 s\n"
     ]
    },
    {
     "data": {
      "text/html": [
       "<div>\n",
       "<style scoped>\n",
       "    .dataframe tbody tr th:only-of-type {\n",
       "        vertical-align: middle;\n",
       "    }\n",
       "\n",
       "    .dataframe tbody tr th {\n",
       "        vertical-align: top;\n",
       "    }\n",
       "\n",
       "    .dataframe thead th {\n",
       "        text-align: right;\n",
       "    }\n",
       "</style>\n",
       "<table border=\"1\" class=\"dataframe\">\n",
       "  <thead>\n",
       "    <tr style=\"text-align: right;\">\n",
       "      <th></th>\n",
       "      <th>deviceModel</th>\n",
       "      <th>countryISO</th>\n",
       "    </tr>\n",
       "    <tr>\n",
       "      <th>userId</th>\n",
       "      <th></th>\n",
       "      <th></th>\n",
       "    </tr>\n",
       "  </thead>\n",
       "  <tbody>\n",
       "    <tr>\n",
       "      <th>1</th>\n",
       "      <td>Moto G (5S) Plus</td>\n",
       "      <td>BR</td>\n",
       "    </tr>\n",
       "    <tr>\n",
       "      <th>8</th>\n",
       "      <td>Galaxy S10</td>\n",
       "      <td>BR</td>\n",
       "    </tr>\n",
       "    <tr>\n",
       "      <th>9</th>\n",
       "      <td>Galaxy S8</td>\n",
       "      <td>BR</td>\n",
       "    </tr>\n",
       "    <tr>\n",
       "      <th>23</th>\n",
       "      <td>iPhone XR</td>\n",
       "      <td>BR</td>\n",
       "    </tr>\n",
       "    <tr>\n",
       "      <th>25</th>\n",
       "      <td>Galaxy J7 Prime</td>\n",
       "      <td>BR</td>\n",
       "    </tr>\n",
       "  </tbody>\n",
       "</table>\n",
       "</div>"
      ],
      "text/plain": [
       "             deviceModel countryISO\n",
       "userId                             \n",
       "1       Moto G (5S) Plus         BR\n",
       "8             Galaxy S10         BR\n",
       "9              Galaxy S8         BR\n",
       "23             iPhone XR         BR\n",
       "25       Galaxy J7 Prime         BR"
      ]
     },
     "execution_count": 38,
     "metadata": {},
     "output_type": "execute_result"
    }
   ],
   "source": [
    "%%time\n",
    "\n",
    "# Pegando os usuários e as features do dataframe com os novos eventos\n",
    "new_users = df[['userId','deviceModel', 'countryISO']].groupby(['userId']).agg(pd.Series.mode)\n",
    "print(new_users.shape)\n",
    "new_users.head()"
   ]
  },
  {
   "cell_type": "code",
   "execution_count": 39,
   "metadata": {},
   "outputs": [],
   "source": [
    "# Definindo o userId como index do dataframe antigo para preparar a concatenação\n",
    "users.set_index('userId', inplace=True)"
   ]
  },
  {
   "cell_type": "code",
   "execution_count": 40,
   "metadata": {},
   "outputs": [
    {
     "name": "stdout",
     "output_type": "stream",
     "text": [
      "<class 'pandas.core.frame.DataFrame'>\n",
      "Int64Index: 13840 entries, 1 to 268364\n",
      "Data columns (total 2 columns):\n",
      " #   Column       Non-Null Count  Dtype \n",
      "---  ------       --------------  ----- \n",
      " 0   deviceModel  13840 non-null  object\n",
      " 1   countryISO   13840 non-null  object\n",
      "dtypes: object(2)\n",
      "memory usage: 324.4+ KB\n"
     ]
    }
   ],
   "source": [
    "# Informação do novo dataframe\n",
    "new_users.info()"
   ]
  },
  {
   "cell_type": "code",
   "execution_count": 41,
   "metadata": {},
   "outputs": [
    {
     "name": "stdout",
     "output_type": "stream",
     "text": [
      "<class 'pandas.core.frame.DataFrame'>\n",
      "Int64Index: 207287 entries, 1 to 99996\n",
      "Data columns (total 2 columns):\n",
      " #   Column       Non-Null Count   Dtype \n",
      "---  ------       --------------   ----- \n",
      " 0   deviceModel  207287 non-null  object\n",
      " 1   countryISO   207287 non-null  object\n",
      "dtypes: object(2)\n",
      "memory usage: 4.7+ MB\n"
     ]
    }
   ],
   "source": [
    "# Informação do antigo dataframe\n",
    "users.info()"
   ]
  },
  {
   "cell_type": "code",
   "execution_count": 42,
   "metadata": {
    "scrolled": true
   },
   "outputs": [
    {
     "data": {
      "text/html": [
       "<div>\n",
       "<style scoped>\n",
       "    .dataframe tbody tr th:only-of-type {\n",
       "        vertical-align: middle;\n",
       "    }\n",
       "\n",
       "    .dataframe tbody tr th {\n",
       "        vertical-align: top;\n",
       "    }\n",
       "\n",
       "    .dataframe thead th {\n",
       "        text-align: right;\n",
       "    }\n",
       "</style>\n",
       "<table border=\"1\" class=\"dataframe\">\n",
       "  <thead>\n",
       "    <tr style=\"text-align: right;\">\n",
       "      <th></th>\n",
       "      <th>deviceModel</th>\n",
       "      <th>countryISO</th>\n",
       "    </tr>\n",
       "    <tr>\n",
       "      <th>userId</th>\n",
       "      <th></th>\n",
       "      <th></th>\n",
       "    </tr>\n",
       "  </thead>\n",
       "  <tbody>\n",
       "    <tr>\n",
       "      <th>1</th>\n",
       "      <td>Moto G (5S) Plus</td>\n",
       "      <td>BR</td>\n",
       "    </tr>\n",
       "    <tr>\n",
       "      <th>2</th>\n",
       "      <td>Galaxy Note8</td>\n",
       "      <td>BR</td>\n",
       "    </tr>\n",
       "    <tr>\n",
       "      <th>8</th>\n",
       "      <td>Galaxy S10</td>\n",
       "      <td>BR</td>\n",
       "    </tr>\n",
       "    <tr>\n",
       "      <th>9</th>\n",
       "      <td>Galaxy S8</td>\n",
       "      <td>BR</td>\n",
       "    </tr>\n",
       "    <tr>\n",
       "      <th>15</th>\n",
       "      <td>Galaxy S8+</td>\n",
       "      <td>BR</td>\n",
       "    </tr>\n",
       "  </tbody>\n",
       "</table>\n",
       "</div>"
      ],
      "text/plain": [
       "             deviceModel countryISO\n",
       "userId                             \n",
       "1       Moto G (5S) Plus         BR\n",
       "2           Galaxy Note8         BR\n",
       "8             Galaxy S10         BR\n",
       "9              Galaxy S8         BR\n",
       "15            Galaxy S8+         BR"
      ]
     },
     "execution_count": 42,
     "metadata": {},
     "output_type": "execute_result"
    }
   ],
   "source": [
    "users.head()"
   ]
  },
  {
   "cell_type": "code",
   "execution_count": 43,
   "metadata": {},
   "outputs": [
    {
     "data": {
      "text/html": [
       "<div>\n",
       "<style scoped>\n",
       "    .dataframe tbody tr th:only-of-type {\n",
       "        vertical-align: middle;\n",
       "    }\n",
       "\n",
       "    .dataframe tbody tr th {\n",
       "        vertical-align: top;\n",
       "    }\n",
       "\n",
       "    .dataframe thead th {\n",
       "        text-align: right;\n",
       "    }\n",
       "</style>\n",
       "<table border=\"1\" class=\"dataframe\">\n",
       "  <thead>\n",
       "    <tr style=\"text-align: right;\">\n",
       "      <th></th>\n",
       "      <th>deviceModel</th>\n",
       "      <th>countryISO</th>\n",
       "    </tr>\n",
       "    <tr>\n",
       "      <th>userId</th>\n",
       "      <th></th>\n",
       "      <th></th>\n",
       "    </tr>\n",
       "  </thead>\n",
       "  <tbody>\n",
       "    <tr>\n",
       "      <th>1</th>\n",
       "      <td>Moto G (5S) Plus</td>\n",
       "      <td>BR</td>\n",
       "    </tr>\n",
       "    <tr>\n",
       "      <th>8</th>\n",
       "      <td>Galaxy S10</td>\n",
       "      <td>BR</td>\n",
       "    </tr>\n",
       "    <tr>\n",
       "      <th>9</th>\n",
       "      <td>Galaxy S8</td>\n",
       "      <td>BR</td>\n",
       "    </tr>\n",
       "    <tr>\n",
       "      <th>23</th>\n",
       "      <td>iPhone XR</td>\n",
       "      <td>BR</td>\n",
       "    </tr>\n",
       "    <tr>\n",
       "      <th>25</th>\n",
       "      <td>Galaxy J7 Prime</td>\n",
       "      <td>BR</td>\n",
       "    </tr>\n",
       "  </tbody>\n",
       "</table>\n",
       "</div>"
      ],
      "text/plain": [
       "             deviceModel countryISO\n",
       "userId                             \n",
       "1       Moto G (5S) Plus         BR\n",
       "8             Galaxy S10         BR\n",
       "9              Galaxy S8         BR\n",
       "23             iPhone XR         BR\n",
       "25       Galaxy J7 Prime         BR"
      ]
     },
     "execution_count": 43,
     "metadata": {},
     "output_type": "execute_result"
    }
   ],
   "source": [
    "new_users.head()"
   ]
  },
  {
   "cell_type": "code",
   "execution_count": 44,
   "metadata": {
    "scrolled": true
   },
   "outputs": [
    {
     "name": "stdout",
     "output_type": "stream",
     "text": [
      "<class 'pandas.core.frame.DataFrame'>\n",
      "Int64Index: 208716 entries, 0 to 221126\n",
      "Data columns (total 3 columns):\n",
      " #   Column       Non-Null Count   Dtype \n",
      "---  ------       --------------   ----- \n",
      " 0   userId       208716 non-null  int64 \n",
      " 1   deviceModel  208716 non-null  object\n",
      " 2   countryISO   208716 non-null  object\n",
      "dtypes: int64(1), object(2)\n",
      "memory usage: 6.4+ MB\n",
      "(208716, 3) None\n"
     ]
    },
    {
     "data": {
      "text/html": [
       "<div>\n",
       "<style scoped>\n",
       "    .dataframe tbody tr th:only-of-type {\n",
       "        vertical-align: middle;\n",
       "    }\n",
       "\n",
       "    .dataframe tbody tr th {\n",
       "        vertical-align: top;\n",
       "    }\n",
       "\n",
       "    .dataframe thead th {\n",
       "        text-align: right;\n",
       "    }\n",
       "</style>\n",
       "<table border=\"1\" class=\"dataframe\">\n",
       "  <thead>\n",
       "    <tr style=\"text-align: right;\">\n",
       "      <th></th>\n",
       "      <th>userId</th>\n",
       "      <th>deviceModel</th>\n",
       "      <th>countryISO</th>\n",
       "    </tr>\n",
       "  </thead>\n",
       "  <tbody>\n",
       "    <tr>\n",
       "      <th>0</th>\n",
       "      <td>1</td>\n",
       "      <td>Moto G (5S) Plus</td>\n",
       "      <td>BR</td>\n",
       "    </tr>\n",
       "    <tr>\n",
       "      <th>1</th>\n",
       "      <td>8</td>\n",
       "      <td>Galaxy S10</td>\n",
       "      <td>BR</td>\n",
       "    </tr>\n",
       "    <tr>\n",
       "      <th>2</th>\n",
       "      <td>9</td>\n",
       "      <td>Galaxy S8</td>\n",
       "      <td>BR</td>\n",
       "    </tr>\n",
       "    <tr>\n",
       "      <th>3</th>\n",
       "      <td>23</td>\n",
       "      <td>iPhone XR</td>\n",
       "      <td>BR</td>\n",
       "    </tr>\n",
       "    <tr>\n",
       "      <th>4</th>\n",
       "      <td>25</td>\n",
       "      <td>Galaxy J7 Prime</td>\n",
       "      <td>BR</td>\n",
       "    </tr>\n",
       "  </tbody>\n",
       "</table>\n",
       "</div>"
      ],
      "text/plain": [
       "   userId       deviceModel countryISO\n",
       "0       1  Moto G (5S) Plus         BR\n",
       "1       8        Galaxy S10         BR\n",
       "2       9         Galaxy S8         BR\n",
       "3      23         iPhone XR         BR\n",
       "4      25   Galaxy J7 Prime         BR"
      ]
     },
     "execution_count": 44,
     "metadata": {},
     "output_type": "execute_result"
    }
   ],
   "source": [
    "# concatenando o novo com o antigo\n",
    "# a ordem usava foi essa para manter os dados do novo dataframe em relação ao antigo\n",
    "total_users = pd.concat([new_users, users], axis=0).reset_index().drop_duplicates(subset='userId', keep='first')\n",
    "print(total_users.shape, total_users.info())\n",
    "total_users.head()"
   ]
  },
  {
   "cell_type": "code",
   "execution_count": 45,
   "metadata": {},
   "outputs": [],
   "source": [
    "# Salvando o novo arquivo de usuários\n",
    "arq_nome = 'ribon_users_' +  str(data_fim) + '.csv'\n",
    "\n",
    "total_users.to_csv(data_path/arq_nome, index=False)"
   ]
  },
  {
   "cell_type": "code",
   "execution_count": 46,
   "metadata": {},
   "outputs": [
    {
     "data": {
      "text/plain": [
       "datetime.date(2020, 4, 16)"
      ]
     },
     "execution_count": 46,
     "metadata": {},
     "output_type": "execute_result"
    }
   ],
   "source": [
    "data_fim"
   ]
  },
  {
   "cell_type": "markdown",
   "metadata": {},
   "source": [
    "## Criando o novo arquivo Events"
   ]
  },
  {
   "cell_type": "code",
   "execution_count": 70,
   "metadata": {
    "scrolled": true
   },
   "outputs": [
    {
     "data": {
      "text/plain": [
       "196"
      ]
     },
     "execution_count": 70,
     "metadata": {},
     "output_type": "execute_result"
    }
   ],
   "source": [
    "# definindo duas matrizes uma com as colunas que são de eventos e a outra que não são\n",
    "NO_EVENTS = ['userId', 'eventDate']\n",
    "EVENTS = [c for c in events_per_user.columns if c not in NO_EVENTS]\n",
    "len(EVENTS)"
   ]
  },
  {
   "cell_type": "code",
   "execution_count": 79,
   "metadata": {},
   "outputs": [
    {
     "data": {
      "text/plain": [
       "((196, 4),\n",
       "          eventName firstOccurrence lastOccurrence  intervalOccurrence\n",
       " 0         ativacao      2017-08-28     2017-08-28                 0.0\n",
       " 1         uncaught      2017-08-28     2020-04-12               958.0\n",
       " 2           Opened      2017-10-02     2020-04-10               921.0\n",
       " 3  onBoardingStage      2017-10-02     2019-05-27               602.0\n",
       " 4      openCurtain      2017-10-02     2020-01-16               836.0)"
      ]
     },
     "execution_count": 79,
     "metadata": {},
     "output_type": "execute_result"
    }
   ],
   "source": [
    "# Vamos criar 3 features para cada evento: firstOccurrence', 'lastOccurrence', 'intervalOccurrence'\n",
    "\n",
    "# iniciando o DataFrame de eventos, com as colunas selecionadas para a analise\n",
    "events = pd.DataFrame(columns=['eventName', 'firstOccurrence', 'lastOccurrence', 'intervalOccurrence'])\n",
    "\n",
    "# para cada evento é criado uma linha com o calculo das datas e do intervalo\n",
    "for e in EVENTS:\n",
    "    \n",
    "    firstOccurrence = events_per_user.eventDate[events_per_user[e] > 0].sort_values().iloc[0]\n",
    "    lastOccurrence = events_per_user.eventDate[events_per_user[e] > 0].sort_values().iloc[-1]\n",
    "    \n",
    "    events = events.append({'eventName': e,\n",
    "                              'firstOccurrence': firstOccurrence,\n",
    "                              'lastOccurrence': lastOccurrence,\n",
    "                              'intervalOccurrence': lastOccurrence - firstOccurrence},\n",
    "                              ignore_index=True)\n",
    "    \n",
    "# Converte o intervalo de Timedelta para float\n",
    "events.intervalOccurrence = events.intervalOccurrence.apply(lambda x: float(x.days))\n",
    "\n",
    "events.shape, events.head()"
   ]
  },
  {
   "cell_type": "code",
   "execution_count": 80,
   "metadata": {},
   "outputs": [
    {
     "data": {
      "text/plain": [
       "((196, 33),\n",
       " Index(['2017-08', '2017-09', '2017-10', '2017-11', '2017-12', '2018-01',\n",
       "        '2018-02', '2018-03', '2018-04', '2018-05', '2018-06', '2018-07',\n",
       "        '2018-08', '2018-09', '2018-10', '2018-11', '2018-12', '2019-01',\n",
       "        '2019-02', '2019-03', '2019-04', '2019-05', '2019-06', '2019-07',\n",
       "        '2019-08', '2019-09', '2019-10', '2019-11', '2019-12', '2020-01',\n",
       "        '2020-02', '2020-03', '2020-04'],\n",
       "       dtype='object'),\n",
       "                  2017-08  2017-09  2017-10  2017-11  2017-12  2018-01  \\\n",
       " ativacao             6.0      0.0      0.0      0.0      0.0      0.0   \n",
       " uncaught             2.0      0.0     89.0    220.0    164.0     39.0   \n",
       " Opened               0.0      0.0   3812.0   5496.0   7168.0   8718.0   \n",
       " onBoardingStage      0.0      0.0    969.0    653.0   2547.0   3124.0   \n",
       " openCurtain          0.0      0.0   2262.0   2611.0   3513.0   3444.0   \n",
       " \n",
       "                  2018-02  2018-03  2018-04  2018-05  ...  2019-07  2019-08  \\\n",
       " ativacao             0.0      0.0      0.0      0.0  ...      0.0      0.0   \n",
       " uncaught            27.0     42.0    173.0    578.0  ...  17201.0  35093.0   \n",
       " Opened            4023.0   6025.0  12972.0  42326.0  ...     48.0     22.0   \n",
       " onBoardingStage    537.0    707.0   4581.0  10117.0  ...      0.0      0.0   \n",
       " openCurtain       1820.0   2195.0   8215.0  24589.0  ...     14.0     13.0   \n",
       " \n",
       "                  2019-09  2019-10   2019-11  2019-12  2020-01  2020-02  \\\n",
       " ativacao             0.0      0.0       0.0      0.0      0.0      0.0   \n",
       " uncaught         33396.0  65544.0  111281.0  11675.0   3887.0    499.0   \n",
       " Opened              13.0     10.0      12.0      7.0      6.0      0.0   \n",
       " onBoardingStage      0.0      0.0       0.0      0.0      0.0      0.0   \n",
       " openCurtain          2.0      4.0       2.0      0.0      5.0      0.0   \n",
       " \n",
       "                  2020-03  2020-04  \n",
       " ativacao             0.0      0.0  \n",
       " uncaught          1298.0    946.0  \n",
       " Opened               5.0      1.0  \n",
       " onBoardingStage      0.0      0.0  \n",
       " openCurtain          0.0      0.0  \n",
       " \n",
       " [5 rows x 33 columns])"
      ]
     },
     "execution_count": 80,
     "metadata": {},
     "output_type": "execute_result"
    }
   ],
   "source": [
    "# definindo uma matriz para definir as colunas que serão usadas (filtradas) antes do resample\n",
    "# basicamente adicionando o eventDate com a matriz EVENTS\n",
    "colunas = EVENTS\n",
    "colunas.append('eventDate')\n",
    "\n",
    "# cria um novo dataframe com a somatória mensal de eventos.\n",
    "# de forma que os eventos ficam nas linhas e os meses na coluna\n",
    "eventos_mes = events_per_user[colunas].resample('M', on='eventDate').sum().transpose()\n",
    "\n",
    "# renomeia as colunas do dataframa só com os dados do ano e mês\n",
    "eventos_mes.columns = [str(m.date())[:7] for m in eventos_mes.columns]\n",
    "\n",
    "eventos_mes.shape, eventos_mes.columns, eventos_mes.head()"
   ]
  },
  {
   "cell_type": "code",
   "execution_count": 81,
   "metadata": {},
   "outputs": [
    {
     "data": {
      "text/plain": [
       "((196, 37),\n",
       "       eventName firstOccurrence lastOccurrence  intervalOccurrence  2017-08  \\\n",
       " 0      ativacao      2017-08-28     2017-08-28                 0.0      6.0   \n",
       " 1      uncaught      2017-08-28     2020-04-12               958.0      2.0   \n",
       " 4   openCurtain      2017-10-02     2020-01-16               836.0      0.0   \n",
       " 71         Doou      2017-10-02     2020-04-12               923.0      0.0   \n",
       " 2        Opened      2017-10-02     2020-04-10               921.0      0.0   \n",
       " \n",
       "     2017-09  2017-10  2017-11  2017-12  2018-01  ...   2019-07   2019-08  \\\n",
       " 0       0.0      0.0      0.0      0.0      0.0  ...       0.0       0.0   \n",
       " 1       0.0     89.0    220.0    164.0     39.0  ...   17201.0   35093.0   \n",
       " 4       0.0   2262.0   2611.0   3513.0   3444.0  ...      14.0      13.0   \n",
       " 71      0.0   2134.0   3452.0   4674.0   6274.0  ...  406257.0  650544.0   \n",
       " 2       0.0   3812.0   5496.0   7168.0   8718.0  ...      48.0      22.0   \n",
       " \n",
       "      2019-09   2019-10   2019-11   2019-12   2020-01   2020-02   2020-03  \\\n",
       " 0        0.0       0.0       0.0       0.0       0.0       0.0       0.0   \n",
       " 1    33396.0   65544.0  111281.0   11675.0    3887.0     499.0    1298.0   \n",
       " 4        2.0       4.0       2.0       0.0       5.0       0.0       0.0   \n",
       " 71  386598.0  405144.0  285724.0  268821.0  262098.0  267877.0  325575.0   \n",
       " 2       13.0      10.0      12.0       7.0       6.0       0.0       5.0   \n",
       " \n",
       "     2020-04  \n",
       " 0       0.0  \n",
       " 1     946.0  \n",
       " 4       0.0  \n",
       " 71  96934.0  \n",
       " 2       1.0  \n",
       " \n",
       " [5 rows x 37 columns])"
      ]
     },
     "execution_count": 81,
     "metadata": {},
     "output_type": "execute_result"
    }
   ],
   "source": [
    "# juntando os dataframes eventos e o eventos_mes\n",
    "events = events.sort_values(by=['firstOccurrence'], ascending=True).join(eventos_mes, on= 'eventName')\n",
    "events.shape, events.head()"
   ]
  },
  {
   "cell_type": "code",
   "execution_count": 86,
   "metadata": {},
   "outputs": [],
   "source": [
    "# salvando o arquivo de eventos por usuário\n",
    "arq_name = 'ribon_events_' + str(data_fim) + '.csv'\n",
    "\n",
    "events.to_csv(data_path/arq_name, index=False)"
   ]
  }
 ],
 "metadata": {
  "kernelspec": {
   "display_name": "Python 3",
   "language": "python",
   "name": "python3"
  },
  "language_info": {
   "codemirror_mode": {
    "name": "ipython",
    "version": 3
   },
   "file_extension": ".py",
   "mimetype": "text/x-python",
   "name": "python",
   "nbconvert_exporter": "python",
   "pygments_lexer": "ipython3",
   "version": "3.7.7"
  }
 },
 "nbformat": 4,
 "nbformat_minor": 2
}
