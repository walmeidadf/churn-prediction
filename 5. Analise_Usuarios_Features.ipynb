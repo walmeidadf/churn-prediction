{
 "cells": [
  {
   "cell_type": "code",
   "execution_count": 1,
   "metadata": {},
   "outputs": [],
   "source": [
    "%matplotlib inline\n",
    "import numpy as np\n",
    "import pandas as pd\n",
    "import matplotlib.pyplot as plt\n",
    "import os\n",
    "import seaborn as sns\n",
    "from pathlib import Path\n",
    "from datetime import date, datetime\n",
    "import re\n",
    "import seaborn as sns"
   ]
  },
  {
   "cell_type": "code",
   "execution_count": 2,
   "metadata": {},
   "outputs": [],
   "source": [
    "sns.set()"
   ]
  },
  {
   "cell_type": "code",
   "execution_count": 3,
   "metadata": {},
   "outputs": [],
   "source": [
    "# Define variáveis\n",
    "path_csv = Path('/Users/wesleyalmeida/GitHub/ribon-parquet')\n",
    "csv_usersFile = 'ribon_users_features_2019-10-27.csv'"
   ]
  },
  {
   "cell_type": "code",
   "execution_count": 4,
   "metadata": {
    "scrolled": true
   },
   "outputs": [
    {
     "name": "stdout",
     "output_type": "stream",
     "text": [
      "(142849, 103)\n",
      "<class 'pandas.core.frame.DataFrame'>\n",
      "RangeIndex: 142849 entries, 0 to 142848\n",
      "Columns: 103 entries, userId to cohort\n",
      "dtypes: datetime64[ns](2), float64(93), int64(5), object(3)\n",
      "memory usage: 112.3+ MB\n"
     ]
    },
    {
     "data": {
      "text/html": [
       "<div>\n",
       "<style scoped>\n",
       "    .dataframe tbody tr th:only-of-type {\n",
       "        vertical-align: middle;\n",
       "    }\n",
       "\n",
       "    .dataframe tbody tr th {\n",
       "        vertical-align: top;\n",
       "    }\n",
       "\n",
       "    .dataframe thead th {\n",
       "        text-align: right;\n",
       "    }\n",
       "</style>\n",
       "<table border=\"1\" class=\"dataframe\">\n",
       "  <thead>\n",
       "    <tr style=\"text-align: right;\">\n",
       "      <th></th>\n",
       "      <th>userId</th>\n",
       "      <th>deviceModel</th>\n",
       "      <th>countryISO</th>\n",
       "      <th>firstAccess</th>\n",
       "      <th>lastAccess</th>\n",
       "      <th>activeDays</th>\n",
       "      <th>calendarDays</th>\n",
       "      <th>donationTotal</th>\n",
       "      <th>averageEventActiveDay</th>\n",
       "      <th>averageEventCalendarDay</th>\n",
       "      <th>...</th>\n",
       "      <th>ClickedInviteFriendsBadgeScreenTotal</th>\n",
       "      <th>ClickedToSeeRewardTotal</th>\n",
       "      <th>ReceiveBadgeButtonTotal</th>\n",
       "      <th>ReceiveBadgeCloseTotal</th>\n",
       "      <th>ClickedBadgesUnupdatedTotal</th>\n",
       "      <th>OpenedAdOnFeedViewTotal</th>\n",
       "      <th>ClickedShareFeedTotal</th>\n",
       "      <th>ClickedShareFeedViewTotal</th>\n",
       "      <th>OpenedProfileInfoTotal</th>\n",
       "      <th>cohort</th>\n",
       "    </tr>\n",
       "  </thead>\n",
       "  <tbody>\n",
       "    <tr>\n",
       "      <td>0</td>\n",
       "      <td>1</td>\n",
       "      <td>Moto G4 Plus</td>\n",
       "      <td>BR</td>\n",
       "      <td>2017-11-07</td>\n",
       "      <td>2017-11-07</td>\n",
       "      <td>1</td>\n",
       "      <td>1</td>\n",
       "      <td>0.0</td>\n",
       "      <td>0.000000</td>\n",
       "      <td>0.000000</td>\n",
       "      <td>...</td>\n",
       "      <td>0.0</td>\n",
       "      <td>0.0</td>\n",
       "      <td>0.0</td>\n",
       "      <td>0.0</td>\n",
       "      <td>0.0</td>\n",
       "      <td>0.0</td>\n",
       "      <td>0.0</td>\n",
       "      <td>0.0</td>\n",
       "      <td>0.0</td>\n",
       "      <td>2017-11</td>\n",
       "    </tr>\n",
       "    <tr>\n",
       "      <td>1</td>\n",
       "      <td>10</td>\n",
       "      <td>iOS Emulator</td>\n",
       "      <td>BR</td>\n",
       "      <td>2017-10-18</td>\n",
       "      <td>2019-05-23</td>\n",
       "      <td>21</td>\n",
       "      <td>583</td>\n",
       "      <td>5.0</td>\n",
       "      <td>0.238095</td>\n",
       "      <td>0.008576</td>\n",
       "      <td>...</td>\n",
       "      <td>0.0</td>\n",
       "      <td>0.0</td>\n",
       "      <td>0.0</td>\n",
       "      <td>0.0</td>\n",
       "      <td>0.0</td>\n",
       "      <td>0.0</td>\n",
       "      <td>0.0</td>\n",
       "      <td>0.0</td>\n",
       "      <td>0.0</td>\n",
       "      <td>2017-10</td>\n",
       "    </tr>\n",
       "    <tr>\n",
       "      <td>2</td>\n",
       "      <td>100</td>\n",
       "      <td>Moto Z (2) Play</td>\n",
       "      <td>BR</td>\n",
       "      <td>2018-12-08</td>\n",
       "      <td>2018-12-08</td>\n",
       "      <td>1</td>\n",
       "      <td>1</td>\n",
       "      <td>6.0</td>\n",
       "      <td>6.000000</td>\n",
       "      <td>6.000000</td>\n",
       "      <td>...</td>\n",
       "      <td>0.0</td>\n",
       "      <td>0.0</td>\n",
       "      <td>0.0</td>\n",
       "      <td>0.0</td>\n",
       "      <td>0.0</td>\n",
       "      <td>0.0</td>\n",
       "      <td>0.0</td>\n",
       "      <td>0.0</td>\n",
       "      <td>0.0</td>\n",
       "      <td>2018-12</td>\n",
       "    </tr>\n",
       "    <tr>\n",
       "      <td>3</td>\n",
       "      <td>1000</td>\n",
       "      <td>Nexus 5</td>\n",
       "      <td>BR</td>\n",
       "      <td>2017-12-01</td>\n",
       "      <td>2017-12-01</td>\n",
       "      <td>1</td>\n",
       "      <td>1</td>\n",
       "      <td>0.0</td>\n",
       "      <td>0.000000</td>\n",
       "      <td>0.000000</td>\n",
       "      <td>...</td>\n",
       "      <td>0.0</td>\n",
       "      <td>0.0</td>\n",
       "      <td>0.0</td>\n",
       "      <td>0.0</td>\n",
       "      <td>0.0</td>\n",
       "      <td>0.0</td>\n",
       "      <td>0.0</td>\n",
       "      <td>0.0</td>\n",
       "      <td>0.0</td>\n",
       "      <td>2017-12</td>\n",
       "    </tr>\n",
       "    <tr>\n",
       "      <td>4</td>\n",
       "      <td>10000</td>\n",
       "      <td>Q6</td>\n",
       "      <td>BR</td>\n",
       "      <td>2018-06-24</td>\n",
       "      <td>2018-06-24</td>\n",
       "      <td>1</td>\n",
       "      <td>1</td>\n",
       "      <td>0.0</td>\n",
       "      <td>0.000000</td>\n",
       "      <td>0.000000</td>\n",
       "      <td>...</td>\n",
       "      <td>0.0</td>\n",
       "      <td>0.0</td>\n",
       "      <td>0.0</td>\n",
       "      <td>0.0</td>\n",
       "      <td>0.0</td>\n",
       "      <td>0.0</td>\n",
       "      <td>0.0</td>\n",
       "      <td>0.0</td>\n",
       "      <td>0.0</td>\n",
       "      <td>2018-06</td>\n",
       "    </tr>\n",
       "  </tbody>\n",
       "</table>\n",
       "<p>5 rows × 103 columns</p>\n",
       "</div>"
      ],
      "text/plain": [
       "   userId      deviceModel countryISO firstAccess lastAccess  activeDays  \\\n",
       "0       1     Moto G4 Plus         BR  2017-11-07 2017-11-07           1   \n",
       "1      10     iOS Emulator         BR  2017-10-18 2019-05-23          21   \n",
       "2     100  Moto Z (2) Play         BR  2018-12-08 2018-12-08           1   \n",
       "3    1000          Nexus 5         BR  2017-12-01 2017-12-01           1   \n",
       "4   10000               Q6         BR  2018-06-24 2018-06-24           1   \n",
       "\n",
       "   calendarDays  donationTotal  averageEventActiveDay  \\\n",
       "0             1            0.0               0.000000   \n",
       "1           583            5.0               0.238095   \n",
       "2             1            6.0               6.000000   \n",
       "3             1            0.0               0.000000   \n",
       "4             1            0.0               0.000000   \n",
       "\n",
       "   averageEventCalendarDay  ...  ClickedInviteFriendsBadgeScreenTotal  \\\n",
       "0                 0.000000  ...                                   0.0   \n",
       "1                 0.008576  ...                                   0.0   \n",
       "2                 6.000000  ...                                   0.0   \n",
       "3                 0.000000  ...                                   0.0   \n",
       "4                 0.000000  ...                                   0.0   \n",
       "\n",
       "   ClickedToSeeRewardTotal  ReceiveBadgeButtonTotal  ReceiveBadgeCloseTotal  \\\n",
       "0                      0.0                      0.0                     0.0   \n",
       "1                      0.0                      0.0                     0.0   \n",
       "2                      0.0                      0.0                     0.0   \n",
       "3                      0.0                      0.0                     0.0   \n",
       "4                      0.0                      0.0                     0.0   \n",
       "\n",
       "   ClickedBadgesUnupdatedTotal  OpenedAdOnFeedViewTotal  \\\n",
       "0                          0.0                      0.0   \n",
       "1                          0.0                      0.0   \n",
       "2                          0.0                      0.0   \n",
       "3                          0.0                      0.0   \n",
       "4                          0.0                      0.0   \n",
       "\n",
       "   ClickedShareFeedTotal  ClickedShareFeedViewTotal  OpenedProfileInfoTotal  \\\n",
       "0                    0.0                        0.0                     0.0   \n",
       "1                    0.0                        0.0                     0.0   \n",
       "2                    0.0                        0.0                     0.0   \n",
       "3                    0.0                        0.0                     0.0   \n",
       "4                    0.0                        0.0                     0.0   \n",
       "\n",
       "    cohort  \n",
       "0  2017-11  \n",
       "1  2017-10  \n",
       "2  2018-12  \n",
       "3  2017-12  \n",
       "4  2018-06  \n",
       "\n",
       "[5 rows x 103 columns]"
      ]
     },
     "execution_count": 4,
     "metadata": {},
     "output_type": "execute_result"
    }
   ],
   "source": [
    "# Carrega dataframe de users\n",
    "users = pd.read_csv(path_csv/csv_usersFile, parse_dates=['firstAccess', 'lastAccess'])\n",
    "print(users.shape)\n",
    "users.info(),\n",
    "users.head()"
   ]
  },
  {
   "cell_type": "code",
   "execution_count": 7,
   "metadata": {},
   "outputs": [
    {
     "data": {
      "text/plain": [
       "42072"
      ]
     },
     "execution_count": 7,
     "metadata": {},
     "output_type": "execute_result"
    }
   ],
   "source": [
    "users.dropna().shape[0]"
   ]
  },
  {
   "cell_type": "code",
   "execution_count": 8,
   "metadata": {
    "scrolled": false
   },
   "outputs": [
    {
     "data": {
      "text/plain": [
       "24528"
      ]
     },
     "execution_count": 8,
     "metadata": {},
     "output_type": "execute_result"
    }
   ],
   "source": [
    "users[(users.lastAccess >= '2019-08-01') & (users.firstAccess < '2019-06')].shape[0]"
   ]
  },
  {
   "cell_type": "code",
   "execution_count": 9,
   "metadata": {},
   "outputs": [
    {
     "data": {
      "text/plain": [
       "55432"
      ]
     },
     "execution_count": 9,
     "metadata": {},
     "output_type": "execute_result"
    }
   ],
   "source": [
    "users[(users.firstAccess.dt.month == users.lastAccess.dt.month)\\\n",
    "      & (users.firstAccess.dt.year == users.lastAccess.dt.year)\\\n",
    "      & (users.firstAccess < '2019-08')].shape[0]"
   ]
  },
  {
   "cell_type": "code",
   "execution_count": 7,
   "metadata": {},
   "outputs": [
    {
     "data": {
      "text/plain": [
       "10839"
      ]
     },
     "execution_count": 7,
     "metadata": {},
     "output_type": "execute_result"
    }
   ],
   "source": [
    "users[(users.activeDays <= 1)\\\n",
    "      & (users.firstAccess < '2019-05')].shape[0]"
   ]
  },
  {
   "cell_type": "code",
   "execution_count": 10,
   "metadata": {},
   "outputs": [
    {
     "data": {
      "text/plain": [
       "24"
      ]
     },
     "execution_count": 10,
     "metadata": {},
     "output_type": "execute_result"
    }
   ],
   "source": [
    "users.cohort.nunique()"
   ]
  },
  {
   "cell_type": "code",
   "execution_count": 11,
   "metadata": {
    "scrolled": true
   },
   "outputs": [
    {
     "data": {
      "text/plain": [
       "cohort\n",
       "2017-08        1\n",
       "2017-10      354\n",
       "2017-11      156\n",
       "2017-12      360\n",
       "2018-01      369\n",
       "2018-02      109\n",
       "2018-03      176\n",
       "2018-04     1436\n",
       "2018-05     3304\n",
       "2018-06     2237\n",
       "2018-07     1897\n",
       "2018-08     2076\n",
       "2018-09     3921\n",
       "2018-10     2896\n",
       "2018-11     2669\n",
       "2018-12     2271\n",
       "2019-01     7229\n",
       "2019-02     4103\n",
       "2019-03     5627\n",
       "2019-04    12671\n",
       "2019-05    52347\n",
       "2019-06     9866\n",
       "2019-07     9593\n",
       "2019-08    17181\n",
       "dtype: int64"
      ]
     },
     "execution_count": 11,
     "metadata": {},
     "output_type": "execute_result"
    }
   ],
   "source": [
    "users[['cohort']].groupby('cohort').size()"
   ]
  },
  {
   "cell_type": "code",
   "execution_count": 12,
   "metadata": {},
   "outputs": [
    {
     "data": {
      "text/plain": [
       "23"
      ]
     },
     "execution_count": 12,
     "metadata": {},
     "output_type": "execute_result"
    }
   ],
   "source": [
    "users[(users.lastAccess >= '2019-08-01') & (users.lastAccess <= '2019-08-31')]['cohort'].nunique()"
   ]
  },
  {
   "cell_type": "code",
   "execution_count": 13,
   "metadata": {},
   "outputs": [
    {
     "data": {
      "text/plain": [
       "74685"
      ]
     },
     "execution_count": 13,
     "metadata": {},
     "output_type": "execute_result"
    }
   ],
   "source": [
    "df = users[(users.lastAccess > '2019-05-01') & (users.activeDays > 2)]\n",
    "df.shape[0]"
   ]
  },
  {
   "cell_type": "code",
   "execution_count": 14,
   "metadata": {},
   "outputs": [],
   "source": [
    "# Function to compute the ECDF\n",
    "def ecdf(data):\n",
    "    \"\"\"Compute ECDF for a one-dimensional array of measurements.\"\"\"\n",
    "    # Number of data points: n\n",
    "    n = len(data)\n",
    "\n",
    "    # x-data for the ECDF: x\n",
    "    x = np.sort(data)\n",
    "\n",
    "    # y-data for the ECDF: y\n",
    "    y = np.arange(1, n + 1) / n\n",
    "    \n",
    "    return x, y"
   ]
  },
  {
   "cell_type": "code",
   "execution_count": 15,
   "metadata": {},
   "outputs": [],
   "source": [
    "# Specify array of percentiles: percentiles\n",
    "percentiles = [2.5, 25, 50, 75, 97.5]"
   ]
  },
  {
   "cell_type": "code",
   "execution_count": 16,
   "metadata": {},
   "outputs": [
    {
     "data": {
      "text/html": [
       "<div>\n",
       "<style scoped>\n",
       "    .dataframe tbody tr th:only-of-type {\n",
       "        vertical-align: middle;\n",
       "    }\n",
       "\n",
       "    .dataframe tbody tr th {\n",
       "        vertical-align: top;\n",
       "    }\n",
       "\n",
       "    .dataframe thead th {\n",
       "        text-align: right;\n",
       "    }\n",
       "</style>\n",
       "<table border=\"1\" class=\"dataframe\">\n",
       "  <thead>\n",
       "    <tr style=\"text-align: right;\">\n",
       "      <th></th>\n",
       "      <th>activeDays</th>\n",
       "      <th>calendarDays</th>\n",
       "      <th>donationTotal</th>\n",
       "      <th>averageEventActiveDay</th>\n",
       "      <th>averageEventCalendarDay</th>\n",
       "      <th>halfLifeDonation</th>\n",
       "      <th>halfLifeActivityDays</th>\n",
       "      <th>averageDaysBetweenDonationEvents</th>\n",
       "      <th>daysSinceLastDonationEvent</th>\n",
       "      <th>ClickedCollectFeedTotal</th>\n",
       "      <th>...</th>\n",
       "      <th>ClickedEarnedBadgeTotal</th>\n",
       "      <th>ClickedInviteFriendsBadgeScreenTotal</th>\n",
       "      <th>ClickedToSeeRewardTotal</th>\n",
       "      <th>ReceiveBadgeButtonTotal</th>\n",
       "      <th>ReceiveBadgeCloseTotal</th>\n",
       "      <th>ClickedBadgesUnupdatedTotal</th>\n",
       "      <th>OpenedAdOnFeedViewTotal</th>\n",
       "      <th>ClickedShareFeedTotal</th>\n",
       "      <th>ClickedShareFeedViewTotal</th>\n",
       "      <th>OpenedProfileInfoTotal</th>\n",
       "    </tr>\n",
       "  </thead>\n",
       "  <tbody>\n",
       "    <tr>\n",
       "      <td>count</td>\n",
       "      <td>74685.000000</td>\n",
       "      <td>74685.00000</td>\n",
       "      <td>74685.000000</td>\n",
       "      <td>74685.000000</td>\n",
       "      <td>74685.000000</td>\n",
       "      <td>74685.000000</td>\n",
       "      <td>74685.000000</td>\n",
       "      <td>63510.000000</td>\n",
       "      <td>63510.000000</td>\n",
       "      <td>74685.000000</td>\n",
       "      <td>...</td>\n",
       "      <td>74685.000000</td>\n",
       "      <td>74685.000000</td>\n",
       "      <td>74685.000000</td>\n",
       "      <td>74685.000000</td>\n",
       "      <td>74685.000000</td>\n",
       "      <td>74685.000000</td>\n",
       "      <td>74685.000000</td>\n",
       "      <td>74685.000000</td>\n",
       "      <td>74685.000000</td>\n",
       "      <td>74685.000000</td>\n",
       "    </tr>\n",
       "    <tr>\n",
       "      <td>mean</td>\n",
       "      <td>23.788016</td>\n",
       "      <td>84.23014</td>\n",
       "      <td>31.989730</td>\n",
       "      <td>1.572561</td>\n",
       "      <td>0.655561</td>\n",
       "      <td>29.223753</td>\n",
       "      <td>31.578269</td>\n",
       "      <td>9.717731</td>\n",
       "      <td>15.741033</td>\n",
       "      <td>38.899819</td>\n",
       "      <td>...</td>\n",
       "      <td>0.553110</td>\n",
       "      <td>0.034438</td>\n",
       "      <td>0.353605</td>\n",
       "      <td>2.965656</td>\n",
       "      <td>4.306983</td>\n",
       "      <td>0.035215</td>\n",
       "      <td>0.025989</td>\n",
       "      <td>0.014300</td>\n",
       "      <td>0.021477</td>\n",
       "      <td>0.000040</td>\n",
       "    </tr>\n",
       "    <tr>\n",
       "      <td>std</td>\n",
       "      <td>33.918169</td>\n",
       "      <td>91.04275</td>\n",
       "      <td>48.348295</td>\n",
       "      <td>1.516624</td>\n",
       "      <td>1.140926</td>\n",
       "      <td>45.478254</td>\n",
       "      <td>46.686722</td>\n",
       "      <td>16.208200</td>\n",
       "      <td>29.064432</td>\n",
       "      <td>41.414839</td>\n",
       "      <td>...</td>\n",
       "      <td>2.308618</td>\n",
       "      <td>0.235825</td>\n",
       "      <td>1.703910</td>\n",
       "      <td>5.038360</td>\n",
       "      <td>6.269556</td>\n",
       "      <td>0.273814</td>\n",
       "      <td>0.283075</td>\n",
       "      <td>0.272426</td>\n",
       "      <td>0.234290</td>\n",
       "      <td>0.008182</td>\n",
       "    </tr>\n",
       "    <tr>\n",
       "      <td>min</td>\n",
       "      <td>3.000000</td>\n",
       "      <td>3.00000</td>\n",
       "      <td>0.000000</td>\n",
       "      <td>0.000000</td>\n",
       "      <td>0.000000</td>\n",
       "      <td>0.000000</td>\n",
       "      <td>2.000000</td>\n",
       "      <td>1.000000</td>\n",
       "      <td>1.000000</td>\n",
       "      <td>0.000000</td>\n",
       "      <td>...</td>\n",
       "      <td>0.000000</td>\n",
       "      <td>0.000000</td>\n",
       "      <td>0.000000</td>\n",
       "      <td>0.000000</td>\n",
       "      <td>0.000000</td>\n",
       "      <td>0.000000</td>\n",
       "      <td>0.000000</td>\n",
       "      <td>0.000000</td>\n",
       "      <td>0.000000</td>\n",
       "      <td>0.000000</td>\n",
       "    </tr>\n",
       "    <tr>\n",
       "      <td>25%</td>\n",
       "      <td>5.000000</td>\n",
       "      <td>20.00000</td>\n",
       "      <td>6.000000</td>\n",
       "      <td>0.736842</td>\n",
       "      <td>0.133333</td>\n",
       "      <td>3.000000</td>\n",
       "      <td>5.000000</td>\n",
       "      <td>2.333333</td>\n",
       "      <td>2.000000</td>\n",
       "      <td>9.000000</td>\n",
       "      <td>...</td>\n",
       "      <td>0.000000</td>\n",
       "      <td>0.000000</td>\n",
       "      <td>0.000000</td>\n",
       "      <td>0.000000</td>\n",
       "      <td>0.000000</td>\n",
       "      <td>0.000000</td>\n",
       "      <td>0.000000</td>\n",
       "      <td>0.000000</td>\n",
       "      <td>0.000000</td>\n",
       "      <td>0.000000</td>\n",
       "    </tr>\n",
       "    <tr>\n",
       "      <td>50%</td>\n",
       "      <td>11.000000</td>\n",
       "      <td>61.00000</td>\n",
       "      <td>16.000000</td>\n",
       "      <td>1.300000</td>\n",
       "      <td>0.350515</td>\n",
       "      <td>11.000000</td>\n",
       "      <td>15.000000</td>\n",
       "      <td>4.642857</td>\n",
       "      <td>5.000000</td>\n",
       "      <td>23.000000</td>\n",
       "      <td>...</td>\n",
       "      <td>0.000000</td>\n",
       "      <td>0.000000</td>\n",
       "      <td>0.000000</td>\n",
       "      <td>1.000000</td>\n",
       "      <td>2.000000</td>\n",
       "      <td>0.000000</td>\n",
       "      <td>0.000000</td>\n",
       "      <td>0.000000</td>\n",
       "      <td>0.000000</td>\n",
       "      <td>0.000000</td>\n",
       "    </tr>\n",
       "    <tr>\n",
       "      <td>75%</td>\n",
       "      <td>27.000000</td>\n",
       "      <td>116.00000</td>\n",
       "      <td>36.000000</td>\n",
       "      <td>2.000000</td>\n",
       "      <td>0.833333</td>\n",
       "      <td>39.000000</td>\n",
       "      <td>41.000000</td>\n",
       "      <td>10.432143</td>\n",
       "      <td>15.000000</td>\n",
       "      <td>56.000000</td>\n",
       "      <td>...</td>\n",
       "      <td>0.000000</td>\n",
       "      <td>0.000000</td>\n",
       "      <td>0.000000</td>\n",
       "      <td>4.000000</td>\n",
       "      <td>6.000000</td>\n",
       "      <td>0.000000</td>\n",
       "      <td>0.000000</td>\n",
       "      <td>0.000000</td>\n",
       "      <td>0.000000</td>\n",
       "      <td>0.000000</td>\n",
       "    </tr>\n",
       "    <tr>\n",
       "      <td>max</td>\n",
       "      <td>552.000000</td>\n",
       "      <td>696.00000</td>\n",
       "      <td>1330.000000</td>\n",
       "      <td>82.750000</td>\n",
       "      <td>82.750000</td>\n",
       "      <td>598.000000</td>\n",
       "      <td>604.000000</td>\n",
       "      <td>484.000000</td>\n",
       "      <td>565.000000</td>\n",
       "      <td>232.000000</td>\n",
       "      <td>...</td>\n",
       "      <td>106.000000</td>\n",
       "      <td>6.000000</td>\n",
       "      <td>82.000000</td>\n",
       "      <td>48.000000</td>\n",
       "      <td>51.000000</td>\n",
       "      <td>12.000000</td>\n",
       "      <td>53.000000</td>\n",
       "      <td>53.000000</td>\n",
       "      <td>25.000000</td>\n",
       "      <td>2.000000</td>\n",
       "    </tr>\n",
       "  </tbody>\n",
       "</table>\n",
       "<p>8 rows × 97 columns</p>\n",
       "</div>"
      ],
      "text/plain": [
       "         activeDays  calendarDays  donationTotal  averageEventActiveDay  \\\n",
       "count  74685.000000   74685.00000   74685.000000           74685.000000   \n",
       "mean      23.788016      84.23014      31.989730               1.572561   \n",
       "std       33.918169      91.04275      48.348295               1.516624   \n",
       "min        3.000000       3.00000       0.000000               0.000000   \n",
       "25%        5.000000      20.00000       6.000000               0.736842   \n",
       "50%       11.000000      61.00000      16.000000               1.300000   \n",
       "75%       27.000000     116.00000      36.000000               2.000000   \n",
       "max      552.000000     696.00000    1330.000000              82.750000   \n",
       "\n",
       "       averageEventCalendarDay  halfLifeDonation  halfLifeActivityDays  \\\n",
       "count             74685.000000      74685.000000          74685.000000   \n",
       "mean                  0.655561         29.223753             31.578269   \n",
       "std                   1.140926         45.478254             46.686722   \n",
       "min                   0.000000          0.000000              2.000000   \n",
       "25%                   0.133333          3.000000              5.000000   \n",
       "50%                   0.350515         11.000000             15.000000   \n",
       "75%                   0.833333         39.000000             41.000000   \n",
       "max                  82.750000        598.000000            604.000000   \n",
       "\n",
       "       averageDaysBetweenDonationEvents  daysSinceLastDonationEvent  \\\n",
       "count                      63510.000000                63510.000000   \n",
       "mean                           9.717731                   15.741033   \n",
       "std                           16.208200                   29.064432   \n",
       "min                            1.000000                    1.000000   \n",
       "25%                            2.333333                    2.000000   \n",
       "50%                            4.642857                    5.000000   \n",
       "75%                           10.432143                   15.000000   \n",
       "max                          484.000000                  565.000000   \n",
       "\n",
       "       ClickedCollectFeedTotal  ...  ClickedEarnedBadgeTotal  \\\n",
       "count             74685.000000  ...             74685.000000   \n",
       "mean                 38.899819  ...                 0.553110   \n",
       "std                  41.414839  ...                 2.308618   \n",
       "min                   0.000000  ...                 0.000000   \n",
       "25%                   9.000000  ...                 0.000000   \n",
       "50%                  23.000000  ...                 0.000000   \n",
       "75%                  56.000000  ...                 0.000000   \n",
       "max                 232.000000  ...               106.000000   \n",
       "\n",
       "       ClickedInviteFriendsBadgeScreenTotal  ClickedToSeeRewardTotal  \\\n",
       "count                          74685.000000             74685.000000   \n",
       "mean                               0.034438                 0.353605   \n",
       "std                                0.235825                 1.703910   \n",
       "min                                0.000000                 0.000000   \n",
       "25%                                0.000000                 0.000000   \n",
       "50%                                0.000000                 0.000000   \n",
       "75%                                0.000000                 0.000000   \n",
       "max                                6.000000                82.000000   \n",
       "\n",
       "       ReceiveBadgeButtonTotal  ReceiveBadgeCloseTotal  \\\n",
       "count             74685.000000            74685.000000   \n",
       "mean                  2.965656                4.306983   \n",
       "std                   5.038360                6.269556   \n",
       "min                   0.000000                0.000000   \n",
       "25%                   0.000000                0.000000   \n",
       "50%                   1.000000                2.000000   \n",
       "75%                   4.000000                6.000000   \n",
       "max                  48.000000               51.000000   \n",
       "\n",
       "       ClickedBadgesUnupdatedTotal  OpenedAdOnFeedViewTotal  \\\n",
       "count                 74685.000000             74685.000000   \n",
       "mean                      0.035215                 0.025989   \n",
       "std                       0.273814                 0.283075   \n",
       "min                       0.000000                 0.000000   \n",
       "25%                       0.000000                 0.000000   \n",
       "50%                       0.000000                 0.000000   \n",
       "75%                       0.000000                 0.000000   \n",
       "max                      12.000000                53.000000   \n",
       "\n",
       "       ClickedShareFeedTotal  ClickedShareFeedViewTotal  \\\n",
       "count           74685.000000               74685.000000   \n",
       "mean                0.014300                   0.021477   \n",
       "std                 0.272426                   0.234290   \n",
       "min                 0.000000                   0.000000   \n",
       "25%                 0.000000                   0.000000   \n",
       "50%                 0.000000                   0.000000   \n",
       "75%                 0.000000                   0.000000   \n",
       "max                53.000000                  25.000000   \n",
       "\n",
       "       OpenedProfileInfoTotal  \n",
       "count            74685.000000  \n",
       "mean                 0.000040  \n",
       "std                  0.008182  \n",
       "min                  0.000000  \n",
       "25%                  0.000000  \n",
       "50%                  0.000000  \n",
       "75%                  0.000000  \n",
       "max                  2.000000  \n",
       "\n",
       "[8 rows x 97 columns]"
      ]
     },
     "execution_count": 16,
     "metadata": {},
     "output_type": "execute_result"
    }
   ],
   "source": [
    "df.drop('userId', axis=1).describe()"
   ]
  },
  {
   "cell_type": "code",
   "execution_count": 17,
   "metadata": {},
   "outputs": [
    {
     "name": "stdout",
     "output_type": "stream",
     "text": [
      "count    74685.000000\n",
      "mean        23.788016\n",
      "std         33.918169\n",
      "min          3.000000\n",
      "25%          5.000000\n",
      "50%         11.000000\n",
      "75%         27.000000\n",
      "max        552.000000\n",
      "Name: activeDays, dtype: float64\n"
     ]
    },
    {
     "data": {
      "image/png": "[encoded data removed]",
      "text/plain": [
       "<Figure size 720x216 with 2 Axes>"
      ]
     },
     "metadata": {},
     "output_type": "display_data"
    }
   ],
   "source": [
    "dados = df.activeDays\n",
    "label = 'activeDays'\n",
    "\n",
    "# Generate subplot\n",
    "fig, (ax1, ax2) = plt.subplots(1, 2, figsize=(10,3))\n",
    "_ = fig.suptitle('Active Days')\n",
    "\n",
    "# Plot histogram\n",
    "_ = ax1.hist(dados, bins=30)\n",
    "\n",
    "# Compute ECDF for versicolor data: x_vers, y_vers\n",
    "x_vers, y_vers = ecdf(dados)\n",
    "\n",
    "# Compute percentiles: ptiles_vers\n",
    "ptiles_vers = np.percentile(dados, percentiles)\n",
    "\n",
    "# Plot the ECDF\n",
    "_ = ax2.plot(x_vers, y_vers, '.')\n",
    "\n",
    "# Overlay percentiles as red diamonds.\n",
    "ptiles = [x/100 for x in percentiles]\n",
    "_ = ax2.plot(ptiles_vers, ptiles, marker='D', color='red', linestyle='none')\n",
    "\n",
    "print(dados.describe())"
   ]
  },
  {
   "cell_type": "code",
   "execution_count": 19,
   "metadata": {},
   "outputs": [
    {
     "data": {
      "text/plain": [
       "<matplotlib.axes._subplots.AxesSubplot at 0x1169502e8>"
      ]
     },
     "execution_count": 19,
     "metadata": {},
     "output_type": "execute_result"
    },
    {
     "data": {
      "image/png": "[encoded data removed]",
      "text/plain": [
       "<Figure size 432x288 with 1 Axes>"
      ]
     },
     "metadata": {},
     "output_type": "display_data"
    }
   ],
   "source": [
    "sns.distplot(df['activeDays'])"
   ]
  },
  {
   "cell_type": "code",
   "execution_count": 20,
   "metadata": {},
   "outputs": [
    {
     "name": "stdout",
     "output_type": "stream",
     "text": [
      "count    74685.00000\n",
      "mean        84.23014\n",
      "std         91.04275\n",
      "min          3.00000\n",
      "25%         20.00000\n",
      "50%         61.00000\n",
      "75%        116.00000\n",
      "max        696.00000\n",
      "Name: calendarDays, dtype: float64\n"
     ]
    },
    {
     "data": {
      "image/png": "[encoded data removed]",
      "text/plain": [
       "<Figure size 720x216 with 2 Axes>"
      ]
     },
     "metadata": {},
     "output_type": "display_data"
    }
   ],
   "source": [
    "dados = df.calendarDays\n",
    "\n",
    "# Generate subplot\n",
    "fig, (ax1, ax2) = plt.subplots(1, 2, figsize=(10,3))\n",
    "_ = fig.suptitle('Calendar Days')\n",
    "\n",
    "# Plot histogram\n",
    "_ = ax1.hist(dados, bins=30)\n",
    "\n",
    "# Compute ECDF for versicolor data: x_vers, y_vers\n",
    "x_vers, y_vers = ecdf(dados)\n",
    "\n",
    "# Plot the ECDF\n",
    "_ = ax2.plot(x_vers, y_vers, '.')\n",
    "\n",
    "# Compute percentiles: ptiles_vers\n",
    "ptiles_vers = np.percentile(dados, percentiles)\n",
    "\n",
    "# Overlay percentiles as red diamonds.\n",
    "ptiles = [x/100 for x in percentiles]\n",
    "_ = ax2.plot(ptiles_vers, ptiles, marker='D', color='red', linestyle='none')\n",
    "\n",
    "print(dados.describe())"
   ]
  },
  {
   "cell_type": "code",
   "execution_count": 21,
   "metadata": {
    "scrolled": true
   },
   "outputs": [
    {
     "name": "stdout",
     "output_type": "stream",
     "text": [
      "count    74685.000000\n",
      "mean        31.989730\n",
      "std         48.348295\n",
      "min          0.000000\n",
      "25%          6.000000\n",
      "50%         16.000000\n",
      "75%         36.000000\n",
      "max       1330.000000\n",
      "Name: donationTotal, dtype: float64\n"
     ]
    },
    {
     "data": {
      "image/png": "[encoded data removed]",
      "text/plain": [
       "<Figure size 720x216 with 2 Axes>"
      ]
     },
     "metadata": {},
     "output_type": "display_data"
    }
   ],
   "source": [
    "dados = df.donationTotal\n",
    "\n",
    "# Generate subplot\n",
    "fig, (ax1, ax2) = plt.subplots(1, 2, figsize=(10,3))\n",
    "_ = fig.suptitle('Donation Total')\n",
    "\n",
    "# Plot histogram\n",
    "_ = ax1.hist(dados, bins=30)\n",
    "\n",
    "# Compute ECDF for versicolor data: x_vers, y_vers\n",
    "x_vers, y_vers = ecdf(dados)\n",
    "\n",
    "# Plot the ECDF\n",
    "_ = ax2.plot(x_vers, y_vers, '.')\n",
    "\n",
    "# Compute percentiles: ptiles_vers\n",
    "ptiles_vers = np.percentile(dados, percentiles)\n",
    "\n",
    "# Overlay percentiles as red diamonds.\n",
    "ptiles = [x/100 for x in percentiles]\n",
    "_ = ax2.plot(ptiles_vers, ptiles, marker='D', color='red', linestyle='none')\n",
    "\n",
    "print(dados.describe())"
   ]
  },
  {
   "cell_type": "code",
   "execution_count": 22,
   "metadata": {},
   "outputs": [
    {
     "name": "stdout",
     "output_type": "stream",
     "text": [
      "count    74685.000000\n",
      "mean         1.572561\n",
      "std          1.516624\n",
      "min          0.000000\n",
      "25%          0.736842\n",
      "50%          1.300000\n",
      "75%          2.000000\n",
      "max         82.750000\n",
      "Name: averageEventActiveDay, dtype: float64\n"
     ]
    },
    {
     "data": {
      "image/png": "[encoded data removed]",
      "text/plain": [
       "<Figure size 720x216 with 2 Axes>"
      ]
     },
     "metadata": {},
     "output_type": "display_data"
    }
   ],
   "source": [
    "dados = df.averageEventActiveDay\n",
    "\n",
    "# Generate subplot\n",
    "fig, (ax1, ax2) = plt.subplots(1, 2, figsize=(10,3))\n",
    "_ = fig.suptitle('Average Event Active Day')\n",
    "\n",
    "# Plot histogram\n",
    "_ = ax1.hist(dados, bins=30)\n",
    "\n",
    "# Compute ECDF for versicolor data: x_vers, y_vers\n",
    "x_vers, y_vers = ecdf(dados)\n",
    "\n",
    "# Plot the ECDF\n",
    "_ = ax2.plot(x_vers, y_vers, '.')\n",
    "\n",
    "# Compute percentiles: ptiles_vers\n",
    "ptiles_vers = np.percentile(dados, percentiles)\n",
    "\n",
    "# Overlay percentiles as red diamonds.\n",
    "ptiles = [x/100 for x in percentiles]\n",
    "_ = ax2.plot(ptiles_vers, ptiles, marker='D', color='red', linestyle='none')\n",
    "\n",
    "print(dados.describe())"
   ]
  },
  {
   "cell_type": "code",
   "execution_count": 24,
   "metadata": {},
   "outputs": [
    {
     "name": "stdout",
     "output_type": "stream",
     "text": [
      "count    74685.000000\n",
      "mean         0.655561\n",
      "std          1.140926\n",
      "min          0.000000\n",
      "25%          0.133333\n",
      "50%          0.350515\n",
      "75%          0.833333\n",
      "max         82.750000\n",
      "Name: averageEventCalendarDay, dtype: float64\n"
     ]
    },
    {
     "data": {
      "image/png": "[encoded data removed]",
      "text/plain": [
       "<Figure size 720x216 with 2 Axes>"
      ]
     },
     "metadata": {},
     "output_type": "display_data"
    }
   ],
   "source": [
    "dados = df.averageEventCalendarDay\n",
    "\n",
    "# Generate subplot\n",
    "fig, (ax1, ax2) = plt.subplots(1, 2, figsize=(10,3))\n",
    "_ = fig.suptitle('Average Event Calendar Day')\n",
    "\n",
    "# Plot histogram\n",
    "_ = ax1.hist(dados, bins=30)\n",
    "\n",
    "# Compute ECDF for versicolor data: x_vers, y_vers\n",
    "x_vers, y_vers = ecdf(dados)\n",
    "\n",
    "# Plot the ECDF\n",
    "_ = ax2.plot(x_vers, y_vers, '.')\n",
    "\n",
    "# Compute percentiles: ptiles_vers\n",
    "ptiles_vers = np.percentile(dados, percentiles)\n",
    "\n",
    "# Overlay percentiles as red diamonds.\n",
    "ptiles = [x/100 for x in percentiles]\n",
    "_ = ax2.plot(ptiles_vers, ptiles, marker='D', color='red', linestyle='none')\n",
    "\n",
    "print(dados.describe())"
   ]
  },
  {
   "cell_type": "code",
   "execution_count": 23,
   "metadata": {},
   "outputs": [
    {
     "name": "stdout",
     "output_type": "stream",
     "text": [
      "count    74685.000000\n",
      "mean        29.223753\n",
      "std         45.478254\n",
      "min          0.000000\n",
      "25%          3.000000\n",
      "50%         11.000000\n",
      "75%         39.000000\n",
      "max        598.000000\n",
      "Name: halfLifeDonation, dtype: float64\n"
     ]
    },
    {
     "data": {
      "image/png": "[encoded data removed]",
      "text/plain": [
       "<Figure size 720x216 with 2 Axes>"
      ]
     },
     "metadata": {},
     "output_type": "display_data"
    }
   ],
   "source": [
    "dados = df.halfLifeDonation\n",
    "\n",
    "# Generate subplot\n",
    "fig, (ax1, ax2) = plt.subplots(1, 2, figsize=(10,3))\n",
    "_ = fig.suptitle('Half Life Donation')\n",
    "\n",
    "# Plot histogram\n",
    "_ = ax1.hist(dados, bins=30)\n",
    "\n",
    "# Compute ECDF for versicolor data: x_vers, y_vers\n",
    "x_vers, y_vers = ecdf(dados)\n",
    "\n",
    "# Plot the ECDF\n",
    "_ = ax2.plot(x_vers, y_vers, '.')\n",
    "\n",
    "# Compute percentiles: ptiles_vers\n",
    "ptiles_vers = np.percentile(dados, percentiles)\n",
    "\n",
    "# Overlay percentiles as red diamonds.\n",
    "ptiles = [x/100 for x in percentiles]\n",
    "_ = ax2.plot(ptiles_vers, ptiles, marker='D', color='red', linestyle='none')\n",
    "\n",
    "print(dados.describe())"
   ]
  },
  {
   "cell_type": "code",
   "execution_count": 25,
   "metadata": {},
   "outputs": [
    {
     "name": "stdout",
     "output_type": "stream",
     "text": [
      "count    74685.000000\n",
      "mean        31.578269\n",
      "std         46.686722\n",
      "min          2.000000\n",
      "25%          5.000000\n",
      "50%         15.000000\n",
      "75%         41.000000\n",
      "max        604.000000\n",
      "Name: halfLifeActivityDays, dtype: float64\n"
     ]
    },
    {
     "data": {
      "image/png": "[encoded data removed]",
      "text/plain": [
       "<Figure size 720x216 with 2 Axes>"
      ]
     },
     "metadata": {},
     "output_type": "display_data"
    }
   ],
   "source": [
    "dados = df.halfLifeActivityDays\n",
    "\n",
    "# Generate subplot\n",
    "fig, (ax1, ax2) = plt.subplots(1, 2, figsize=(10,3))\n",
    "_ = fig.suptitle('Half Life Activity Days')\n",
    "\n",
    "# Plot histogram\n",
    "_ = ax1.hist(dados, bins=30)\n",
    "\n",
    "# Compute ECDF for versicolor data: x_vers, y_vers\n",
    "x_vers, y_vers = ecdf(dados)\n",
    "\n",
    "# Plot the ECDF\n",
    "_ = ax2.plot(x_vers, y_vers, '.')\n",
    "\n",
    "# Compute percentiles: ptiles_vers\n",
    "ptiles_vers = np.percentile(dados, percentiles)\n",
    "\n",
    "# Overlay percentiles as red diamonds.\n",
    "ptiles = [x/100 for x in percentiles]\n",
    "_ = ax2.plot(ptiles_vers, ptiles, marker='D', color='red', linestyle='none')\n",
    "\n",
    "print(dados.describe())"
   ]
  },
  {
   "cell_type": "code",
   "execution_count": 34,
   "metadata": {
    "scrolled": true
   },
   "outputs": [
    {
     "data": {
      "image/png": "[encoded data removed]",
      "text/plain": [
       "<Figure size 432x288 with 1 Axes>"
      ]
     },
     "metadata": {},
     "output_type": "display_data"
    }
   ],
   "source": [
    "_ = users[(users.lastAccess >= '2019-08-01') & (users.lastAccess <= '2019-08-31')]\\\n",
    ".activeDays.hist(bins=60)"
   ]
  },
  {
   "cell_type": "code",
   "execution_count": 95,
   "metadata": {
    "scrolled": true
   },
   "outputs": [
    {
     "data": {
      "image/png": "[encoded data removed]",
      "text/plain": [
       "<Figure size 432x288 with 1 Axes>"
      ]
     },
     "metadata": {
      "needs_background": "light"
     },
     "output_type": "display_data"
    }
   ],
   "source": [
    "_ = users[(users.lastAccess >= '2019-08-01') & (users.lastAccess <= '2019-08-31')]\\\n",
    ".calendarDays.hist(bins=60)"
   ]
  },
  {
   "cell_type": "code",
   "execution_count": 99,
   "metadata": {
    "scrolled": true
   },
   "outputs": [
    {
     "data": {
      "image/png": "[encoded data removed]",
      "text/plain": [
       "<Figure size 432x288 with 1 Axes>"
      ]
     },
     "metadata": {
      "needs_background": "light"
     },
     "output_type": "display_data"
    }
   ],
   "source": [
    "_ = users[(users.lastAccess >= '2019-08-01') & (users.lastAccess <= '2019-08-31')]\\\n",
    ".donationTotal.hist(bins=60)"
   ]
  },
  {
   "cell_type": "code",
   "execution_count": 14,
   "metadata": {},
   "outputs": [
    {
     "data": {
      "image/png": "[encoded data removed]",
      "text/plain": [
       "<Figure size 432x288 with 1 Axes>"
      ]
     },
     "metadata": {
      "needs_background": "light"
     },
     "output_type": "display_data"
    }
   ],
   "source": [
    "_ = users[(users.lastAccess >= '2019-08-01') & (users.lastAccess <= '2019-08-31')]\\\n",
    ".averageEventActiveDay.hist(bins=60)"
   ]
  },
  {
   "cell_type": "code",
   "execution_count": 15,
   "metadata": {},
   "outputs": [
    {
     "data": {
      "image/png": "[encoded data removed]",
      "text/plain": [
       "<Figure size 432x288 with 1 Axes>"
      ]
     },
     "metadata": {
      "needs_background": "light"
     },
     "output_type": "display_data"
    }
   ],
   "source": [
    "_ = users[(users.lastAccess >= '2019-08-01') & (users.lastAccess <= '2019-08-31')]\\\n",
    ".averageEventCalendarDay.hist(bins=60)"
   ]
  },
  {
   "cell_type": "code",
   "execution_count": 16,
   "metadata": {},
   "outputs": [
    {
     "data": {
      "image/png": "[encoded data removed]",
      "text/plain": [
       "<Figure size 432x288 with 1 Axes>"
      ]
     },
     "metadata": {
      "needs_background": "light"
     },
     "output_type": "display_data"
    }
   ],
   "source": [
    "_ = users[(users.lastAccess >= '2019-08-01') & (users.lastAccess <= '2019-08-31')]\\\n",
    ".halfLifeDonation.hist(bins=60)"
   ]
  },
  {
   "cell_type": "code",
   "execution_count": 17,
   "metadata": {},
   "outputs": [
    {
     "data": {
      "image/png": "[encoded data removed]",
      "text/plain": [
       "<Figure size 432x288 with 1 Axes>"
      ]
     },
     "metadata": {
      "needs_background": "light"
     },
     "output_type": "display_data"
    }
   ],
   "source": [
    "_ = users[(users.lastAccess >= '2019-08-01') & (users.lastAccess <= '2019-08-31')]\\\n",
    ".halfLifeActivityDays.hist(bins=60)"
   ]
  },
  {
   "cell_type": "code",
   "execution_count": 19,
   "metadata": {},
   "outputs": [
    {
     "data": {
      "text/html": [
       "<div>\n",
       "<style scoped>\n",
       "    .dataframe tbody tr th:only-of-type {\n",
       "        vertical-align: middle;\n",
       "    }\n",
       "\n",
       "    .dataframe tbody tr th {\n",
       "        vertical-align: top;\n",
       "    }\n",
       "\n",
       "    .dataframe thead th {\n",
       "        text-align: right;\n",
       "    }\n",
       "</style>\n",
       "<table border=\"1\" class=\"dataframe\">\n",
       "  <thead>\n",
       "    <tr style=\"text-align: right;\">\n",
       "      <th></th>\n",
       "      <th>activeDays</th>\n",
       "      <th>calendarDays</th>\n",
       "      <th>donationTotal</th>\n",
       "      <th>averageEventActiveDay</th>\n",
       "      <th>averageEventCalendarDay</th>\n",
       "      <th>halfLifeDonation</th>\n",
       "      <th>halfLifeActivityDays</th>\n",
       "    </tr>\n",
       "  </thead>\n",
       "  <tbody>\n",
       "    <tr>\n",
       "      <td>count</td>\n",
       "      <td>142849.000000</td>\n",
       "      <td>142849.000000</td>\n",
       "      <td>142849.000000</td>\n",
       "      <td>142849.000000</td>\n",
       "      <td>142849.000000</td>\n",
       "      <td>142849.000000</td>\n",
       "      <td>142849.000000</td>\n",
       "    </tr>\n",
       "    <tr>\n",
       "      <td>mean</td>\n",
       "      <td>14.631317</td>\n",
       "      <td>54.934847</td>\n",
       "      <td>19.806166</td>\n",
       "      <td>1.535540</td>\n",
       "      <td>0.862382</td>\n",
       "      <td>18.551470</td>\n",
       "      <td>19.505373</td>\n",
       "    </tr>\n",
       "    <tr>\n",
       "      <td>std</td>\n",
       "      <td>27.357628</td>\n",
       "      <td>81.306903</td>\n",
       "      <td>38.693456</td>\n",
       "      <td>2.010801</td>\n",
       "      <td>1.807008</td>\n",
       "      <td>37.514808</td>\n",
       "      <td>38.040315</td>\n",
       "    </tr>\n",
       "    <tr>\n",
       "      <td>min</td>\n",
       "      <td>1.000000</td>\n",
       "      <td>1.000000</td>\n",
       "      <td>0.000000</td>\n",
       "      <td>0.000000</td>\n",
       "      <td>0.000000</td>\n",
       "      <td>0.000000</td>\n",
       "      <td>1.000000</td>\n",
       "    </tr>\n",
       "    <tr>\n",
       "      <td>25%</td>\n",
       "      <td>2.000000</td>\n",
       "      <td>2.000000</td>\n",
       "      <td>1.000000</td>\n",
       "      <td>0.380000</td>\n",
       "      <td>0.050000</td>\n",
       "      <td>1.000000</td>\n",
       "      <td>1.000000</td>\n",
       "    </tr>\n",
       "    <tr>\n",
       "      <td>50%</td>\n",
       "      <td>5.000000</td>\n",
       "      <td>19.000000</td>\n",
       "      <td>6.000000</td>\n",
       "      <td>1.100000</td>\n",
       "      <td>0.333333</td>\n",
       "      <td>3.000000</td>\n",
       "      <td>4.000000</td>\n",
       "    </tr>\n",
       "    <tr>\n",
       "      <td>75%</td>\n",
       "      <td>14.000000</td>\n",
       "      <td>85.000000</td>\n",
       "      <td>21.000000</td>\n",
       "      <td>2.000000</td>\n",
       "      <td>1.000000</td>\n",
       "      <td>19.000000</td>\n",
       "      <td>21.000000</td>\n",
       "    </tr>\n",
       "    <tr>\n",
       "      <td>max</td>\n",
       "      <td>552.000000</td>\n",
       "      <td>696.000000</td>\n",
       "      <td>1330.000000</td>\n",
       "      <td>126.500000</td>\n",
       "      <td>126.500000</td>\n",
       "      <td>598.000000</td>\n",
       "      <td>604.000000</td>\n",
       "    </tr>\n",
       "  </tbody>\n",
       "</table>\n",
       "</div>"
      ],
      "text/plain": [
       "          activeDays   calendarDays  donationTotal  averageEventActiveDay  \\\n",
       "count  142849.000000  142849.000000  142849.000000          142849.000000   \n",
       "mean       14.631317      54.934847      19.806166               1.535540   \n",
       "std        27.357628      81.306903      38.693456               2.010801   \n",
       "min         1.000000       1.000000       0.000000               0.000000   \n",
       "25%         2.000000       2.000000       1.000000               0.380000   \n",
       "50%         5.000000      19.000000       6.000000               1.100000   \n",
       "75%        14.000000      85.000000      21.000000               2.000000   \n",
       "max       552.000000     696.000000    1330.000000             126.500000   \n",
       "\n",
       "       averageEventCalendarDay  halfLifeDonation  halfLifeActivityDays  \n",
       "count            142849.000000     142849.000000         142849.000000  \n",
       "mean                  0.862382         18.551470             19.505373  \n",
       "std                   1.807008         37.514808             38.040315  \n",
       "min                   0.000000          0.000000              1.000000  \n",
       "25%                   0.050000          1.000000              1.000000  \n",
       "50%                   0.333333          3.000000              4.000000  \n",
       "75%                   1.000000         19.000000             21.000000  \n",
       "max                 126.500000        598.000000            604.000000  "
      ]
     },
     "execution_count": 19,
     "metadata": {},
     "output_type": "execute_result"
    }
   ],
   "source": [
    "users.drop('userId', axis=1).describe()"
   ]
  },
  {
   "cell_type": "code",
   "execution_count": 21,
   "metadata": {},
   "outputs": [],
   "source": [
    "# Function to compute the ECDF\n",
    "def ecdf(data):\n",
    "    \"\"\"Compute ECDF for a one-dimensional array of measurements.\"\"\"\n",
    "    # Number of data points: n\n",
    "    n = len(data)\n",
    "\n",
    "    # x-data for the ECDF: x\n",
    "    x = np.sort(data)\n",
    "\n",
    "    # y-data for the ECDF: y\n",
    "    y = np.arange(1, n + 1) / n\n",
    "    \n",
    "    return x, y"
   ]
  },
  {
   "cell_type": "code",
   "execution_count": 44,
   "metadata": {},
   "outputs": [
    {
     "data": {
      "image/png": "[encoded data removed]",
      "text/plain": [
       "<Figure size 432x288 with 1 Axes>"
      ]
     },
     "metadata": {},
     "output_type": "display_data"
    }
   ],
   "source": [
    "# Plotting the ECDF\n",
    "\n",
    "dados = users[(users.lastAccess >= '2019-08-01') & (users.lastAccess <= '2019-08-31')]\\\n",
    ".halfLifeActivityDays\n",
    "label = 'activityDays'\n",
    "\n",
    "# Specify array of percentiles: percentiles\n",
    "percentiles = [2.5, 25, 50, 75, 97.5]\n",
    "\n",
    "# Compute percentiles: ptiles_vers\n",
    "ptiles_vers = np.percentile(dados, percentiles)\n",
    "\n",
    "# Compute ECDF for versicolor data: x_vers, y_vers\n",
    "x_vers, y_vers = ecdf(dados)\n",
    "\n",
    "# Generate plot\n",
    "# plt.plot(x_vers, y_vers, marker='.', linestyle='none')\n",
    "\n",
    "# Plot the ECDF\n",
    "_ = plt.plot(x_vers, y_vers, '.')\n",
    "_ = plt.xlabel(label)\n",
    "_ = plt.ylabel('ECDF')\n",
    "\n",
    "# Overlay percentiles as red diamonds.\n",
    "ptiles = [x/100 for x in percentiles]\n",
    "_ = plt.plot(ptiles_vers, ptiles, marker='D', color='red', linestyle='none')\n",
    "\n",
    "# Show the plot\n",
    "plt.show()"
   ]
  },
  {
   "cell_type": "code",
   "execution_count": 111,
   "metadata": {
    "scrolled": false
   },
   "outputs": [
    {
     "data": {
      "text/plain": [
       "count    142849.000000\n",
       "mean          1.535540\n",
       "std           2.010801\n",
       "min           0.000000\n",
       "25%           0.380000\n",
       "50%           1.100000\n",
       "75%           2.000000\n",
       "max         126.500000\n",
       "Name: averageEventActiveDay, dtype: float64"
      ]
     },
     "execution_count": 111,
     "metadata": {},
     "output_type": "execute_result"
    }
   ],
   "source": [
    "users.averageEventActiveDay.describe()"
   ]
  },
  {
   "cell_type": "code",
   "execution_count": 112,
   "metadata": {},
   "outputs": [
    {
     "data": {
      "text/plain": [
       "count    142849.000000\n",
       "mean          0.862382\n",
       "std           1.807008\n",
       "min           0.000000\n",
       "25%           0.050000\n",
       "50%           0.333333\n",
       "75%           1.000000\n",
       "max         126.500000\n",
       "Name: averageEventCalendarDay, dtype: float64"
      ]
     },
     "execution_count": 112,
     "metadata": {},
     "output_type": "execute_result"
    }
   ],
   "source": [
    "users.averageEventCalendarDay.describe()"
   ]
  },
  {
   "cell_type": "code",
   "execution_count": 113,
   "metadata": {},
   "outputs": [
    {
     "data": {
      "text/plain": [
       "count    142849.000000\n",
       "mean         18.551470\n",
       "std          37.514808\n",
       "min           0.000000\n",
       "25%           1.000000\n",
       "50%           3.000000\n",
       "75%          19.000000\n",
       "max         598.000000\n",
       "Name: halfLifeDonation, dtype: float64"
      ]
     },
     "execution_count": 113,
     "metadata": {},
     "output_type": "execute_result"
    }
   ],
   "source": [
    "users.halfLifeDonation.describe()"
   ]
  },
  {
   "cell_type": "code",
   "execution_count": 114,
   "metadata": {},
   "outputs": [
    {
     "data": {
      "text/plain": [
       "count    142849.000000\n",
       "mean         19.505373\n",
       "std          38.040315\n",
       "min           1.000000\n",
       "25%           1.000000\n",
       "50%           4.000000\n",
       "75%          21.000000\n",
       "max         604.000000\n",
       "Name: halfLifeActivityDays, dtype: float64"
      ]
     },
     "execution_count": 114,
     "metadata": {},
     "output_type": "execute_result"
    }
   ],
   "source": [
    "users.halfLifeActivityDays.describe()"
   ]
  },
  {
   "cell_type": "code",
   "execution_count": 110,
   "metadata": {
    "scrolled": true
   },
   "outputs": [
    {
     "name": "stdout",
     "output_type": "stream",
     "text": [
      "<class 'pandas.core.frame.DataFrame'>\n",
      "RangeIndex: 142849 entries, 0 to 142848\n",
      "Data columns (total 13 columns):\n",
      "userId                     142849 non-null int64\n",
      "deviceModel                142849 non-null object\n",
      "countryISO                 142849 non-null object\n",
      "firstAccess                142849 non-null datetime64[ns]\n",
      "lastAccess                 142849 non-null datetime64[ns]\n",
      "activeDays                 142849 non-null int64\n",
      "calendarDays               142849 non-null int64\n",
      "donationTotal              142849 non-null float64\n",
      "averageEventActiveDay      142849 non-null float64\n",
      "averageEventCalendarDay    142849 non-null float64\n",
      "halfLifeDonation           142849 non-null int64\n",
      "halfLifeActivityDays       142849 non-null int64\n",
      "cohort                     142849 non-null object\n",
      "dtypes: datetime64[ns](2), float64(3), int64(5), object(3)\n",
      "memory usage: 14.2+ MB\n"
     ]
    }
   ],
   "source": [
    "users.info()"
   ]
  }
 ],
 "metadata": {
  "kernelspec": {
   "display_name": "Python 3",
   "language": "python",
   "name": "python3"
  },
  "language_info": {
   "codemirror_mode": {
    "name": "ipython",
    "version": 3
   },
   "file_extension": ".py",
   "mimetype": "text/x-python",
   "name": "python",
   "nbconvert_exporter": "python",
   "pygments_lexer": "ipython3",
   "version": "3.7.6"
  }
 },
 "nbformat": 4,
 "nbformat_minor": 2
}
