{
 "cells": [
  {
   "cell_type": "markdown",
   "metadata": {},
   "source": [
    "# Extração de Dados do Parquet para Dataframes\n",
    "\n",
    "Esse notebook é usado para servir de base para um script de extração de eventos do Flurry para criar dataframes que serão usados para analise de dados e extração de features.\n",
    "\n",
    "A origem do evento é o Flurry, uma plataforma mobile app analytics, que registra os eventos realizados pelas pessoas que estão usando o aplicativo em produção. O primeiro evento registrado foi em Setembro de 2017. Diariamente são extraídos da plataforma em um formato *json*. Os arquivos tem o seguinte formato:\n",
    "\n",
    "<img src=\"imagens/json-format-flurry.png\">\n",
    "\n",
    "\n",
    "Atualmente esses arquivos são exportados para um parquet (um formato de armazenamento colunar) bastante eficiente em espaço. No atual parquet são coletados apenas o nome do evento, o id do usuário, o modelo do dispositivo do usuário e o país onde foi registrado o evento.\n",
    "\n",
    "Os arquivos que são criados tem como finalidade apoiar os processos de analise de dados e feature engineering.\n",
    "\n",
    "**USERS**\n",
    "\n",
    "* nome do arquivo - *users_YYYY-MM-DD.csv* - \n",
    "Eventos com dados de todos os usuários que já registraram algum evento pelo Flurry. A observação é o *userId* e as variáveis são: *deviceModel* (o principal modelo de aparelho em que foi registrado o evento do app) e *countryISO* (o principal país onde o usuário usou o app).\n",
    "\n",
    "<img src=\"imagens/dataframe-users.png\">\n",
    "\n",
    "**EVENTS**\n",
    "* nome do arquivo - *events_YYYY-MM-DD.csv* - \n",
    "Informações sobre todos os eventos registrados pelo flurry. A observação é o nome do evento: *eventName*. As seguintes features foram coletadas dos eventos: *firstOccurrence* (primeira data de ocorrência do evento), *lastOccurrence* (última data de ocorrência do evento), *intervalOccurrence* (diferença em números de dias entre as data anteriores), *aaaa-mm* dezenas de colunas anotando a quantidade de eventos registrados nos meses desde o lançamento do app.\n",
    "\n",
    "<img src=\"imagens/dataframe-events.png\">\n",
    "\n",
    "**EVENTS_PER_USER**\n",
    "* nome do arquivo - *events_per_user_YYYY-MM-DD.csv* - \n",
    "Informações resumidas sobre todos os eventos registrados dos usuários. As linhas são a tupla (*userId* e *eventDate*), ou seja, o usuário a data em que ele tem algum evento registrado. As *colunas são todos os eventos*, onde para cada chave (userId, eventData) é totalizado a quantidade de eventos realizados no dia.\n",
    "\n",
    "<img src=\"imagens/dataframe-events-per-user.png\">"
   ]
  },
  {
   "cell_type": "markdown",
   "metadata": {},
   "source": [
    "## Inicialização\n",
    "\n",
    "Definindo biblotecas e variáveis\n",
    "\n",
    "Um pre-requisito para esse notebook é a instalação do fastparquet ou outra biblioteca similar que possa ler o arquivo parquet. As demais bibliotecas são inicializadas a seguir.\n",
    "\n",
    "As varíaveis iniciais informam o nome dos arquivos anteriores e o nome do arquivo parquet do qual serão extraídos os novos eventos. "
   ]
  },
  {
   "cell_type": "code",
   "execution_count": 1,
   "metadata": {},
   "outputs": [
    {
     "data": {
      "text/plain": [
       "'LC_CTYPE=pt_BR.UTF-8;LC_NUMERIC=pt_BR.UTF-8;LC_TIME=pt_BR.UTF-8;LC_COLLATE=en_US.UTF-8;LC_MONETARY=pt_BR.UTF-8;LC_MESSAGES=en_US.UTF-8;LC_PAPER=pt_BR.UTF-8;LC_NAME=pt_BR.UTF-8;LC_ADDRESS=pt_BR.UTF-8;LC_TELEPHONE=pt_BR.UTF-8;LC_MEASUREMENT=pt_BR.UTF-8;LC_IDENTIFICATION=pt_BR.UTF-8'"
      ]
     },
     "execution_count": 1,
     "metadata": {},
     "output_type": "execute_result"
    }
   ],
   "source": [
    "import numpy as np\n",
    "import pandas as pd\n",
    "import os\n",
    "from datetime import date, datetime\n",
    "from pathlib import Path\n",
    "import locale\n",
    "locale.setlocale(locale.LC_ALL, '')"
   ]
  },
  {
   "cell_type": "code",
   "execution_count": 2,
   "metadata": {},
   "outputs": [],
   "source": [
    "# Definindo os diretórios e arquivos\n",
    "path_dados   = Path('/home/wesley/data/churn-prediction')\n",
    "path_parquet = path_dados/'parquet'\n",
    "path_csv     = path_dados/'csv'\n",
    "\n",
    "file_parquet             = path_parquet/'flurry.parquet'\n",
    "file_csv_users           = path_csv/'cp_users.csv'\n",
    "file_csv_events          = path_csv/'cp_events.csv'\n",
    "file_csv_events_per_user = path_csv/'cp_events_per_user.csv'"
   ]
  },
  {
   "cell_type": "code",
   "execution_count": 3,
   "metadata": {},
   "outputs": [],
   "source": [
    "# Carregando o arquivo parquet para um dataframe: df\n",
    "df = pd.read_parquet(file_parquet)"
   ]
  },
  {
   "cell_type": "code",
   "execution_count": 4,
   "metadata": {},
   "outputs": [
    {
     "name": "stdout",
     "output_type": "stream",
     "text": [
      "<class 'pandas.core.frame.DataFrame'>\n",
      "RangeIndex: 59877344 entries, 0 to 59877343\n",
      "Data columns (total 7 columns):\n",
      " #   Column            Dtype         \n",
      "---  ------            -----         \n",
      " 0   sessionTimestamp  datetime64[ns]\n",
      " 1   deviceModel       object        \n",
      " 2   countryISO        object        \n",
      " 3   eventName         object        \n",
      " 4   eventOffset       object        \n",
      " 5   eventParameters   object        \n",
      " 6   userId            object        \n",
      "dtypes: datetime64[ns](1), object(6)\n",
      "memory usage: 3.1+ GB\n",
      "(59877344, 7) None\n"
     ]
    }
   ],
   "source": [
    "# transformando a coluna sessionTimestamp em formato de data\n",
    "df['sessionTimestamp'] = pd.to_datetime(df.sessionTimestamp, unit='ms')\n",
    "\n",
    "# vendo características importantes do dataframe\n",
    "print(df.shape, df.info())"
   ]
  },
  {
   "cell_type": "code",
   "execution_count": 5,
   "metadata": {},
   "outputs": [
    {
     "data": {
      "text/html": [
       "<div>\n",
       "<style scoped>\n",
       "    .dataframe tbody tr th:only-of-type {\n",
       "        vertical-align: middle;\n",
       "    }\n",
       "\n",
       "    .dataframe tbody tr th {\n",
       "        vertical-align: top;\n",
       "    }\n",
       "\n",
       "    .dataframe thead th {\n",
       "        text-align: right;\n",
       "    }\n",
       "</style>\n",
       "<table border=\"1\" class=\"dataframe\">\n",
       "  <thead>\n",
       "    <tr style=\"text-align: right;\">\n",
       "      <th></th>\n",
       "      <th>sessionTimestamp</th>\n",
       "      <th>deviceModel</th>\n",
       "      <th>countryISO</th>\n",
       "      <th>eventName</th>\n",
       "      <th>eventOffset</th>\n",
       "      <th>eventParameters</th>\n",
       "      <th>userId</th>\n",
       "    </tr>\n",
       "  </thead>\n",
       "  <tbody>\n",
       "    <tr>\n",
       "      <th>0</th>\n",
       "      <td>2017-08-30 21:22:02.235</td>\n",
       "      <td>Moto G4 Plus</td>\n",
       "      <td>BR</td>\n",
       "      <td>Opened</td>\n",
       "      <td>48</td>\n",
       "      <td>{}</td>\n",
       "      <td>aff3df3b88b1e955</td>\n",
       "    </tr>\n",
       "    <tr>\n",
       "      <th>1</th>\n",
       "      <td>2017-08-30 21:14:19.712</td>\n",
       "      <td>Moto G4 Plus</td>\n",
       "      <td>BR</td>\n",
       "      <td>None</td>\n",
       "      <td>None</td>\n",
       "      <td>{}</td>\n",
       "      <td>None</td>\n",
       "    </tr>\n",
       "    <tr>\n",
       "      <th>2</th>\n",
       "      <td>2017-08-28 20:02:01.905</td>\n",
       "      <td>Moto G4 Plus</td>\n",
       "      <td>BR</td>\n",
       "      <td>ativacao</td>\n",
       "      <td>63</td>\n",
       "      <td>{}</td>\n",
       "      <td>1111</td>\n",
       "    </tr>\n",
       "    <tr>\n",
       "      <th>3</th>\n",
       "      <td>2017-08-30 19:10:48.562</td>\n",
       "      <td>Moto G4 Plus</td>\n",
       "      <td>BR</td>\n",
       "      <td>Opened</td>\n",
       "      <td>50</td>\n",
       "      <td>{}</td>\n",
       "      <td>aff3df3b88b1e955</td>\n",
       "    </tr>\n",
       "    <tr>\n",
       "      <th>4</th>\n",
       "      <td>2017-08-29 13:49:46.685</td>\n",
       "      <td>Moto G4 Plus</td>\n",
       "      <td>BR</td>\n",
       "      <td>None</td>\n",
       "      <td>None</td>\n",
       "      <td>{}</td>\n",
       "      <td>None</td>\n",
       "    </tr>\n",
       "  </tbody>\n",
       "</table>\n",
       "</div>"
      ],
      "text/plain": [
       "         sessionTimestamp   deviceModel countryISO eventName eventOffset  \\\n",
       "0 2017-08-30 21:22:02.235  Moto G4 Plus         BR    Opened          48   \n",
       "1 2017-08-30 21:14:19.712  Moto G4 Plus         BR      None        None   \n",
       "2 2017-08-28 20:02:01.905  Moto G4 Plus         BR  ativacao          63   \n",
       "3 2017-08-30 19:10:48.562  Moto G4 Plus         BR    Opened          50   \n",
       "4 2017-08-29 13:49:46.685  Moto G4 Plus         BR      None        None   \n",
       "\n",
       "  eventParameters            userId  \n",
       "0              {}  aff3df3b88b1e955  \n",
       "1              {}              None  \n",
       "2              {}              1111  \n",
       "3              {}  aff3df3b88b1e955  \n",
       "4              {}              None  "
      ]
     },
     "execution_count": 5,
     "metadata": {},
     "output_type": "execute_result"
    }
   ],
   "source": [
    "# Analise das primeiras linhas do dataframe\n",
    "df.head()"
   ]
  },
  {
   "cell_type": "markdown",
   "metadata": {},
   "source": [
    "### Limpeza de Dados"
   ]
  },
  {
   "cell_type": "code",
   "execution_count": 6,
   "metadata": {},
   "outputs": [
    {
     "name": "stdout",
     "output_type": "stream",
     "text": [
      "Número de registros no dataframe antes da limpeza: 59.877.344\n"
     ]
    }
   ],
   "source": [
    "qtd_registros_inicial = df.shape[0]\n",
    "print(f\"Número de registros no dataframe antes da limpeza: {qtd_registros_inicial:n}\")"
   ]
  },
  {
   "cell_type": "markdown",
   "metadata": {},
   "source": [
    "**Removendo linhas com eventos ou userId nulos**"
   ]
  },
  {
   "cell_type": "code",
   "execution_count": 7,
   "metadata": {},
   "outputs": [
    {
     "name": "stdout",
     "output_type": "stream",
     "text": [
      "Numero de eventos Nulos:  536167\n",
      "Numero de userId Nulos:   350389\n",
      "Numero de registros com eventos ou Ids nulos: 593.040\n"
     ]
    }
   ],
   "source": [
    "# analisando q quantidade de registros com eventos nulos ou userId nulo\n",
    "print(f'Numero de eventos Nulos:  {df.eventName.isnull().sum()}')\n",
    "print(f'Numero de userId Nulos:   {df.userId.isnull().sum()}')\n",
    "print(f'Numero de registros com eventos ou Ids nulos: {df[df.eventName.isnull() | df.userId.isnull()].shape[0]:n}')"
   ]
  },
  {
   "cell_type": "code",
   "execution_count": 8,
   "metadata": {},
   "outputs": [
    {
     "name": "stdout",
     "output_type": "stream",
     "text": [
      "Número de registros no dataframe após a remoção de eventos e userId nulos: 59.284.304\n"
     ]
    }
   ],
   "source": [
    "# removendo os registros com informações nulas no evento e userId\n",
    "df = df[df.eventName.notnull() & df.userId.notnull()]\n",
    "print(f\"Número de registros no dataframe após a remoção de eventos e userId nulos: {df.shape[0]:n}\")"
   ]
  },
  {
   "cell_type": "markdown",
   "metadata": {},
   "source": [
    "**Removendo linhas userId igual ao valor 0**"
   ]
  },
  {
   "cell_type": "code",
   "execution_count": 9,
   "metadata": {},
   "outputs": [
    {
     "name": "stdout",
     "output_type": "stream",
     "text": [
      "Nro registros com userID = 0 : 966.551\n"
     ]
    }
   ],
   "source": [
    "# Analisando o número de usuários com userId igual a 0\n",
    "print(f\"Nro registros com userID = 0 : {df.loc[df['userId'] == '0'].shape[0]:n}\")"
   ]
  },
  {
   "cell_type": "code",
   "execution_count": 10,
   "metadata": {},
   "outputs": [
    {
     "name": "stdout",
     "output_type": "stream",
     "text": [
      "Número de registros no dataframe após a remoção de userId com valor 0: 58.317.753\n"
     ]
    }
   ],
   "source": [
    "# Removendo os registros cujo userId é igual a zero.\n",
    "# A premissa é que isso deve ser um erro\n",
    "df = df.loc[df['userId'] != '0']\n",
    "print(f\"Número de registros no dataframe após a remoção de userId com valor 0: {df.shape[0]:n}\")"
   ]
  },
  {
   "cell_type": "markdown",
   "metadata": {},
   "source": [
    "**Removendo linhas com userId com valores não numéricos**"
   ]
  },
  {
   "cell_type": "code",
   "execution_count": 11,
   "metadata": {
    "scrolled": true
   },
   "outputs": [
    {
     "name": "stdout",
     "output_type": "stream",
     "text": [
      "Número de linhas com userId com valores não numéricos: 70.712\n"
     ]
    }
   ],
   "source": [
    "# Verificando o número de registros cujo o userId não é exclusivamente numérico\n",
    "print(\"Número de linhas com userId com valores não numéricos: {:n}\".format(df.userId.str.contains('\\D+').sum()))"
   ]
  },
  {
   "cell_type": "code",
   "execution_count": 12,
   "metadata": {},
   "outputs": [
    {
     "name": "stdout",
     "output_type": "stream",
     "text": [
      "Número de registros no dataframe após a remoção de userId com valores não numéricos: 58.247.041\n"
     ]
    }
   ],
   "source": [
    "# Removendo registros cujo o userId não é valor numérico\n",
    "df = df[df.userId.str.contains('^\\d+$')]\n",
    "print(f\"Número de registros no dataframe após a remoção de userId com valores não numéricos: {df.shape[0]:n}\")"
   ]
  },
  {
   "cell_type": "code",
   "execution_count": 13,
   "metadata": {},
   "outputs": [
    {
     "name": "stdout",
     "output_type": "stream",
     "text": [
      "Número de registros removidos após a limpeza: 1.630.303\n"
     ]
    }
   ],
   "source": [
    "print(f\"Número de registros removidos após a limpeza: {qtd_registros_inicial-df.shape[0]:n}\")"
   ]
  },
  {
   "cell_type": "code",
   "execution_count": 14,
   "metadata": {},
   "outputs": [],
   "source": [
    "#calculando o horário do primeiro e último evento \n",
    "first_event = df.sort_values('sessionTimestamp').iloc[0]['sessionTimestamp']\n",
    "last_event  = df.sort_values('sessionTimestamp').iloc[-1]['sessionTimestamp']"
   ]
  },
  {
   "cell_type": "code",
   "execution_count": 15,
   "metadata": {},
   "outputs": [
    {
     "name": "stdout",
     "output_type": "stream",
     "text": [
      "Número de userIds únicos:   210.251\n",
      "Número de eventos únicos:   201\n",
      "Horário do primeiro evento: 28-ago-2017 20:02:01\n",
      "Horário do último evento:   16-abr-2020 23:59:58\n"
     ]
    }
   ],
   "source": [
    "# Número total de usuários distintos na plataforma durante todo o período\n",
    "print(f\"Número de userIds únicos:   {df.userId.nunique():n}\")\n",
    "print(f\"Número de eventos únicos:   {df.eventName.nunique():n}\")\n",
    "print(\"Horário do primeiro evento: {}\".format(first_event.strftime(\"%d-%b-%Y %H:%M:%S\")))\n",
    "print(\"Horário do último evento:   {}\".format(last_event.strftime(\"%d-%b-%Y %H:%M:%S\")))"
   ]
  },
  {
   "cell_type": "code",
   "execution_count": 16,
   "metadata": {},
   "outputs": [
    {
     "name": "stdout",
     "output_type": "stream",
     "text": [
      "<class 'pandas.core.frame.DataFrame'>\n",
      "Int64Index: 58247041 entries, 2 to 59877343\n",
      "Data columns (total 7 columns):\n",
      " #   Column            Dtype         \n",
      "---  ------            -----         \n",
      " 0   sessionTimestamp  datetime64[ns]\n",
      " 1   deviceModel       object        \n",
      " 2   countryISO        object        \n",
      " 3   eventName         object        \n",
      " 4   eventOffset       object        \n",
      " 5   eventParameters   object        \n",
      " 6   userId            object        \n",
      "dtypes: datetime64[ns](1), object(6)\n",
      "memory usage: 3.5+ GB\n"
     ]
    }
   ],
   "source": [
    "# Analisando o dataframe após a limpeza\n",
    "df.info()"
   ]
  },
  {
   "cell_type": "markdown",
   "metadata": {},
   "source": [
    "### Criação do dataframe de eventos por usuário por data"
   ]
  },
  {
   "cell_type": "code",
   "execution_count": 17,
   "metadata": {},
   "outputs": [
    {
     "name": "stdout",
     "output_type": "stream",
     "text": [
      "CPU times: user 3min 37s, sys: 2.16 s, total: 3min 39s\n",
      "Wall time: 3min 39s\n"
     ]
    }
   ],
   "source": [
    "%%time\n",
    "# criando a feature eventDate usando apenas o dia e descartando a hora do sessionTimestamp\n",
    "df['eventDate'] = df.sessionTimestamp.dt.strftime(\"%Y-%m-%d\")"
   ]
  },
  {
   "cell_type": "code",
   "execution_count": 18,
   "metadata": {},
   "outputs": [
    {
     "data": {
      "text/html": [
       "<div>\n",
       "<style scoped>\n",
       "    .dataframe tbody tr th:only-of-type {\n",
       "        vertical-align: middle;\n",
       "    }\n",
       "\n",
       "    .dataframe tbody tr th {\n",
       "        vertical-align: top;\n",
       "    }\n",
       "\n",
       "    .dataframe thead th {\n",
       "        text-align: right;\n",
       "    }\n",
       "</style>\n",
       "<table border=\"1\" class=\"dataframe\">\n",
       "  <thead>\n",
       "    <tr style=\"text-align: right;\">\n",
       "      <th></th>\n",
       "      <th>sessionTimestamp</th>\n",
       "      <th>deviceModel</th>\n",
       "      <th>countryISO</th>\n",
       "      <th>eventName</th>\n",
       "      <th>eventOffset</th>\n",
       "      <th>eventParameters</th>\n",
       "      <th>userId</th>\n",
       "      <th>eventDate</th>\n",
       "    </tr>\n",
       "  </thead>\n",
       "  <tbody>\n",
       "    <tr>\n",
       "      <th>2</th>\n",
       "      <td>2017-08-28 20:02:01.905</td>\n",
       "      <td>Moto G4 Plus</td>\n",
       "      <td>BR</td>\n",
       "      <td>ativacao</td>\n",
       "      <td>63</td>\n",
       "      <td>{}</td>\n",
       "      <td>1111</td>\n",
       "      <td>2017-08-28</td>\n",
       "    </tr>\n",
       "    <tr>\n",
       "      <th>10</th>\n",
       "      <td>2017-08-28 21:00:18.964</td>\n",
       "      <td>Moto G4 Plus</td>\n",
       "      <td>BR</td>\n",
       "      <td>ativacao</td>\n",
       "      <td>107</td>\n",
       "      <td>{}</td>\n",
       "      <td>1111</td>\n",
       "      <td>2017-08-28</td>\n",
       "    </tr>\n",
       "    <tr>\n",
       "      <th>11</th>\n",
       "      <td>2017-08-28 21:00:18.964</td>\n",
       "      <td>Moto G4 Plus</td>\n",
       "      <td>BR</td>\n",
       "      <td>uncaught</td>\n",
       "      <td>66356</td>\n",
       "      <td>{}</td>\n",
       "      <td>1111</td>\n",
       "      <td>2017-08-28</td>\n",
       "    </tr>\n",
       "    <tr>\n",
       "      <th>12</th>\n",
       "      <td>2017-08-28 21:00:18.964</td>\n",
       "      <td>Moto G4 Plus</td>\n",
       "      <td>BR</td>\n",
       "      <td>ativacao</td>\n",
       "      <td>8106</td>\n",
       "      <td>{}</td>\n",
       "      <td>1111</td>\n",
       "      <td>2017-08-28</td>\n",
       "    </tr>\n",
       "    <tr>\n",
       "      <th>13</th>\n",
       "      <td>2017-08-28 21:00:18.964</td>\n",
       "      <td>Moto G4 Plus</td>\n",
       "      <td>BR</td>\n",
       "      <td>ativacao</td>\n",
       "      <td>14168</td>\n",
       "      <td>{}</td>\n",
       "      <td>1111</td>\n",
       "      <td>2017-08-28</td>\n",
       "    </tr>\n",
       "  </tbody>\n",
       "</table>\n",
       "</div>"
      ],
      "text/plain": [
       "          sessionTimestamp   deviceModel countryISO eventName eventOffset  \\\n",
       "2  2017-08-28 20:02:01.905  Moto G4 Plus         BR  ativacao          63   \n",
       "10 2017-08-28 21:00:18.964  Moto G4 Plus         BR  ativacao         107   \n",
       "11 2017-08-28 21:00:18.964  Moto G4 Plus         BR  uncaught       66356   \n",
       "12 2017-08-28 21:00:18.964  Moto G4 Plus         BR  ativacao        8106   \n",
       "13 2017-08-28 21:00:18.964  Moto G4 Plus         BR  ativacao       14168   \n",
       "\n",
       "   eventParameters userId   eventDate  \n",
       "2               {}   1111  2017-08-28  \n",
       "10              {}   1111  2017-08-28  \n",
       "11              {}   1111  2017-08-28  \n",
       "12              {}   1111  2017-08-28  \n",
       "13              {}   1111  2017-08-28  "
      ]
     },
     "execution_count": 18,
     "metadata": {},
     "output_type": "execute_result"
    }
   ],
   "source": [
    "df.head()"
   ]
  },
  {
   "cell_type": "code",
   "execution_count": 19,
   "metadata": {},
   "outputs": [],
   "source": [
    "events_per_user = df[['eventDate','userId','eventName', 'eventOffset']].\\\n",
    "                  groupby(['eventDate', 'userId', 'eventName'], as_index=False).agg({'eventOffset': 'count'})\n",
    "events_per_user.columns = ['eventDate', 'userId', 'eventName', 'eventOccurrences']"
   ]
  },
  {
   "cell_type": "code",
   "execution_count": 20,
   "metadata": {},
   "outputs": [
    {
     "data": {
      "text/html": [
       "<div>\n",
       "<style scoped>\n",
       "    .dataframe tbody tr th:only-of-type {\n",
       "        vertical-align: middle;\n",
       "    }\n",
       "\n",
       "    .dataframe tbody tr th {\n",
       "        vertical-align: top;\n",
       "    }\n",
       "\n",
       "    .dataframe thead th {\n",
       "        text-align: right;\n",
       "    }\n",
       "</style>\n",
       "<table border=\"1\" class=\"dataframe\">\n",
       "  <thead>\n",
       "    <tr style=\"text-align: right;\">\n",
       "      <th></th>\n",
       "      <th>eventDate</th>\n",
       "      <th>userId</th>\n",
       "      <th>eventName</th>\n",
       "      <th>eventOccurrences</th>\n",
       "    </tr>\n",
       "  </thead>\n",
       "  <tbody>\n",
       "    <tr>\n",
       "      <th>0</th>\n",
       "      <td>2017-08-28</td>\n",
       "      <td>1111</td>\n",
       "      <td>ativacao</td>\n",
       "      <td>6</td>\n",
       "    </tr>\n",
       "    <tr>\n",
       "      <th>1</th>\n",
       "      <td>2017-08-28</td>\n",
       "      <td>1111</td>\n",
       "      <td>uncaught</td>\n",
       "      <td>2</td>\n",
       "    </tr>\n",
       "    <tr>\n",
       "      <th>2</th>\n",
       "      <td>2017-10-02</td>\n",
       "      <td>123</td>\n",
       "      <td>Opened</td>\n",
       "      <td>9</td>\n",
       "    </tr>\n",
       "    <tr>\n",
       "      <th>3</th>\n",
       "      <td>2017-10-02</td>\n",
       "      <td>123</td>\n",
       "      <td>donate</td>\n",
       "      <td>2</td>\n",
       "    </tr>\n",
       "    <tr>\n",
       "      <th>4</th>\n",
       "      <td>2017-10-02</td>\n",
       "      <td>123</td>\n",
       "      <td>onBoardingStage</td>\n",
       "      <td>3</td>\n",
       "    </tr>\n",
       "  </tbody>\n",
       "</table>\n",
       "</div>"
      ],
      "text/plain": [
       "    eventDate userId        eventName  eventOccurrences\n",
       "0  2017-08-28   1111         ativacao                 6\n",
       "1  2017-08-28   1111         uncaught                 2\n",
       "2  2017-10-02    123           Opened                 9\n",
       "3  2017-10-02    123           donate                 2\n",
       "4  2017-10-02    123  onBoardingStage                 3"
      ]
     },
     "execution_count": 20,
     "metadata": {},
     "output_type": "execute_result"
    }
   ],
   "source": [
    "events_per_user.head()"
   ]
  },
  {
   "cell_type": "code",
   "execution_count": 21,
   "metadata": {},
   "outputs": [],
   "source": [
    "events_per_user = events_per_user.\\\n",
    "                  pivot_table(index=['eventDate', 'userId'], columns='eventName', values='eventOccurrences').\\\n",
    "                  reset_index().fillna(0)"
   ]
  },
  {
   "cell_type": "code",
   "execution_count": 29,
   "metadata": {},
   "outputs": [
    {
     "name": "stdout",
     "output_type": "stream",
     "text": [
      "<class 'pandas.core.frame.DataFrame'>\n",
      "RangeIndex: 3805376 entries, 0 to 3805375\n",
      "Columns: 203 entries, eventDate to uncaught\n",
      "dtypes: float64(201), object(2)\n",
      "memory usage: 5.8+ GB\n"
     ]
    }
   ],
   "source": [
    "events_per_user.info()"
   ]
  },
  {
   "cell_type": "code",
   "execution_count": 32,
   "metadata": {},
   "outputs": [
    {
     "data": {
      "text/html": [
       "<div>\n",
       "<style scoped>\n",
       "    .dataframe tbody tr th:only-of-type {\n",
       "        vertical-align: middle;\n",
       "    }\n",
       "\n",
       "    .dataframe tbody tr th {\n",
       "        vertical-align: top;\n",
       "    }\n",
       "\n",
       "    .dataframe thead th {\n",
       "        text-align: right;\n",
       "    }\n",
       "</style>\n",
       "<table border=\"1\" class=\"dataframe\">\n",
       "  <thead>\n",
       "    <tr style=\"text-align: right;\">\n",
       "      <th>eventName</th>\n",
       "      <th>eventDate</th>\n",
       "      <th>userId</th>\n",
       "      <th>ActivedNotificationIOS</th>\n",
       "      <th>ApparedMessageWrongLogin</th>\n",
       "      <th>AssociatedWithFacebook</th>\n",
       "      <th>ClickedAdAfterDonate</th>\n",
       "      <th>ClickedAdBeforeDonate</th>\n",
       "      <th>ClickedAdMoreInfo</th>\n",
       "      <th>ClickedBadgesList</th>\n",
       "      <th>ClickedBadgesUnupdated</th>\n",
       "      <th>...</th>\n",
       "      <th>rcdloi-ok</th>\n",
       "      <th>referrer</th>\n",
       "      <th>reportError</th>\n",
       "      <th>requestDeleteAccount</th>\n",
       "      <th>selectImpact</th>\n",
       "      <th>skipTutorialFromOnBoarding</th>\n",
       "      <th>test-referral-64</th>\n",
       "      <th>test-referral-70</th>\n",
       "      <th>test-referral-87</th>\n",
       "      <th>uncaught</th>\n",
       "    </tr>\n",
       "  </thead>\n",
       "  <tbody>\n",
       "    <tr>\n",
       "      <th>0</th>\n",
       "      <td>2017-08-28</td>\n",
       "      <td>1111</td>\n",
       "      <td>0.0</td>\n",
       "      <td>0.0</td>\n",
       "      <td>0.0</td>\n",
       "      <td>0.0</td>\n",
       "      <td>0.0</td>\n",
       "      <td>0.0</td>\n",
       "      <td>0.0</td>\n",
       "      <td>0.0</td>\n",
       "      <td>...</td>\n",
       "      <td>0.0</td>\n",
       "      <td>0.0</td>\n",
       "      <td>0.0</td>\n",
       "      <td>0.0</td>\n",
       "      <td>0.0</td>\n",
       "      <td>0.0</td>\n",
       "      <td>0.0</td>\n",
       "      <td>0.0</td>\n",
       "      <td>0.0</td>\n",
       "      <td>2.0</td>\n",
       "    </tr>\n",
       "    <tr>\n",
       "      <th>1</th>\n",
       "      <td>2017-10-02</td>\n",
       "      <td>123</td>\n",
       "      <td>0.0</td>\n",
       "      <td>0.0</td>\n",
       "      <td>0.0</td>\n",
       "      <td>0.0</td>\n",
       "      <td>0.0</td>\n",
       "      <td>0.0</td>\n",
       "      <td>0.0</td>\n",
       "      <td>0.0</td>\n",
       "      <td>...</td>\n",
       "      <td>0.0</td>\n",
       "      <td>0.0</td>\n",
       "      <td>0.0</td>\n",
       "      <td>0.0</td>\n",
       "      <td>0.0</td>\n",
       "      <td>0.0</td>\n",
       "      <td>0.0</td>\n",
       "      <td>0.0</td>\n",
       "      <td>0.0</td>\n",
       "      <td>2.0</td>\n",
       "    </tr>\n",
       "    <tr>\n",
       "      <th>2</th>\n",
       "      <td>2017-10-02</td>\n",
       "      <td>6</td>\n",
       "      <td>0.0</td>\n",
       "      <td>0.0</td>\n",
       "      <td>0.0</td>\n",
       "      <td>0.0</td>\n",
       "      <td>0.0</td>\n",
       "      <td>0.0</td>\n",
       "      <td>0.0</td>\n",
       "      <td>0.0</td>\n",
       "      <td>...</td>\n",
       "      <td>0.0</td>\n",
       "      <td>0.0</td>\n",
       "      <td>0.0</td>\n",
       "      <td>0.0</td>\n",
       "      <td>0.0</td>\n",
       "      <td>0.0</td>\n",
       "      <td>0.0</td>\n",
       "      <td>0.0</td>\n",
       "      <td>0.0</td>\n",
       "      <td>1.0</td>\n",
       "    </tr>\n",
       "    <tr>\n",
       "      <th>3</th>\n",
       "      <td>2017-10-02</td>\n",
       "      <td>7</td>\n",
       "      <td>0.0</td>\n",
       "      <td>0.0</td>\n",
       "      <td>0.0</td>\n",
       "      <td>0.0</td>\n",
       "      <td>0.0</td>\n",
       "      <td>0.0</td>\n",
       "      <td>0.0</td>\n",
       "      <td>0.0</td>\n",
       "      <td>...</td>\n",
       "      <td>0.0</td>\n",
       "      <td>0.0</td>\n",
       "      <td>0.0</td>\n",
       "      <td>0.0</td>\n",
       "      <td>0.0</td>\n",
       "      <td>0.0</td>\n",
       "      <td>0.0</td>\n",
       "      <td>0.0</td>\n",
       "      <td>0.0</td>\n",
       "      <td>3.0</td>\n",
       "    </tr>\n",
       "    <tr>\n",
       "      <th>4</th>\n",
       "      <td>2017-10-03</td>\n",
       "      <td>6</td>\n",
       "      <td>0.0</td>\n",
       "      <td>0.0</td>\n",
       "      <td>0.0</td>\n",
       "      <td>0.0</td>\n",
       "      <td>0.0</td>\n",
       "      <td>0.0</td>\n",
       "      <td>0.0</td>\n",
       "      <td>0.0</td>\n",
       "      <td>...</td>\n",
       "      <td>0.0</td>\n",
       "      <td>0.0</td>\n",
       "      <td>0.0</td>\n",
       "      <td>0.0</td>\n",
       "      <td>0.0</td>\n",
       "      <td>0.0</td>\n",
       "      <td>0.0</td>\n",
       "      <td>0.0</td>\n",
       "      <td>0.0</td>\n",
       "      <td>0.0</td>\n",
       "    </tr>\n",
       "  </tbody>\n",
       "</table>\n",
       "<p>5 rows × 203 columns</p>\n",
       "</div>"
      ],
      "text/plain": [
       "eventName   eventDate userId  ActivedNotificationIOS  \\\n",
       "0          2017-08-28   1111                     0.0   \n",
       "1          2017-10-02    123                     0.0   \n",
       "2          2017-10-02      6                     0.0   \n",
       "3          2017-10-02      7                     0.0   \n",
       "4          2017-10-03      6                     0.0   \n",
       "\n",
       "eventName  ApparedMessageWrongLogin  AssociatedWithFacebook  \\\n",
       "0                               0.0                     0.0   \n",
       "1                               0.0                     0.0   \n",
       "2                               0.0                     0.0   \n",
       "3                               0.0                     0.0   \n",
       "4                               0.0                     0.0   \n",
       "\n",
       "eventName  ClickedAdAfterDonate  ClickedAdBeforeDonate  ClickedAdMoreInfo  \\\n",
       "0                           0.0                    0.0                0.0   \n",
       "1                           0.0                    0.0                0.0   \n",
       "2                           0.0                    0.0                0.0   \n",
       "3                           0.0                    0.0                0.0   \n",
       "4                           0.0                    0.0                0.0   \n",
       "\n",
       "eventName  ClickedBadgesList  ClickedBadgesUnupdated  ...  rcdloi-ok  \\\n",
       "0                        0.0                     0.0  ...        0.0   \n",
       "1                        0.0                     0.0  ...        0.0   \n",
       "2                        0.0                     0.0  ...        0.0   \n",
       "3                        0.0                     0.0  ...        0.0   \n",
       "4                        0.0                     0.0  ...        0.0   \n",
       "\n",
       "eventName  referrer  reportError  requestDeleteAccount  selectImpact  \\\n",
       "0               0.0          0.0                   0.0           0.0   \n",
       "1               0.0          0.0                   0.0           0.0   \n",
       "2               0.0          0.0                   0.0           0.0   \n",
       "3               0.0          0.0                   0.0           0.0   \n",
       "4               0.0          0.0                   0.0           0.0   \n",
       "\n",
       "eventName  skipTutorialFromOnBoarding  test-referral-64  test-referral-70  \\\n",
       "0                                 0.0               0.0               0.0   \n",
       "1                                 0.0               0.0               0.0   \n",
       "2                                 0.0               0.0               0.0   \n",
       "3                                 0.0               0.0               0.0   \n",
       "4                                 0.0               0.0               0.0   \n",
       "\n",
       "eventName  test-referral-87  uncaught  \n",
       "0                       0.0       2.0  \n",
       "1                       0.0       2.0  \n",
       "2                       0.0       1.0  \n",
       "3                       0.0       3.0  \n",
       "4                       0.0       0.0  \n",
       "\n",
       "[5 rows x 203 columns]"
      ]
     },
     "execution_count": 32,
     "metadata": {},
     "output_type": "execute_result"
    }
   ],
   "source": [
    "events_per_user.head()"
   ]
  },
  {
   "cell_type": "code",
   "execution_count": 31,
   "metadata": {},
   "outputs": [
    {
     "data": {
      "text/plain": [
       "210251"
      ]
     },
     "execution_count": 31,
     "metadata": {},
     "output_type": "execute_result"
    }
   ],
   "source": [
    "events_per_user.userId.nunique()"
   ]
  },
  {
   "cell_type": "code",
   "execution_count": 33,
   "metadata": {},
   "outputs": [
    {
     "data": {
      "text/html": [
       "<div>\n",
       "<style scoped>\n",
       "    .dataframe tbody tr th:only-of-type {\n",
       "        vertical-align: middle;\n",
       "    }\n",
       "\n",
       "    .dataframe tbody tr th {\n",
       "        vertical-align: top;\n",
       "    }\n",
       "\n",
       "    .dataframe thead th {\n",
       "        text-align: right;\n",
       "    }\n",
       "</style>\n",
       "<table border=\"1\" class=\"dataframe\">\n",
       "  <thead>\n",
       "    <tr style=\"text-align: right;\">\n",
       "      <th>eventName</th>\n",
       "      <th>userId</th>\n",
       "      <th>eventDate</th>\n",
       "      <th>donate</th>\n",
       "    </tr>\n",
       "  </thead>\n",
       "  <tbody>\n",
       "    <tr>\n",
       "      <th>0</th>\n",
       "      <td>1111</td>\n",
       "      <td>2017-08-28</td>\n",
       "      <td>0.0</td>\n",
       "    </tr>\n",
       "    <tr>\n",
       "      <th>1</th>\n",
       "      <td>123</td>\n",
       "      <td>2017-10-02</td>\n",
       "      <td>2.0</td>\n",
       "    </tr>\n",
       "    <tr>\n",
       "      <th>2</th>\n",
       "      <td>6</td>\n",
       "      <td>2017-10-02</td>\n",
       "      <td>0.0</td>\n",
       "    </tr>\n",
       "    <tr>\n",
       "      <th>3</th>\n",
       "      <td>7</td>\n",
       "      <td>2017-10-02</td>\n",
       "      <td>0.0</td>\n",
       "    </tr>\n",
       "    <tr>\n",
       "      <th>4</th>\n",
       "      <td>6</td>\n",
       "      <td>2017-10-03</td>\n",
       "      <td>0.0</td>\n",
       "    </tr>\n",
       "    <tr>\n",
       "      <th>5</th>\n",
       "      <td>7</td>\n",
       "      <td>2017-10-03</td>\n",
       "      <td>0.0</td>\n",
       "    </tr>\n",
       "    <tr>\n",
       "      <th>6</th>\n",
       "      <td>4</td>\n",
       "      <td>2017-10-04</td>\n",
       "      <td>1.0</td>\n",
       "    </tr>\n",
       "    <tr>\n",
       "      <th>7</th>\n",
       "      <td>6</td>\n",
       "      <td>2017-10-04</td>\n",
       "      <td>0.0</td>\n",
       "    </tr>\n",
       "    <tr>\n",
       "      <th>8</th>\n",
       "      <td>7</td>\n",
       "      <td>2017-10-04</td>\n",
       "      <td>0.0</td>\n",
       "    </tr>\n",
       "    <tr>\n",
       "      <th>9</th>\n",
       "      <td>9</td>\n",
       "      <td>2017-10-04</td>\n",
       "      <td>0.0</td>\n",
       "    </tr>\n",
       "  </tbody>\n",
       "</table>\n",
       "</div>"
      ],
      "text/plain": [
       "eventName userId   eventDate  donate\n",
       "0           1111  2017-08-28     0.0\n",
       "1            123  2017-10-02     2.0\n",
       "2              6  2017-10-02     0.0\n",
       "3              7  2017-10-02     0.0\n",
       "4              6  2017-10-03     0.0\n",
       "5              7  2017-10-03     0.0\n",
       "6              4  2017-10-04     1.0\n",
       "7              6  2017-10-04     0.0\n",
       "8              7  2017-10-04     0.0\n",
       "9              9  2017-10-04     0.0"
      ]
     },
     "execution_count": 33,
     "metadata": {},
     "output_type": "execute_result"
    }
   ],
   "source": [
    "# Analisando as primeiras linhas, mas de um evento específico\n",
    "events_per_user[['userId', 'eventDate', 'donate']].head(10)"
   ]
  },
  {
   "cell_type": "code",
   "execution_count": 34,
   "metadata": {},
   "outputs": [],
   "source": [
    "# salvando o arquivo de eventos por usuário\n",
    "events_per_user.to_csv(file_csv_events_per_user, index=False)"
   ]
  },
  {
   "cell_type": "markdown",
   "metadata": {},
   "source": [
    "### Criando o dataframe de usuários"
   ]
  },
  {
   "cell_type": "code",
   "execution_count": 35,
   "metadata": {
    "scrolled": true
   },
   "outputs": [
    {
     "name": "stdout",
     "output_type": "stream",
     "text": [
      "(210251, 2)\n",
      "CPU times: user 1min 12s, sys: 5.92 s, total: 1min 18s\n",
      "Wall time: 1min 23s\n"
     ]
    },
    {
     "data": {
      "text/html": [
       "<div>\n",
       "<style scoped>\n",
       "    .dataframe tbody tr th:only-of-type {\n",
       "        vertical-align: middle;\n",
       "    }\n",
       "\n",
       "    .dataframe tbody tr th {\n",
       "        vertical-align: top;\n",
       "    }\n",
       "\n",
       "    .dataframe thead th {\n",
       "        text-align: right;\n",
       "    }\n",
       "</style>\n",
       "<table border=\"1\" class=\"dataframe\">\n",
       "  <thead>\n",
       "    <tr style=\"text-align: right;\">\n",
       "      <th></th>\n",
       "      <th>deviceModel</th>\n",
       "      <th>countryISO</th>\n",
       "    </tr>\n",
       "    <tr>\n",
       "      <th>userId</th>\n",
       "      <th></th>\n",
       "      <th></th>\n",
       "    </tr>\n",
       "  </thead>\n",
       "  <tbody>\n",
       "    <tr>\n",
       "      <th>1</th>\n",
       "      <td>Galaxy J5 Prime</td>\n",
       "      <td>BR</td>\n",
       "    </tr>\n",
       "    <tr>\n",
       "      <th>10</th>\n",
       "      <td>iOS Emulator</td>\n",
       "      <td>BR</td>\n",
       "    </tr>\n",
       "    <tr>\n",
       "      <th>100</th>\n",
       "      <td>Moto Z (2) Play</td>\n",
       "      <td>BR</td>\n",
       "    </tr>\n",
       "    <tr>\n",
       "      <th>1000</th>\n",
       "      <td>Nexus 5</td>\n",
       "      <td>BR</td>\n",
       "    </tr>\n",
       "    <tr>\n",
       "      <th>10000</th>\n",
       "      <td>Q6</td>\n",
       "      <td>BR</td>\n",
       "    </tr>\n",
       "  </tbody>\n",
       "</table>\n",
       "</div>"
      ],
      "text/plain": [
       "            deviceModel countryISO\n",
       "userId                            \n",
       "1       Galaxy J5 Prime         BR\n",
       "10         iOS Emulator         BR\n",
       "100     Moto Z (2) Play         BR\n",
       "1000            Nexus 5         BR\n",
       "10000                Q6         BR"
      ]
     },
     "execution_count": 35,
     "metadata": {},
     "output_type": "execute_result"
    }
   ],
   "source": [
    "%%time\n",
    "# Serão usados as colunas deviceModel e countryISO.\n",
    "# Será capturada para cada usuário a moda de cada coluna, ou seja, o valor mais recorrente\n",
    "users = df[['userId','deviceModel', 'countryISO']].groupby(['userId']).agg(pd.Series.mode)\n",
    "print(users.shape)\n",
    "users.head()"
   ]
  },
  {
   "cell_type": "code",
   "execution_count": 36,
   "metadata": {},
   "outputs": [],
   "source": [
    "# Salavando em um arquivo de usuários\n",
    "users.to_csv(file_csv_users)"
   ]
  },
  {
   "cell_type": "markdown",
   "metadata": {},
   "source": [
    "### Criando o dataframe de eventos"
   ]
  },
  {
   "cell_type": "code",
   "execution_count": 37,
   "metadata": {},
   "outputs": [
    {
     "data": {
      "text/plain": [
       "201"
      ]
     },
     "execution_count": 37,
     "metadata": {},
     "output_type": "execute_result"
    }
   ],
   "source": [
    "# definindo duas matrizes uma com as colunas que são de eventos e a outra que não são\n",
    "NO_EVENTS = ['userId', 'eventDate']\n",
    "EVENTS = [c for c in events_per_user.columns if c not in NO_EVENTS]\n",
    "len(EVENTS)"
   ]
  },
  {
   "cell_type": "code",
   "execution_count": 39,
   "metadata": {},
   "outputs": [],
   "source": [
    "del df"
   ]
  },
  {
   "cell_type": "code",
   "execution_count": 44,
   "metadata": {},
   "outputs": [],
   "source": [
    "# transformando a coluna sessionTimestamp em formato de data\n",
    "events_per_user['eventDate'] = pd.to_datetime(events_per_user.eventDate)"
   ]
  },
  {
   "cell_type": "code",
   "execution_count": 46,
   "metadata": {},
   "outputs": [
    {
     "data": {
      "text/plain": [
       "((201, 4),\n",
       "                   eventName firstOccurrence lastOccurrence  intervalOccurrence\n",
       " 0    ActivedNotificationIOS      2019-09-27     2019-10-17                20.0\n",
       " 1  ApparedMessageWrongLogin      2019-10-14     2019-12-03                50.0\n",
       " 2    AssociatedWithFacebook      2018-09-13     2020-03-14               548.0\n",
       " 3      ClickedAdAfterDonate      2018-09-18     2020-04-16               576.0\n",
       " 4     ClickedAdBeforeDonate      2018-09-17     2020-04-16               577.0)"
      ]
     },
     "execution_count": 46,
     "metadata": {},
     "output_type": "execute_result"
    }
   ],
   "source": [
    "# Vamos criar 3 features para cada evento: firstOccurrence', 'lastOccurrence', 'intervalOccurrence'\n",
    "\n",
    "# iniciando o DataFrame de eventos, com as colunas selecionadas para a analise\n",
    "events = pd.DataFrame(columns=['eventName', 'firstOccurrence', 'lastOccurrence', 'intervalOccurrence'])\n",
    "\n",
    "# para cada evento é criado uma linha com o calculo das datas e do intervalo\n",
    "for e in EVENTS:\n",
    "    \n",
    "    firstOccurrence = events_per_user.eventDate[events_per_user[e] > 0].sort_values().iloc[0]\n",
    "    lastOccurrence = events_per_user.eventDate[events_per_user[e] > 0].sort_values().iloc[-1]\n",
    "    \n",
    "    events = events.append({'eventName': e,\n",
    "                              'firstOccurrence': firstOccurrence,\n",
    "                              'lastOccurrence': lastOccurrence,\n",
    "                              'intervalOccurrence': lastOccurrence - firstOccurrence},\n",
    "                              ignore_index=True)\n",
    "    \n",
    "# Converte o intervalo de Timedelta para float\n",
    "events.intervalOccurrence = events.intervalOccurrence.apply(lambda x: float(x.days))\n",
    "\n",
    "events.shape, events.head()"
   ]
  },
  {
   "cell_type": "code",
   "execution_count": 47,
   "metadata": {},
   "outputs": [
    {
     "data": {
      "text/plain": [
       "((201, 33),\n",
       " Index(['2017-08', '2017-09', '2017-10', '2017-11', '2017-12', '2018-01',\n",
       "        '2018-02', '2018-03', '2018-04', '2018-05', '2018-06', '2018-07',\n",
       "        '2018-08', '2018-09', '2018-10', '2018-11', '2018-12', '2019-01',\n",
       "        '2019-02', '2019-03', '2019-04', '2019-05', '2019-06', '2019-07',\n",
       "        '2019-08', '2019-09', '2019-10', '2019-11', '2019-12', '2020-01',\n",
       "        '2020-02', '2020-03', '2020-04'],\n",
       "       dtype='object'),\n",
       "                           2017-08  2017-09  2017-10  2017-11  2017-12  \\\n",
       " eventName                                                               \n",
       " ActivedNotificationIOS        0.0      0.0      0.0      0.0      0.0   \n",
       " ApparedMessageWrongLogin      0.0      0.0      0.0      0.0      0.0   \n",
       " AssociatedWithFacebook        0.0      0.0      0.0      0.0      0.0   \n",
       " ClickedAdAfterDonate          0.0      0.0      0.0      0.0      0.0   \n",
       " ClickedAdBeforeDonate         0.0      0.0      0.0      0.0      0.0   \n",
       " \n",
       "                           2018-01  2018-02  2018-03  2018-04  2018-05  ...  \\\n",
       " eventName                                                              ...   \n",
       " ActivedNotificationIOS        0.0      0.0      0.0      0.0      0.0  ...   \n",
       " ApparedMessageWrongLogin      0.0      0.0      0.0      0.0      0.0  ...   \n",
       " AssociatedWithFacebook        0.0      0.0      0.0      0.0      0.0  ...   \n",
       " ClickedAdAfterDonate          0.0      0.0      0.0      0.0      0.0  ...   \n",
       " ClickedAdBeforeDonate         0.0      0.0      0.0      0.0      0.0  ...   \n",
       " \n",
       "                           2019-07  2019-08  2019-09  2019-10  2019-11  \\\n",
       " eventName                                                               \n",
       " ActivedNotificationIOS        0.0      0.0      9.0     19.0      0.0   \n",
       " ApparedMessageWrongLogin      0.0      0.0      0.0     22.0      9.0   \n",
       " AssociatedWithFacebook     3475.0   8586.0   3382.0   4443.0    169.0   \n",
       " ClickedAdAfterDonate         90.0    158.0     97.0     89.0     30.0   \n",
       " ClickedAdBeforeDonate       588.0   1079.0    551.0    602.0    324.0   \n",
       " \n",
       "                           2019-12  2020-01  2020-02  2020-03  2020-04  \n",
       " eventName                                                              \n",
       " ActivedNotificationIOS        0.0      0.0      0.0      0.0      0.0  \n",
       " ApparedMessageWrongLogin      3.0      0.0      0.0      0.0      0.0  \n",
       " AssociatedWithFacebook       18.0      0.0      1.0      1.0      0.0  \n",
       " ClickedAdAfterDonate         66.0     45.0     68.0     60.0     50.0  \n",
       " ClickedAdBeforeDonate       338.0    321.0    674.0    822.0    586.0  \n",
       " \n",
       " [5 rows x 33 columns])"
      ]
     },
     "execution_count": 47,
     "metadata": {},
     "output_type": "execute_result"
    }
   ],
   "source": [
    "# definindo uma matriz para definir as colunas que serão usadas (filtradas) antes do resample\n",
    "# basicamente adicionando o eventDate com a matriz EVENTS\n",
    "colunas = EVENTS\n",
    "colunas.append('eventDate')\n",
    "\n",
    "# cria um novo dataframe com a somatória mensal de eventos.\n",
    "# de forma que os eventos ficam nas linhas e os meses na coluna\n",
    "eventos_mes = events_per_user[colunas].resample('M', on='eventDate').sum().transpose()\n",
    "\n",
    "# renomeia as colunas do dataframa só com os dados do ano e mês\n",
    "eventos_mes.columns = [str(m.date())[:7] for m in eventos_mes.columns]\n",
    "\n",
    "eventos_mes.shape, eventos_mes.columns, eventos_mes.head()"
   ]
  },
  {
   "cell_type": "code",
   "execution_count": 48,
   "metadata": {},
   "outputs": [
    {
     "data": {
      "text/plain": [
       "((201, 37),\n",
       "            eventName firstOccurrence lastOccurrence  intervalOccurrence  \\\n",
       " 200         uncaught      2017-08-28     2020-04-16               962.0   \n",
       " 145         ativacao      2017-08-28     2017-08-28                 0.0   \n",
       " 78            Opened      2017-10-02     2020-04-13               924.0   \n",
       " 164  onBoardingStage      2017-10-02     2019-05-27               602.0   \n",
       " 169      openCurtain      2017-10-02     2020-01-16               836.0   \n",
       " \n",
       "      2017-08  2017-09  2017-10  2017-11  2017-12  2018-01  ...  2019-07  \\\n",
       " 200      2.0      0.0     89.0    220.0    164.0     39.0  ...  17201.0   \n",
       " 145      6.0      0.0      0.0      0.0      0.0      0.0  ...      0.0   \n",
       " 78       0.0      0.0   3811.0   5496.0   7167.0   8718.0  ...     48.0   \n",
       " 164      0.0      0.0    969.0    653.0   2547.0   3124.0  ...      0.0   \n",
       " 169      0.0      0.0   2262.0   2611.0   3513.0   3444.0  ...     14.0   \n",
       " \n",
       "      2019-08  2019-09  2019-10   2019-11  2019-12  2020-01  2020-02  2020-03  \\\n",
       " 200  35093.0  33396.0  65754.0  111627.0  11675.0   3887.0    527.0   1308.0   \n",
       " 145      0.0      0.0      0.0       0.0      0.0      0.0      0.0      0.0   \n",
       " 78      22.0     13.0     10.0      12.0      7.0      6.0      0.0      5.0   \n",
       " 164      0.0      0.0      0.0       0.0      0.0      0.0      0.0      0.0   \n",
       " 169     13.0      2.0      4.0       2.0      0.0      5.0      0.0      0.0   \n",
       " \n",
       "      2020-04  \n",
       " 200   1512.0  \n",
       " 145      0.0  \n",
       " 78       2.0  \n",
       " 164      0.0  \n",
       " 169      0.0  \n",
       " \n",
       " [5 rows x 37 columns])"
      ]
     },
     "execution_count": 48,
     "metadata": {},
     "output_type": "execute_result"
    }
   ],
   "source": [
    "# juntando os dataframes eventos e o eventos_mes\n",
    "events = events.sort_values(by=['firstOccurrence'], ascending=True).join(eventos_mes, on= 'eventName')\n",
    "events.shape, events.head()"
   ]
  },
  {
   "cell_type": "code",
   "execution_count": 52,
   "metadata": {},
   "outputs": [],
   "source": [
    "# salvando o arquivo de eventos \n",
    "events.to_csv(file_csv_events, index=False)"
   ]
  }
 ],
 "metadata": {
  "kernelspec": {
   "display_name": "Python 3",
   "language": "python",
   "name": "python3"
  },
  "language_info": {
   "codemirror_mode": {
    "name": "ipython",
    "version": 3
   },
   "file_extension": ".py",
   "mimetype": "text/x-python",
   "name": "python",
   "nbconvert_exporter": "python",
   "pygments_lexer": "ipython3",
   "version": "3.7.7"
  }
 },
 "nbformat": 4,
 "nbformat_minor": 2
}
